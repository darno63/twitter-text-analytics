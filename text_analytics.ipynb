{
  "nbformat": 4,
  "nbformat_minor": 0,
  "metadata": {
    "colab": {
      "name": "text-analytics.ipynb",
      "provenance": [],
      "collapsed_sections": []
    },
    "kernelspec": {
      "name": "python3",
      "display_name": "Python 3"
    },
    "language_info": {
      "name": "python"
    }
  },
  "cells": [
    {
      "cell_type": "markdown",
      "metadata": {
        "id": "MnsLQIhzEuZO"
      },
      "source": [
        "# Team: GPA 4.1\n",
        "### Dave Arno, Animesh Danayak, Michael Harris, Dhwani Mehta\n",
        "\n"
      ]
    },
    {
      "cell_type": "code",
      "metadata": {
        "id": "O9ap05EeiTmi",
        "colab": {
          "base_uri": "https://localhost:8080/"
        },
        "outputId": "545e9a9d-5271-4163-eb7b-2affe7d19d61"
      },
      "source": [
        "from google.colab import drive\n",
        "drive.mount('/content/drive')"
      ],
      "execution_count": null,
      "outputs": [
        {
          "output_type": "stream",
          "text": [
            "Drive already mounted at /content/drive; to attempt to forcibly remount, call drive.mount(\"/content/drive\", force_remount=True).\n"
          ],
          "name": "stdout"
        }
      ]
    },
    {
      "cell_type": "code",
      "metadata": {
        "id": "Si1anKykh2xU"
      },
      "source": [
        "!cp \"/content/drive/Shareddrives/423 Drive/Kafka/.env\" ."
      ],
      "execution_count": null,
      "outputs": []
    },
    {
      "cell_type": "code",
      "metadata": {
        "id": "sUIzGXHyjYsm"
      },
      "source": [
        "!pip install -q elasticsearch_dsl\n",
        "!pip install -q python-dotenv"
      ],
      "execution_count": null,
      "outputs": []
    },
    {
      "cell_type": "code",
      "metadata": {
        "id": "tJ2DadV5iV_u"
      },
      "source": [
        "import os, json, time, re\n",
        "import pandas as pd\n",
        "from dotenv import load_dotenv\n",
        "from elasticsearch_dsl import Search\n",
        "from elasticsearch import Elasticsearch\n",
        "\n",
        "load_dotenv();"
      ],
      "execution_count": null,
      "outputs": []
    },
    {
      "cell_type": "code",
      "metadata": {
        "id": "cnhAOVwVk9WW"
      },
      "source": [
        "import numpy as np # linear algebra\n",
        "import pandas as pd # data processing, CSV file I/O (e.g. pd.read_csv)\n",
        "import os\n",
        "import re\n",
        "import nltk\n",
        "from nltk.tokenize import RegexpTokenizer\n",
        "from sklearn.feature_extraction.text import TfidfVectorizer\n",
        "from sklearn.feature_extraction import text \n",
        "from sklearn import decomposition\n",
        "from wordcloud import WordCloud \n",
        "import matplotlib.pyplot as plt\n",
        "from nltk import WordNetLemmatizer\n",
        "\n",
        "\n",
        "from textblob import TextBlob\n",
        "import sys\n",
        "import tweepy\n",
        "import matplotlib.pyplot as plt\n",
        "import pandas as pd\n",
        "import numpy as np\n",
        "import os\n",
        "import nltk\n",
        "import re\n",
        "import string\n",
        "from wordcloud import WordCloud, STOPWORDS\n",
        "from PIL import Image\n",
        "from nltk.sentiment.vader import SentimentIntensityAnalyzer\n",
        "from nltk.stem import SnowballStemmer\n",
        "from nltk.sentiment.vader import SentimentIntensityAnalyzer\n",
        "from sklearn.feature_extraction.text import CountVectorizer\n",
        "\n"
      ],
      "execution_count": null,
      "outputs": []
    },
    {
      "cell_type": "code",
      "metadata": {
        "id": "l3MV96GNkDGX"
      },
      "source": [
        "def elasticsearch_connect():\n",
        "  bonsai = os.environ['BONSAI_URL']\n",
        "  auth = re.search('https\\:\\/\\/(.*)\\@', bonsai).group(1).split(':')\n",
        "  host = bonsai.replace('https://%s:%s@' % (auth[0], auth[1]), '')\n",
        "  # optional port\n",
        "  match = re.search('(:\\d+)', host)\n",
        "  if match:\n",
        "    p = match.group(0)\n",
        "    host = host.replace(p, '')\n",
        "    port = int(p.split(':')[1])\n",
        "  else:\n",
        "    port=443\n",
        "  # Connect to cluster over SSL using auth for best security:\n",
        "  es_header = [{\n",
        "  'host': host,\n",
        "  'port': port,\n",
        "  'use_ssl': True,\n",
        "  'http_auth': (auth[0],auth[1])\n",
        "  }]\n",
        "  # Instantiate the new Elasticsearch connection:\n",
        "  es = Elasticsearch(es_header)\n",
        "  # Verify that Python can talk to Bonsai (optional):\n",
        "  es.ping()\n",
        "  return es"
      ],
      "execution_count": null,
      "outputs": []
    },
    {
      "cell_type": "code",
      "metadata": {
        "id": "R2gnZnStkgNb"
      },
      "source": [
        "def gather_data(topic):\n",
        "  es = elasticsearch_connect()\n",
        "  s = Search(using=es, index=topic)\n",
        "  df = pd.DataFrame([hit.to_dict() for hit in s.scan()])\n",
        "  hits = [hit.to_dict() for hit in s.scan()]\n",
        "  corpus = []\n",
        "  for hit in hits:\n",
        "    if hit['lang'] == 'en':\n",
        "      if 'retweeted_status' in hit:\n",
        "        if 'extended_tweet' in hit['retweeted_status']:\n",
        "          corpus.append(hit['retweeted_status']['extended_tweet']['full_text'])\n",
        "        else:\n",
        "          corpus.append(hit['retweeted_status']['text'])\n",
        "      elif 'extended_tweet' in hit:\n",
        "        corpus.append(hit['extended_tweet']['full_text'])\n",
        "      else:\n",
        "        corpus.append(hit['text'])\n",
        "  return corpus"
      ],
      "execution_count": null,
      "outputs": []
    },
    {
      "cell_type": "markdown",
      "metadata": {
        "id": "OApFFtHQ_vHi"
      },
      "source": [
        "**7.Twitter Text Analytics\n",
        "Perform basic text-mining on “Important Tweets” to understand what\n",
        "topics are trending on twitter.**\n"
      ]
    },
    {
      "cell_type": "code",
      "metadata": {
        "id": "2CAVaDYokxTP"
      },
      "source": [
        "vaccination_tweets =  \"vaccination_tweets\"\n",
        "important_tweets = \"important_tweets\"\n",
        "covid_tweets = \"covid_tweets\"\n",
        "imp_tweets = pd.DataFrame(gather_data(important_tweets))"
      ],
      "execution_count": null,
      "outputs": []
    },
    {
      "cell_type": "code",
      "metadata": {
        "id": "Sj_SLuT8d-uQ",
        "colab": {
          "base_uri": "https://localhost:8080/",
          "height": 195
        },
        "outputId": "1bb8a412-e325-437e-a737-d70c4b6f816f"
      },
      "source": [
        "imp_tweets.columns = ['tweets']\n",
        "imp_tweets.head()"
      ],
      "execution_count": null,
      "outputs": [
        {
          "output_type": "execute_result",
          "data": {
            "text/html": [
              "<div>\n",
              "<style scoped>\n",
              "    .dataframe tbody tr th:only-of-type {\n",
              "        vertical-align: middle;\n",
              "    }\n",
              "\n",
              "    .dataframe tbody tr th {\n",
              "        vertical-align: top;\n",
              "    }\n",
              "\n",
              "    .dataframe thead th {\n",
              "        text-align: right;\n",
              "    }\n",
              "</style>\n",
              "<table border=\"1\" class=\"dataframe\">\n",
              "  <thead>\n",
              "    <tr style=\"text-align: right;\">\n",
              "      <th></th>\n",
              "      <th>tweets</th>\n",
              "    </tr>\n",
              "  </thead>\n",
              "  <tbody>\n",
              "    <tr>\n",
              "      <th>0</th>\n",
              "      <td>@yhaa_sark’s Nkuto\\n\\nFor Stronger,moisturized...</td>\n",
              "    </tr>\n",
              "    <tr>\n",
              "      <th>1</th>\n",
              "      <td>@us_ignorance Look, Russia is fighting in Syri...</td>\n",
              "    </tr>\n",
              "    <tr>\n",
              "      <th>2</th>\n",
              "      <td>Congratulations DA💕</td>\n",
              "    </tr>\n",
              "    <tr>\n",
              "      <th>3</th>\n",
              "      <td>Dear @joelockhart: Just because the @GOP wants...</td>\n",
              "    </tr>\n",
              "    <tr>\n",
              "      <th>4</th>\n",
              "      <td>@unplasticday @SDG2030 @ConEdison @ConEdCEB @A...</td>\n",
              "    </tr>\n",
              "  </tbody>\n",
              "</table>\n",
              "</div>"
            ],
            "text/plain": [
              "                                              tweets\n",
              "0  @yhaa_sark’s Nkuto\\n\\nFor Stronger,moisturized...\n",
              "1  @us_ignorance Look, Russia is fighting in Syri...\n",
              "2                                Congratulations DA💕\n",
              "3  Dear @joelockhart: Just because the @GOP wants...\n",
              "4  @unplasticday @SDG2030 @ConEdison @ConEdCEB @A..."
            ]
          },
          "metadata": {
            "tags": []
          },
          "execution_count": 62
        }
      ]
    },
    {
      "cell_type": "markdown",
      "metadata": {
        "id": "TUKc1mY4l1NP"
      },
      "source": [
        "**Remove special characters and lower case letters**"
      ]
    },
    {
      "cell_type": "code",
      "metadata": {
        "colab": {
          "base_uri": "https://localhost:8080/",
          "height": 195
        },
        "id": "rIwG7QFblwsf",
        "outputId": "ec258054-33b1-4641-d4ad-2de009d25f2c"
      },
      "source": [
        "def clean_text(string_in):\n",
        "    string_in = re.sub(\"[^a-zA-Z]\", \" \", str(string_in))  # Replace all non-letters with spaces\n",
        "    string_in = string_in.lower()                         # Tranform to lower case    \n",
        "    \n",
        "    return string_in.strip()\n",
        "\n",
        "imp_tweets[\"tweets_cleaned\"] = imp_tweets.tweets.apply(clean_text)\n",
        "imp_tweets.head()"
      ],
      "execution_count": null,
      "outputs": [
        {
          "output_type": "execute_result",
          "data": {
            "text/html": [
              "<div>\n",
              "<style scoped>\n",
              "    .dataframe tbody tr th:only-of-type {\n",
              "        vertical-align: middle;\n",
              "    }\n",
              "\n",
              "    .dataframe tbody tr th {\n",
              "        vertical-align: top;\n",
              "    }\n",
              "\n",
              "    .dataframe thead th {\n",
              "        text-align: right;\n",
              "    }\n",
              "</style>\n",
              "<table border=\"1\" class=\"dataframe\">\n",
              "  <thead>\n",
              "    <tr style=\"text-align: right;\">\n",
              "      <th></th>\n",
              "      <th>tweets</th>\n",
              "      <th>tweets_cleaned</th>\n",
              "    </tr>\n",
              "  </thead>\n",
              "  <tbody>\n",
              "    <tr>\n",
              "      <th>0</th>\n",
              "      <td>@yhaa_sark’s Nkuto\\n\\nFor Stronger,moisturized...</td>\n",
              "      <td>yhaa sark s nkuto  for stronger moisturized so...</td>\n",
              "    </tr>\n",
              "    <tr>\n",
              "      <th>1</th>\n",
              "      <td>@us_ignorance Look, Russia is fighting in Syri...</td>\n",
              "      <td>us ignorance look  russia is fighting in syria...</td>\n",
              "    </tr>\n",
              "    <tr>\n",
              "      <th>2</th>\n",
              "      <td>Congratulations DA💕</td>\n",
              "      <td>congratulations da</td>\n",
              "    </tr>\n",
              "    <tr>\n",
              "      <th>3</th>\n",
              "      <td>Dear @joelockhart: Just because the @GOP wants...</td>\n",
              "      <td>dear  joelockhart  just because the  gop wants...</td>\n",
              "    </tr>\n",
              "    <tr>\n",
              "      <th>4</th>\n",
              "      <td>@unplasticday @SDG2030 @ConEdison @ConEdCEB @A...</td>\n",
              "      <td>unplasticday  sdg      conedison  conedceb  ai...</td>\n",
              "    </tr>\n",
              "  </tbody>\n",
              "</table>\n",
              "</div>"
            ],
            "text/plain": [
              "                                              tweets                                     tweets_cleaned\n",
              "0  @yhaa_sark’s Nkuto\\n\\nFor Stronger,moisturized...  yhaa sark s nkuto  for stronger moisturized so...\n",
              "1  @us_ignorance Look, Russia is fighting in Syri...  us ignorance look  russia is fighting in syria...\n",
              "2                                Congratulations DA💕                                 congratulations da\n",
              "3  Dear @joelockhart: Just because the @GOP wants...  dear  joelockhart  just because the  gop wants...\n",
              "4  @unplasticday @SDG2030 @ConEdison @ConEdCEB @A...  unplasticday  sdg      conedison  conedceb  ai..."
            ]
          },
          "metadata": {
            "tags": []
          },
          "execution_count": 63
        }
      ]
    },
    {
      "cell_type": "markdown",
      "metadata": {
        "id": "-XbC_xF3nfXH"
      },
      "source": [
        "**Tokenization of the text**"
      ]
    },
    {
      "cell_type": "code",
      "metadata": {
        "id": "4EXxUtijnl1P",
        "colab": {
          "base_uri": "https://localhost:8080/"
        },
        "outputId": "36c16992-703e-43e2-eb35-98b77fdb129d"
      },
      "source": [
        "preprocessed = [\" \".join(RegexpTokenizer(r'\\w+').tokenize(imp_tweets.tweets_cleaned[idx])) for idx in imp_tweets.index]\n",
        "preprocessed"
      ],
      "execution_count": null,
      "outputs": [
        {
          "output_type": "execute_result",
          "data": {
            "text/plain": [
              "['yhaa sark s nkuto for stronger moisturized soft and shiny hair growth good for all hair types locks itchy scalp relief and dandruff very affordable dm yhaa sark and get yours now ingredients aloevera jojoba castor oil tea tree peppermint fragrance https t co mbehnwupf',\n",
              " 'us ignorance look russia is fighting in syria but the us just grabbed oil and is sitting on it all financial markets belong to them the dollar accounts for of all currencies their sanctions are based on this',\n",
              " 'congratulations da',\n",
              " 'dear joelockhart just because the gop wants to deprive voters of water wants to cancel baseball and embraces a lawyer who said hugo chavez rose from the dead to rig the election does not make the gop an unserious party wait what am i saying ok maybe you re correct https t co pq saubilf',\n",
              " 'unplasticday sdg conedison conedceb aidanrgallagher pamelafalk seforallorg bsebti elonmusk razarumi poet economist joselyn dumas carolndosi paulpolman billpeduto oecd local uclg org vincentcoyle britain is building a village where all houses will be heated by water from an abandoned mine and help the country reach net zero greenhouse gas by berryonline elonmusk aidanrgallagher deespeak vincentcoyle robertovalentun berniehollywood https t co btls xrs',\n",
              " 'so after over years of loyal service to british gas i was fired because i refused to sign their new contract that would have me working more hours for less pay i ve taken my future back and we have set up d amp l heating facebook d amp l heating https t co qg syfnu https t co qxbdqu tf',\n",
              " 'just like peak oil peak twitter has already passed every tweet you see from now on will be a rewording of a tweet someone has already made',\n",
              " 'remember while equality equality equity discrimination',\n",
              " 'talkradio i remember feeding my cat lemon sole back in the day when aberdeen was the top fishing port in the uk stones of cod and haddock got traded for a couple of pints in aberdeen pubs they were called a fry before north sea oil hit us we traded our heritage',\n",
              " 'ukparliament nigeria was never meant to be one because of your greed for oil and money you created this mess year people are dying and corruption continues to spike and all you do is collect royalty uk let biafra go https t co zzahtt hg',\n",
              " 'stormking we gas you are right joshua',\n",
              " 'the hawaii legislature has declared a climateemergency the first us state to do so senate resolution scr passed unanimously this week kudos proposer senmikegabbard gabbardaloha thehycc globe intl malinimehra wwf dg maibached e g https t co tgx b pjk https t co b ne vuqb',\n",
              " 'i am scifi not warm hot where you still see the glistening oil on the surface with that satisfying crunch i want curly fries now',\n",
              " 'ocean action is climateaction a new un climate change report highlights the need to include ocean protection in national climate plans https t co fvur ckgmz https t co q bias pfz',\n",
              " 'jamesrossrjames yes and if we don t take major climate action much of the us coast and miles inland will not be habitable and if we do not get democrats in control of presidency house and senate rest assured all will get worse climateaction wtpblue onev https t co due s m',\n",
              " 'it s arbor day and we know that our forests play a key role in combating climate change minnesota has room to improve in this area send a message to govtimwalz encouraging him to get his climate grades up https t co v qa or tf walzclimategrades https t co drwuxhzryk',\n",
              " 'would you lick the gas station bathroom floor to prove your devotion to me https t co uu j zcdkm',\n",
              " 'would you lick the gas station bathroom floor to prove your devotion to me https t co uu j zcdkm',\n",
              " 'historic win for the climatejustice movement germany s constitutional court bverfg ruled the government has a duty to protect the people and future generations from the effects of climate change klimaklage klimaschutzgesetz https t co wphxklowrc',\n",
              " 'luther emerson van gorder japanese lanterns oil on canvas x inch tweed museum of art duluth usa https t co bytntdvio',\n",
              " 'a peer reviewed scientific study has confirmed a link between exposure to teargas and abnormal menstruation nearly people reported abnormal menstrual cycles including intense cramping and increased bleeding after exposure to tear gas in portland https t co l gl lin',\n",
              " 'zarif s leaked interview shows what damage trump s withdrawal from jcpoa did to iran amp us something that russia wanted to see russia was clearly worried about better iran us relations amp iran s ability to sell oil amp gas freely https t co oybl m r',\n",
              " 'i just found out the corn belt which produces of us corn and of the world s is at risk of suffering a dire of yield reductions due to abrupt climate change by and it makes me angrier and more determined to force economic system change action than ever before',\n",
              " 'algalitsky aniboghoss potus how do they justify any aid at all to a country with oil wealth',\n",
              " 'tdeezle bancor yeah the gas fees check out xbnt too tho',\n",
              " 'would you lick the gas station bathroom floor to prove your devotion to me https t co uu j zcdkm',\n",
              " 'would you lick the gas station bathroom floor to prove your devotion to me https t co uu j zcdkm',\n",
              " 'if you like the content i post on here for free every day please send a tip so i can put gas in my car tomorrow cashapp fragilegg https t co msfgqghxtx',\n",
              " 'is it weird to get excited for summer but then become sad b c there s probably going to be once in a century natural disasters b c republicans are too beholden to tackle climate change friendly reminder of what i m talking about https t co j cqmvf i',\n",
              " 'methane is x more potent as a greenhouse gas than carbon dioxide in our atmosphere over a year period thank you to the bipartisan group of senators who voted to cutmethane climateaction demvoice onev wtpblue wtpearth https t co mp mznlpw',\n",
              " 'gas your homies up',\n",
              " 'jim knows more about food security threats than i do he may decide to post some of his explanatory threads below here s the info on the corn belt studies suggest massive yield reductions of will occur across the board by the s s https t co ddpyggmsgj',\n",
              " 'this is an ecological catastrophe however it s not too late to calmly take emergency individual collective action to change consumption and production organising for political and economic system change away from growth amp corporate crimes ideas here https t co pdx zhggf',\n",
              " 'would you lick the gas station bathroom floor to prove your devotion to me https t co uu j zcdkm',\n",
              " 'would you lick the gas station bathroom floor to prove your devotion to me https t co uu j zcdkm',\n",
              " 'teaching climate this activity that offers students a variety of opportunities to learn about permafrost and the role of methane in thawing permafrost https t co lxdlyxjs w https t co hujgiouyes',\n",
              " 'gas may be harder to find this summer experts warn https t co yvakvh kr',\n",
              " 'pussy shirley especially cbd oil hating linda',\n",
              " 'finally purchased my first piece of crypto art i m the proud owner of mask gas love your work real masks happy to support artists in the space cryptoartists nfts https t co dnjmeornes https t co luvs f x w',\n",
              " 'incredibly proud of governor sisolak s proposal to fast track new renewable energy recycling and sustainability infrastructure projects creating jobs over the next years',\n",
              " 'so after over years of loyal service to british gas i was fired because i refused to sign their new contract that would have me working more hours for less pay i ve taken my future back and we have set up d amp l heating facebook d amp l heating https t co qg syfnu https t co qxbdqu tf',\n",
              " 'nigeria must face the reality that its spending plans have outstripped what oil revenues can support given our domestic production capacity and the international oil market outlook https t co s krbq qg',\n",
              " 'budget proposes to provide billion to issue the first federal green bond to support the fight on climate change and protect our environment https t co nnwwgnukwj https t co kvj mz eql',\n",
              " 'filling a car up with gas is an objectively unpleasant experience and i just know some of you meatheads are going to pretend to be nostalgic for it',\n",
              " 'if climate change is an emergency it isn t to which bit of history do they want to get back to according to them it s been in crisis ever since i can remember climate warming climate cooling ozone layer collapsing co which bit was just so and ideal',\n",
              " 'robertboston kmoorman piers is deranged how can you be a climate change denier and antivaxxer against all the evidence i think he is a privileged yet low information person suffering from confirmation bias and who thinks he is cleverer than everyone else the result of a public school education',\n",
              " 'kildaymorgan there s one of those gas station ones i always used for the rav that i was taking it thru between handwashes at carisma but it doesn t do a good job on the glk black shows all the dirt it didn t get',\n",
              " 'ukparliament nigeria was never meant to be one because of your greed for oil and money you created this mess year people are dying and corruption continues to spike and all you do is collect royalty uk let biafra go https t co zzahtt hg',\n",
              " 'mrlamontking christmas eve i was scared to go in a gas station in the hood at night',\n",
              " 'mergers and acquisitions in u s oil and gas fell by percent below the month average last month according to globaldata the biggest deal by far for the month was chevron s acquisition of noble midstream partners which fetched billion https t co yjthdbdnbk',\n",
              " 'instantly hydrate and diminish the look of pores controls surface oil all day smoothes skin texture oil free non comedogenic clean vegan moisturizer',\n",
              " 'amtrak is a choice for many disabled people who can t or have issues with flying i hate flying because of panic attacks riding amtrak i don t have those problems also air travel is simply not the future if we want to stop climate change',\n",
              " 'john kerry invested in oil companies prior to becoming biden s climate envoy financial disclosures show https t co ytoutzeqcp foxnews',\n",
              " 'columbus police temporarily barred from some protest tactics https t co y ajwnzsg',\n",
              " 'have i mentioned that one cute icle balm should last at least months with daily use it s perfect for protecting nails moisturizing amp stimulating growth works amazing alone or paired w cute icle oil check product desc for bundle discount codes https t co psmithqkeh https t co bbokkpdksz',\n",
              " 'so after over years of loyal service to british gas i was fired because i refused to sign their new contract that would have me working more hours for less pay i ve taken my future back and we have set up d amp l heating facebook d amp l heating https t co qg syfnu https t co qxbdqu tf',\n",
              " 'summary of open carry hearing yesterday us children with bullet holes them we don t want to have to put a jacket on to walk into the gas station senators r hmmm well you both make some good points endgunviolence momsdemand scpol shanemassey',\n",
              " 'nigga at the gas station just asked me who i m listening to i ain t tell him it was me tho i just said new nigga named rubba band grant cause i know how niggas be',\n",
              " 'although less harmful greenhouse gas the co from the methane still contributes',\n",
              " 'you might not be that familiar with facial oils but they are some of the most exciting formulations made in the indie sector our students love blending together botanical carrier oils to create exquisite facial oil blends like our student marie who made this beauty https t co flzb qxio',\n",
              " 'just a reminder that tear gas has been illegal to use as a chemical weapon in war since it should never have been remotely thinkable for our police to have the weaponry or impunity to tear gas citizens defundpolice',\n",
              " 'norway one of the smallest gaps between rich and poor fantastic public services trillion wealth fund from oil revenues uk one of the largest gaps between rich and poor crumbling public services no wealth fund from oil revenues https t co wby dr w',\n",
              " 'married to maggie bk texas boys falling fast series ty vincent needs a wife to satisfy the board of directors of his family s oil business who insists he be married before they name him ceo https t co wimx fqo romance texas https t co e c rva oi',\n",
              " 'carbon monoxide is a toxic gas that is colorless and odorless making it hard to detect until it is too late it can kill within minutes for those who survive carbon monoxide poisoning can lead to permanent brain damage https t co mzgry gtao',\n",
              " 'nj pa anyone have a ride for me and secretsilvio from drexel to bairs and back i gotchu with da gas money if need be we just down bad asl lmk',\n",
              " 'isnttony high correlation between denialisms covid climate change apollo moon landings evolution and fruitloopery chemtrails flat earth creationism homeopathy crystal healing anti vax not worth wasting time on them i just block them all',\n",
              " 'wanna see the shittiest article ever no mention of coke producing million pounds of plastic waste last year climate change is because you have a cat or dog',\n",
              " 'fixing climate change requires an extraordinary global effort but no country should be forced into debt as part of it especially not if they re already suffering the worst effects of the crisis while those with the power to help largely ignore them risetothemoment https t co rmhlvssrp',\n",
              " 'indulgence box comes with premium hand made bar soaps a sugar scrub and a fragrant body oil price n https t co ue vnjkaip',\n",
              " 'the high gdp growth under obj wasn t by luck despite low oil prices lower than today they had a vision and worked towards it imagine if buhari came in https t co n uxvap ov',\n",
              " 'on may join csisfood and faonorthamerica as they convene with experts to discuss the impacts of climate change on global foodsecurity highlighting outcomes of president biden s leaders summit on climate https t co swfudxqnvf',\n",
              " 'tim youmans lead north america eos at federated hermes will deliver a speech tomorrow at berkshire hathaway s annual meeting asking the company s shareholders to support a proposal that the board issue an annual report on managing climate change https t co p o qmb sb',\n",
              " 'bishoptdflakes you can buy beer and alcholic seltzers from gas stations til pm too',\n",
              " 'komaladila pump gas with that thang on you people',\n",
              " 'bub paid and pumped my gas great friday already',\n",
              " 'siemens gamesa renewable energy s a https t co pgkchmblbg',\n",
              " 'markrandles only had one neck oil',\n",
              " 'tinnevds radio be how can you build new fossil gas plants and call it renewable pathway',\n",
              " 'interstate water wars are heating up along with the climate more water rights exist on paper than as wet water even before factoring in shortages caused by climate change and other stresses states should put at least as much effort into reducing https t co er msbhvi',\n",
              " 'delaware sen tom carper says the administration must move forcefully to achieve biden s plan of slashing greenhouse gas emissions in half by https t co ra cxrmhiv',\n",
              " 'man they found my wallet at the gas station and ain t nobody steal nothing i must be doing something right in the universe cause i got good karma',\n",
              " 'sightly reduced gasoline production and inventories are continuing to put upward pressure on southern california gas prices https t co e pvmanq d',\n",
              " 'remember when i filled my tank of gas just to get into a car accident right after',\n",
              " 'mergers and acquisitions in u s oil and gas fell by percent below the month average last month according to globaldata the biggest deal by far for the month was chevron s acquisition of noble midstream partners which fetched billion https t co yjthdbdnbk',\n",
              " 'devin eleven i really thought you were talking about your car because you might have a kia car and i was they must be so good at changing the oil or something and then laughed too hard when i realized you were talking about a person',\n",
              " 'don t believe in global climate change don t think racism is a problem but don t hesitate to manufacture absurd implausible potential crises as an excuse for acting out fantasy violent conflicts',\n",
              " 'april eddy hamel was murdered in a gas chamber in auschwitz born in nyc in as a teenager he moved to amsterdam st jewish player in afcajax he scored goals in league games after arrest in oct he was deported to auschwitz with his wife amp kids https t co rs ljnfz',\n",
              " 'so after over years of loyal service to british gas i was fired because i refused to sign their new contract that would have me working more hours for less pay i ve taken my future back and we have set up d amp l heating facebook d amp l heating https t co qg syfnu https t co qxbdqu tf',\n",
              " 'stevie j marquis resources an independent oil and gas company',\n",
              " 'minxmarple anything by herbivore https t co yrxkdohmy',\n",
              " 'kanae patricia sugar coconut oil amp an eyebrow spoolie',\n",
              " 'from tuckschool natural capital summit jud hill of ecological service partners oil costs barrel vs barrel for water oil is a want h o is a need pricing ought to better reflect that kellystrott of imagineh o if climate change is a shark water is its teeth',\n",
              " 'a big oil project in africa threatens fragile okavango region https t co h mjq zhoe yalee the regions of kavango east amp kavango west are home to people including the indigenous san making a living from farming fishing amp tourism savetheokavangodelta frackrot',\n",
              " 'so after over years of loyal service to british gas i was fired because i refused to sign their new contract that would have me working more hours for less pay i ve taken my future back and we have set up d amp l heating facebook d amp l heating https t co qg syfnu https t co qxbdqu tf',\n",
              " 'total s east african oil pipeline kilometer from uganda to tanzanian coast https t co ed qejqvog impacting square kilometers protected areas a quarter being habitat to eastern chimpanzee amp african savanna elephant gt human families displaced stopeacop',\n",
              " 'nigeria must face the reality that its spending plans have outstripped what oil revenues can support given our domestic production capacity and the international oil market outlook https t co s krbq qg',\n",
              " 'this is the way entirely serious',\n",
              " 'just remember this meme you need it one day biden s passenger electric vehicles do not compete with oil they compete with shale oil shale opec electricvehicles https t co wxrsvjbjrp',\n",
              " 'buddy mw it s an outrage the way british gas has treated it s loyal workforce i wish you every success',\n",
              " 'if you want to know what radical is look at fdr s proposed second bill of rights guaranteed work home education and healthcare we could already be there if it wasn t for the right we could be addressing climate change and progressing that we aren t is a crime https t co nwmwruqoly',\n",
              " 'for example when you include scope emissions the gorgan ccs project in wa will capture only of the emissions generated from extracting refining transporting and burning the gas from the field',\n",
              " 'no operating ccs project comes even close to capturing all of the carbon pollution be it co or methane released be it from a gas field like gorgan a coal or gas power plant a gas hydrogen facility or an oil field',\n",
              " 'i do hope that this company goes bankrupt and these snake oil selling ceos get caught with their lies and stupid science about variants',\n",
              " 'top lies ever in no particular order i ll hit you right back i ll get gas in the morning i m mins away it s not what you think i don t mean to be disrespectful but honorable mention i m over it idgaf',\n",
              " 'ukparliament nigeria was never meant to be one because of your greed for oil and money you created this mess year people are dying and corruption continues to spike and all you do is collect royalty uk let biafra go https t co c uuoeeup',\n",
              " 'jwickhyoung the garage pronounced gay raj looks like a converted oil change shop complete with lifts for the vehicles good for go go dancers attractive men in oily coveralls and drinks with suggestive names also a sign that says parking in rear',\n",
              " 'i was about to apply for british gas engineers as well cheers debbie',\n",
              " 'kiafree oh my yes to the warm oil',\n",
              " 'oxygenrefill delhi verified agarwal gas plot no khasra number pooth khurd bawana road delhi m personally verified recently awwwnchal samriddhi thispodcastguy chetanmakker rohitpanjiar capt ck dillidikudii pbnrg shuttercrazy https t co rjn fd zpm',\n",
              " 'do you wanna see who won me vs baby oil sub free photos videos daily uncensored uploads pov squirt ass play toy content sessions voice memos customs offered fetish friendly dm w donation link in bio https t co lu wsjsf',\n",
              " 'rocent foxnews do you care about climate change or not',\n",
              " 'today april in oil history the mix of oil politics amp love today years ago conoco was founded when marland oil co bought continental oil co both of oklahoma ernest marland founded marland oil in became us congressman in amp ok governor in next https t co xtrrdtacs',\n",
              " 'hotlinejosh nickriccardi jonathanchait he raised the gas tax by that pissed a lot more people off and it s off the table for dems now despite the increased clout of the climate wing',\n",
              " 'i got caught playing in the baby oil sub free photos videos daily uncensored uploads pov squirt ass play toy content sessions voice memos customs offered fetish friendly dm w donation link in bio https t co d heq p v',\n",
              " 'bluewave ever stop trump lol i was just jumping on here to say the same thing i can t get wine at a gas station but i can get a tequila sunrise at spangles lol smh kansas',\n",
              " 'so after over years of loyal service to british gas i was fired because i refused to sign their new contract that would have me working more hours for less pay i ve taken my future back and we have set up d amp l heating facebook d amp l heating https t co qg syfnu https t co qxbdqu tf',\n",
              " 'this needs saying more often older people will have to make sacrifices in the fight against climate change or today s children will face a future of fighting wars for water and food the eu s deputy chief has warned https t co jrf arzvtx',\n",
              " 'narvuntien sizzlechest glenskurka rustyaway medbennett barbarajdurkin robin hagues stormsignalsa dianedenizen osprey rijpew lamphieryeg jamesanth damienhamilto roypentland tangomitteckel friendsoscience reeta iceburg ibergwiesel tqmka thedisproof elquesosabio mikedel cypress nl notclimatedepot dawntj jbalsich reckedrik kctaz geoff flavinkins cieloyla alamerqld no wind brknman novakglobal derekbarge thinks about it nbpaustralia over ppm rmack x huntsonmark htservadac paprikalady dardedar homer k rushhourp bananenrijperij nickapalmer frolly the cost of storage and the cost of gas backups are not in this chart having to check the weather to see if you ll have electricity is idiotic',\n",
              " 'these courageous members of congress are publicly acknowledging how u s oil company chevron poisoned the amazon and became a fugitive from justice repmcgovern coribush rashidatlaib jamaalbowmanny aoc repraskin accountability is here https t co raz j nds',\n",
              " 'rose hips rose petals rose quartz rosemary light a pink candle dress it in follow me boy oil lavender oil cleanse a jar and add these ingredients as your candle burns speak over your work speak love into it love for self others and your body seal it',\n",
              " 'giving myself a makover on laughing gas wisdom teeth million views https t co a armsk c',\n",
              " 'bombshell letter gaetz paid for sex with minor wingman says gas money or gifts rent or partial tuition payments were made to several of these girls including the individual who was not yet demvoice onev wtpblue https t co wdw ws yo',\n",
              " 'tesla says all superchargers to be powered by renewable energy in https t co upfq djwwq',\n",
              " 'mv drunk dazed besok m gas',\n",
              " 'environmental toxins and your health https t co zou tkdgwy you can eat kale until it comes out of your ears but you can not undo the damage to environment by polluti https t co dpd t uhk',\n",
              " 'mexico yaqui political prisoner fidencio aldama releases a video on tuesday declaring his innocence he hopes to be united with his family soon amp thanked everyone for the solidarity fidencio was fighting a gas pipeline from u s energy giant sempra energy https t co jjccohtna',\n",
              " 'i m grateful to share that pachamainc has raised a m series a from an incredible group of investors to continue on our mission of restoring nature to solve climate change read more about it from me here https t co lfaoaalccn thread',\n",
              " 'framing of this fight as individual sacrifice which in no way ties to wider structural issues and inequalities driving climate change e g of flyers cause of emissions of uk flyers take of uk flights etc is counterproductive at best at worst it s dangerous',\n",
              " 'oil market eiagov has revised down its february us oil production estimate lowering it to m b d based on monthly data down b d from m b d it had calculated earlier based on weekly data the texas freeze is behind it january output was m b d oott',\n",
              " 'leave a lasting impression when they hug you layer our dry body oil with a perfume oil and watch they pull you back in for another sniff i mean hug grab a bottle or at https t co byczdvb e',\n",
              " 'targeted and untargeted metabolic profiling to discover bioactive compounds in seaweeds and hemp using gas and liquid chromatography mass spectrometry metabolites massspec https t co syzhknwhu',\n",
              " 'dustinmulvaney michaelewebber unsolicited side note in a handful of pipeline certificate orders from this timeframe the fpc took into account the smog reducing benefits of natural gas i cite some here https t co dcqfadhixu',\n",
              " 'very dear nri s and oci we just cannot produce oxygen out of thin air and push it into a gas cylinder or import oxygen concentrator overnight you left because you knew what it is',\n",
              " 'orchestradog darcie dogdaysinitaly jamessbond neddlepeddle alfie byrnecocker ted inquisitive parsleysmum tashaspunsugar zanazanbb denvor tamiborzoilover i went to bed around hours since he d last had any pain or distention he s still ok so it was probably a gas bubble going thru',\n",
              " 'so after over years of loyal service to british gas i was fired because i refused to sign their new contract that would have me working more hours for less pay i ve taken my future back and we have set up d amp l heating facebook d amp l heating https t co qg syfnu https t co qxbdqu tf',\n",
              " 'years have passed since the terrorist attack at the azerbaijan state oil academy as a result of this terrorist attack people died and were injured april is a day i will never forget adnaterroru https t co ulpralmwkq',\n",
              " 'john kerry invested in oil companies prior to becoming biden s climate envoy financial disclosures show kerry s total investments were valued between m and m fox news well looky looky',\n",
              " 'minxmarple votary s facial seed oil pai s rosehip oil excellent',\n",
              " 'friday and it s another trip on the sunbeds who would help me oil up tits boobs bigboobs bigtits hornygirl fuckme slut shareme onlyfans of cumslut retweet followme https t co ktpt assgz',\n",
              " 'gravity powers batteries for renewable energy https t co bxuzkfuptz veteran vets oh technology is changing our world for the better forever',\n",
              " 'lawsuits seeking to hold governments and big oil accountable for the fossil fueled climate crisis are on the rise keep up to speed with important developments in climate accountability lawsuits https t co wfrciyqkvy',\n",
              " 'nj pa anyone have a ride for me and secretsilvio from drexel to bairs and back i gotchu with da gas money if need be we just down bad asl lmk',\n",
              " 'oil paintings https t co gziqqbttdc',\n",
              " 'real time breath analysis using portable gas chromatography for adult asthma phenotypes metabolites massspec https t co rui oeawpl',\n",
              " 'not only did i deplete my brain of glucose but i kept going kinda like running a car engine without oil or fuel in this case and having the engine seize my brain just finally stopped i couldn t push through anymore couldn t will myself to physically keep working',\n",
              " 'because of climate change they can save only one grape to make wine which one do you pick red white yes i know there is a multitude of different tastes under each but this is for fun only https t co mrvh pmyjt',\n",
              " 'we need an operation warp speed climate change program',\n",
              " 'my laptop keyboard has olive oil on it from the pasta i ate last night and it s a reminder of my messiness',\n",
              " 'jamesmelville unfortunate that producing it is the source of so much pain to the animals involved adversely affects the health of those who eat it and whose methane byproduct is a key enabler of climate change my view was it wasn t worth all that for the taste however wonderful',\n",
              " 'the high gdp growth under obj wasn t by luck despite low oil prices lower than today they had a vision and worked towards it imagine if buhari came in https t co n uxvap ov',\n",
              " 'john kerry invested in oil companies prior to becoming biden s climate envoy financial disclosures show https t co qto eg eiu',\n",
              " 'so after over years of loyal service to british gas i was fired because i refused to sign their new contract that would have me working more hours for less pay i ve taken my future back and we have set up d amp l heating facebook d amp l heating https t co qg syfnu https t co qxbdqu tf',\n",
              " 'from tsnbobmckenzie djpoulin odognine amp tsnjamesduthie how internal competition for spots ahead of the playoffs have the leafs keeping their foot on the gas https t co iympwh hug tsnhockey https t co u hxni apx',\n",
              " 'hawaii joins jurisdictions from countries in declaring a climate emergency https t co u yffdzlus',\n",
              " 'https t co uqmmznnedt acceptance face amp body cream and be relentless facial oil w incredible anti aging properties super hydrating amp never greasy who likes wrinkles right not me skincareproducts https t co ehc gpouvj',\n",
              " 'germany s top court argued that current legislation does not go far enough to curb climate change the government now needs to switch to the fast track to reduce ghg emissions current climate targets are insufficient klimaschutzgesetz klimaklage https t co mbl xiy dz',\n",
              " 'fire crews have been tackling a blaze affecting three outbuildings in loughton they were called to the remote england s lane just before pm today and had to establish a water supply as well as removing a number of gas cylinders an investigation is underway into the cause https t co m enzgzs',\n",
              " 'texas should simply prohibit the transport of its oil and gas and products to california until california stops imposing its discriminatory policies against texas https t co uzmkabac j via wsjopinion',\n",
              " 'america isn t using hemp why exactly oh yeah that s right the sadistic ruling class psychopaths want to hog markets based on oil hemp has more benefits https t co aziqxadle',\n",
              " 'lisakeel vaculb some things any of us can do to help our brains exercise every day shot of olive oil daily b everyday',\n",
              " 'just a reminder that tear gas has been illegal to use as a chemical weapon in war since it should never have been remotely thinkable for our police to have the weaponry or impunity to tear gas citizens defundpolice',\n",
              " 'casey s general stores to sell iowa nebraska gas stations over antitrust complaint https t co gyo qddxu',\n",
              " 'the pier uk team have finished another brilliant week on the road with the use of our citysucker and a reduced diameter pipe our team successfully excavated around a gas main pipe in the north west info pier uk co uk vacuumexcavation excavation northwest https t co nnbqh pjxr',\n",
              " 'why some electric car owners return to gas the reasons aren t surprising electrek https t co qzlpphfzw',\n",
              " 'years ago i presented on the alt protein space while taking an investing in climate change course at columbia biz thanks to paulhshapiro for the visual aid since then tons of progress has been made amp i love actively pushing for continued progress w clear current https t co qrv wogw',\n",
              " 'people think believing in god is delusional but baby the hot balls of gas lightyears away are not granting your wishes or hearing your prayers you worshiping the universe like it wasn t created by god',\n",
              " 'oxygen refill in delhi agarwal gas plot no khasra number pooth khurd bawana road delhi m personally verified by ashishsharma rt karo sab',\n",
              " 'so did this guy just get the car without reading about it or something https t co auevlnk j',\n",
              " 'if climate change is an emergency it isn t to which bit of history do they want to get back to according to them it s been in crisis ever since i can remember climate warming climate cooling ozone layer collapsing co which bit was just so and ideal',\n",
              " 'everythingcyd i love your locs babe you should definitely try my oil les couronnee it has everything you need to keep your scalp itch free moisturized hair growing thick amp strong smells amazing too natural of course for natural crowns https t co kzxm rmzi',\n",
              " 'john kerry invested in oil companies prior to becoming biden s climate envoy financial disclosures show https t co qto eg eiu',\n",
              " 'yuujiiiss everybody claps renewable energy is mainstream the stock market flourishes everybody is happy and world peace is found',\n",
              " 'came to get an oil change amp the africans ended up making me spend smh what s the secret bro how do y all do it babyafrica',\n",
              " 'so after over years of loyal service to british gas i was fired because i refused to sign their new contract that would have me working more hours for less pay i ve taken my future back and we have set up d amp l heating facebook d amp l heating https t co qg syfnu https t co qxbdqu tf',\n",
              " 'pakistan as chirashatru is lamely talking of help too one very important reason is that modi is not bowing down like trump the world s pharma lobby oil lobby and arms lobby created this epidemic and under the guise of blacklivesmatter',\n",
              " 'chocolate mint soap all natural soap cocoa butter soap handmade soap essential oil soap vegan soap handmade soap handcrafted https t co bcuukajez via etsy',\n",
              " 'a bit of play house in the woods oil on linen painting from imagination https t co astgtdwzcz',\n",
              " 'eia monthly crude oil and natural gas production release for feb release date april lots of weather noise in report impossible to judge shale oil oott oilandgas texas https t co c vbuubinx',\n",
              " 'john kerry invested in oil companies prior to becoming biden s climate envoy financial disclosures show https t co ur lh wkes',\n",
              " 'no matter how much the media tries to soften this or put in wacky distractions every time the evidence emerges never forget that the gop teamed up wittingly with this russian intelligence service that murders people with nerve gas and much more https t co sld yauefb',\n",
              " 'coal miners union shows support for renewable energy https t co mqrmmq pza https t co bwt jywz',\n",
              " 'jake burns theobr great stuff jake i know you burnt the midnight oil to get this piece out so quickly',\n",
              " 'just a reminder that tear gas has been illegal to use as a chemical weapon in war since it should never have been remotely thinkable for our police to have the weaponry or impunity to tear gas citizens defundpolice',\n",
              " 'so after over years of loyal service to british gas i was fired because i refused to sign their new contract that would have me working more hours for less pay i ve taken my future back and we have set up d amp l heating facebook d amp l heating https t co qg syfnu https t co qxbdqu tf',\n",
              " 'john kerry invested in oil companies prior to becoming biden s climate envoy financial disclosures show https t co ur lh wkes',\n",
              " 'the dynamic responses of oil palm leaf and root metabolome to phosphorus deficiency metabolites massspec https t co chsxu xrj',\n",
              " 'art aura thanks for the art share here are a few of my oil paintings https t co mfmuhozofu',\n",
              " 'karthik es guidofawkes redrosebud overit miss jwspry nasty not bev coomler janet sb thinkabouturph adrianomazzola d essere angelovalidiya mtmama mamacat u kkmoriconi dr drekkle umustrise badge ret kchinelly sylviadeedee krystynawisson karmagirl thorsome k bellaqohnson trinity aus bushbint prismprime anthea muccitina billgates geoenginering there is no climate change there is nothing wrong with the climate we fuck up the climate ourselfs since with weather control https t co sgz igik z',\n",
              " 'so after over years of loyal service to british gas i was fired because i refused to sign their new contract that would have me working more hours for less pay i ve taken my future back and we have set up d amp l heating facebook d amp l heating https t co qg syfnu https t co qxbdqu tf',\n",
              " 'tellthetruth timmermanseu older people will have to make sacrifices in the fight against climate change or today s children will face a future of fighting wars for water amp food this is a climateemergency tomorrow am all over rebellionofone https t co xs pnagqo',\n",
              " 'i want stew cooked with palm oil that has plenty pepper',\n",
              " 'the sierra club applauded evergy s move toward renewable energy sources but criticzed the utility s latest integrated resource plan because it shows it will still be burning fossil fuels in https t co f nrnkm iq',\n",
              " 'so after over years of loyal service to british gas i was fired because i refused to sign their new contract that would have me working more hours for less pay i ve taken my future back and we have set up d amp l heating facebook d amp l heating https t co qg syfnu https t co qxbdqu tf',\n",
              " 'the procrastinated doomsday is here federal amp state civil servants may not get salary for the months of april amp may nnpc remittance to faac is zero the ripple effect is on civil servants to suffer nigeria sells her crude oil cheap then imports fuel at a higher cost',\n",
              " 'summary of open carry hearing yesterday us children with bullet holes them we don t want to have to put a jacket on to walk into the gas station senators r hmmm well you both make some good points endgunviolence momsdemand scpol shanemassey',\n",
              " 'thisisgwyneth when gas guzzlers become a thing the gas receptacles need to cavernous',\n",
              " 'meet eisneramper s new national leaders in sports and entertainment oil amp gas franchise and esg sectors https t co coxwzk clb https t co ie fgezui',\n",
              " 'icri coral reef forcorals as we negotiate for the post biodiversity agenda let us tag a price on coral reefs enhance global awareness of the ecosystem services derived from corals they support of known marine flora and fauna save coral in the wake of climate change',\n",
              " 'ohhh you let me get you',\n",
              " 'oxygen refill in delhi agarwal gas plot no khasra number pooth khurd bawana road delhi m personally verified by ashishsharma rt karo sab',\n",
              " 'u s cg robert silberstein broke ground on the u s pakistan friendship garden on april arbor day urbanforestpk with friends like urban forest amp the sindh environment climate change amp coastal development we can make karachi greener amp take action on climate change https t co es msxh t',\n",
              " 'dinvesting webergrills i say weber my wife and kids say weber always wanted a weber and wife told me two years ago go get it since we have natural gas i had a new gas line added to work with our grill weber weberweekend https t co lbvm modsy',\n",
              " 'another great course from university of edinburgh online uoe online',\n",
              " 'sharks are essential to the health of our oceans in this nprscience report scientist melissa christina marquez explains just how important they are and the role they play in mitigating climate change https t co yxmovz vk',\n",
              " 'hits the gas handmaid s tale really just made a white harriet tubman',\n",
              " 'summary of open carry hearing yesterday us children with bullet holes them we don t want to have to put a jacket on to walk into the gas station senators r hmmm well you both make some good points endgunviolence momsdemand scpol shanemassey',\n",
              " 'fufu is supposed to be served with perfume oil',\n",
              " 'find your inner peace with our essential oil meditation candle decorated with pink cornflowers amp biodegradable glitter https t co uny o t xe amp https t co uopnyjwinh yourbizhour inbizhour mhhsbd tweetasmallbiz gift https t co czleg rh j',\n",
              " 'april an italian jewish woman ines orvieto n e pacifici was born in florence in december she was deported to auschwitz and after selection murdered in a gas chamber https t co rpq bxap',\n",
              " 'franktmcveety canada is buying more and more oil from dictators instead of using its own thanks to trudope slowly strangling our energy independence billions of canadian dollars funding terrorism female abuse weapons of mass destruction islamofacism instead of creating jobs here https t co xova tnps',\n",
              " 'some celebrities seem to reinvent themselves as modern snake oil salespeople',\n",
              " 'photos from my latest desmogblog report https t co xpv nlbug aerial view of la oil fields offers glimpse of nationwide orphaned well issue can states be trusted to tackle the nation s orphaned oil and gas well problem with federal funds ltgrusselhonore climate sejorg https t co q utqwef',\n",
              " 'nj pa anyone have a ride for me and secretsilvio from drexel to bairs and back i gotchu with da gas money if need be we just down bad asl lmk',\n",
              " 'natural gas futures prices slide after eia storage data falls short of expectations https t co g a dzkt d natgas ongt',\n",
              " 'the united states needs to remove president nicol s maduro legitimately and constitutionally elected by the people from the government in order to appropriate their oil the kidnapping of venezuelan ambassador un cape verdean clearly reflects this freedom for a exsaab now https t co n s n zgfd',\n",
              " 'yolocapmgt we have even converted all of our gas powered chairs into electric chairs',\n",
              " 'oil market eiagov has revised down its february us oil production estimate lowering it to m b d based on monthly data down b d from m b d it had calculated earlier based on weekly data the texas freeze is behind it january output was m b d oott',\n",
              " 'preview of the distoted baby punks dropping in mins today for eth per grab one while gas is low https t co mujroaztn nfts nftart nftcollectors nftdrop cryptopunks cryptopunk nonfungible nftcollectibles punks unofficialpunks https t co u qqpxszfi',\n",
              " 'oxygen refill in delhi agarwal gas plot no khasra number pooth khurd bawana road delhi m personally verified by ashishsharma rt karo sab',\n",
              " 'excited and honored to be launching this calsgc funded project with janet franklin ucrcnas megankjennings lluvia flores renteria and csainaction and our tribal partners https t co k gwsnfpe',\n",
              " 'cafreeland jguaido speak for yourself freeland i m canadian amp i don t support guaido or the us coup in venezuela we re not blind there s widespread support for maduro don t pretend this about liberating venezuelans when it s about oil and the truman doctrine justintrudeau cdnpoli unity j',\n",
              " 'same insane thing all over the world i e f e in germany the next level of idiocy co mania greatreset',\n",
              " 'thisisgwyneth dickman robert i ve never wanted to jam a gas nozzle up my ass i wonder who the genius was that did that',\n",
              " 'this cbd cream is just fabulous on your skin superb for problem skin with its cbd qualities but also contains vitamin a c amp e plus collagen to combat aging skin',\n",
              " 'gas station in germany https t co vbdyixem',\n",
              " 'this needs saying more often older people will have to make sacrifices in the fight against climate change or today s children will face a future of fighting wars for water and food the eu s deputy chief has warned https t co jrf arzvtx',\n",
              " 'a portrait oil painting in my sketchbook https t co mhnkit uv',\n",
              " 'mystic sky blueberry scented lipgloss infused with vitamin e avocado oil and sweet almond oil this gloss does have a slight blue tint to it perfect to wear on its own or over your favorite lipstick blackownedbusiness blueberry lipgloss https t co spahklzxyl',\n",
              " 'mystic sky blueberry scented lipgloss infused with vitamin e avocado oil and sweet almond oil this gloss does have a slight blue tint to it perfect to wear on its own or over your favorite lipstick blackownedbusiness blueberry lipgloss https t co spahklzxyl',\n",
              " 'the hell you say john kerry invested in oil companies prior to becoming biden s climate envoy financial disclosures show https t co irltwmqdk foxnews',\n",
              " 'my fellow cyclists friendly reminder to oil your chain',\n",
              " 'over half of the currently operating ccs projects are used to extract more fossil fuels creating more climate pollution the process is called enhanced oil recovery where captured co is pumped into oil fields to essentially push out more oil',\n",
              " 'john kerry invested in oil companies prior to becoming biden s climate envoy financial disclosures show https t co ur lh wkes',\n",
              " 'edzitron i remember seeing something recently about how people don t plug in their plug in hybrids the kinda weird gas small amount of electric charge cars so',\n",
              " 'natural gas futures prices slide after eia storage data falls short of expectations https t co g a dzkt d natgas ongt',\n",
              " 'just a reminder that tear gas has been illegal to use as a chemical weapon in war since it should never have been remotely thinkable for our police to have the weaponry or impunity to tear gas citizens defundpolice https t co umj thmxu',\n",
              " 'nigeria must face the reality that its spending plans have outstripped what oil revenues can support given our domestic production capacity and the international oil market outlook https t co s krbq qg',\n",
              " 'davereaboi can someone explain to me how so many dems are involved with agriculture guess i m naive amp thought it was more of a conservative thing like oil amp gas',\n",
              " 'cabot oil amp gas increases dividend by to https t co egwvp gp',\n",
              " 'some celebrities seem to reinvent themselves as modern snake oil salespeople',\n",
              " 'idk what they building across from the golden bull but it s needs to include a gas station',\n",
              " 'goats back you already rt gas allat',\n",
              " 'glorygirllllll mf what why r they cancelling gas station owners',\n",
              " 'customs duty on imports of inflammatory diagnostic marker kits namely il d dimer crp ldh ferritin pro calcitonin pct and blood gas reagents has been exempted till st october to supplement testing efforts https t co ifoswtmvu',\n",
              " 'a peer reviewed scientific study has confirmed a link between exposure to teargas and abnormal menstruation nearly people reported abnormal menstrual cycles including intense cramping and increased bleeding after exposure to tear gas in portland https t co l gl lin',\n",
              " 'digitalartchick you have to keep in mind gas fees if you don t mint now will be more difficult later and may have to settle for side chain later',\n",
              " 'stand with traditional owners against fracking frackfreetweets getup with morrison poised to bail out the dirty gas industry we need your help to amplify the resistance of traditional owners fighting forced fracking on their land can you chip in https t co hxaac qif',\n",
              " 'there s only one week left to apply for a un global climateaction award we want to bring your results driven project to the world at cop let s work together to raise ambition for stronger action on climate change deadline may https t co zyc bz k https t co fr pe goxz',\n",
              " 'the radical left is so awful they believe in fair amp free elections making voting amp getting healthcare easy for all equal rights for all amp trying to reverse climate change hmm sounds like the right is afraid of losing power if all americans make their voices heard https t co wsq iuvg q',\n",
              " 'be relentless is an all natural super fruit facial oil that will leave your skin brighter smoother amp super hydrated without feeling greasy now with sezzle just make easy installments of w code hunternguyen https t co zj vwszman stay safe skincareroutine https t co kirid rv m',\n",
              " 'eyed spy motor oil shanty post punk no wave https t co sximkhvnvj',\n",
              " 'oil for the girls https t co seqyt ci',\n",
              " 'fufu is supposed to be served with perfume oil',\n",
              " 'dragonking pass as much gas as possible maybe gag myself and throw up',\n",
              " 'palm phone but the battery and running the latest android this thing is ridiculously unnecessarily thin and gas abysmal battery as a result it feels like the distraction free angle was tacked on because of that give me a full fat phone that s just tiny',\n",
              " 'the preliminary injunction was granted friday as part of a federal lawsuit filed last summer https t co ww xlxbbem',\n",
              " 'john kerry invested in oil companies prior to becoming biden s climate envoy financial disclosures show https t co ur lh wkes',\n",
              " 'so after over years of loyal service to british gas i was fired because i refused to sign their new contract that would have me working more hours for less pay i ve taken my future back and we have set up d amp l heating facebook d amp l heating https t co qg syfnu https t co qxbdqu tf',\n",
              " 'fascinating piece in today s financialtimes by humenm on how the shift to renewable energy is triggering a supercycle in copper https t co o pzueyhl',\n",
              " 'it hasn t happened yet in hrva but triple a says standby for gas shortages this summer the reason may surprise you my story tonight at wavy news https t co wfgzkmj d',\n",
              " 'oil market eiagov has revised down its february us oil production estimate lowering it to m b d based on monthly data down b d from m b d it had calculated earlier based on weekly data the texas freeze is behind it january output was m b d oott',\n",
              " 'nigga at the gas station just asked me who i m listening to i ain t tell him it was me tho i just said new nigga named rubba band grant cause i know how niggas be',\n",
              " 'we are in a climate emergency salesforce said in a statement endorsing the sec s transparency campaign there must be a globally recognized and formally governed reporting standard https t co vwfmutdkca',\n",
              " 'https t co pl x bgv read the truth about renewables greens live in a fantasy world',\n",
              " 'i feel nothing but pity for the conned and hatred for the snake oil salesmen and women that peddled the tory ponzi scheme that is the conservatives redwall',\n",
              " 'it seems almost unfair to bracket gojira into one kind of idea climate change activists metal overlords or jut really nice guys trying to make a difference https t co dybs a zp',\n",
              " 'tellthetruth timmermanseu older people will have to make sacrifices in the fight against climate change or today s children will face a future of fighting wars for water amp food this is a climateemergency tomorrow am all over rebellionofone https t co xs pnagqo',\n",
              " 'oasispodcast gas panic at wembley liam telling the crowd come to fuk this is a good tune',\n",
              " 'did not know this can t use it for warfare but ok for police defined riots huh politifact tear gas was banned for warfare in but police still use it viral meme says https t co stvuoqrfq',\n",
              " 'amsterdam city councillors have voted in favour of a ban on the sale of laughing gas in the city stealing a march on central government plans https t co jblwkk xo',\n",
              " 'zero emission cheaper cost charge than any gasoline you won t be paying anything for gas and hardly anything for electricity https t co jyuccpelwp use better insulators in doors nre https t co yygxcuz',\n",
              " 'today across the energy complex only oil is down some factors supported gas pulled up carbon too then carbon pushed gas further up https t co bxc um nu https t co itjfhawnx',\n",
              " 'john kerry is a hypocrite of the highest order on this amp other matters he is the embodiment of all that is evil amp corrupt in our nation s political establishment let s pray that truth will lead to equal justice for people like him to show that nobody is above the law https t co b kvsrliop',\n",
              " 'so after over years of loyal service to british gas i was fired because i refused to sign their new contract that would have me working more hours for less pay i ve taken my future back and we have set up d amp l heating facebook d amp l heating https t co qg syfnu https t co qxbdqu tf',\n",
              " 'my latest https t co ovvwnjfd x',\n",
              " 'bow valley college is proud to continue upskilling displaced oil and gas professionals through edge up led by calgaryeconomic and fsc ccf en this tech training offers talented people a shot at a new rewarding career read more about it here https t co laa kzsggf',\n",
              " 'buddy every credit debbie i wish you the best absolutely scandalous what british gas have done',\n",
              " 'john kerry invested in oil companies prior to becoming biden s climate envoy financial disclosures show https t co ur lh wkes',\n",
              " 'april refinery workers walk out on strike on this day in labor history the year was that was the day oil refinery workers went on strike https t co yftoeuc is',\n",
              " 'oxygen refill in delhi agarwal gas plot no khasra number pooth khurd bawana road delhi m personally verified by ashishsharma rt karo sab',\n",
              " 'it s arbor day and we know that our forests play a key role in combating climate change minnesota has room to improve in this area send a message to govtimwalz encouraging him to get his climate grades up https t co v qa or tf walzclimategrades https t co drwuxhzryk',\n",
              " 'environmental toxins and your health https t co zou tkdgwy you can eat kale until it comes out of your ears but you can not undo the damage to environment by polluti https t co dpd t uhk',\n",
              " 'eugonzos atlantopoodles european parliament has approved the resolution on russia with calls for sanctions against the nord stream gas pipeline project https t co bmkduju mc',\n",
              " 'collette this creep is so tied to russia and fossil fuel that he sweats oil he is trying to master the peeweehermandefense iknowyourarebutwhatami scene i d like to see https t co g zbhlnjrq',\n",
              " 'liverpool area folks down with big corps support the local trades',\n",
              " 'agirlwithasign iris action maier kat cooperprice twoonepenguins vanessa vash mitzijonelle dominikalasota domipalmer mayaozbayoglu lineniedeggen the building of the oil pipeline must be prevented no destroying of the environment for fossil fuels my infinite support solidarity and sympathy for you emma stay strong and keep fighting https t co zupcnr vpp',\n",
              " 'ukparliament nigeria was never meant to be one because of your greed for oil and money you created this mess year people are dying and corruption continues to spike and all you do is collect royalty uk let biafra go https t co zzahtt hg',\n",
              " 'i m not sure what swift legacy was doing he had one job and got blown up by a gas tank in tomclancyswildlands follow the rest of our misadventures on ig dacapndini and xbox at indinivision and twitch link in bio discovery https t co cmtzgppx w',\n",
              " 'please switch off your gas boilers following the coldest april in years its the only way https t co w rdgkwp y',\n",
              " 'no one from the government is helping we depend on ourselves only climateemergency https t co mld hdu',\n",
              " 'it turns out that fish oil has the effect of reducing your risk for alzheimer s disease',\n",
              " 'some celebrities seem to reinvent themselves as modern snake oil salespeople',\n",
              " 'go ahead can anyone imagine to charging stations are to be built for electric vehicles in india in the next years which will reduce oil consumption by upto this is a slap in the face of the global oil lobby https t co vspyfq cy',\n",
              " 'commodity trading major vitol is reportedly negotiating a deal to acquire the oil wells of hunt oil co in the permian basin https t co qrb brmyz',\n",
              " 'cars run on gas leading car brands run on data on this episode of insidetheinnovation we ll see how pwc helped a luxury brand auto maker to deliver data driven personalization with digital',\n",
              " 'usd u s baker hughes oil rig count in minutes beforenewsevent forex fx futures oil naturalgas sp us y open in bettertrader app https t co ucrb s wz https t co dohtze ai',\n",
              " 'let s talk tanks what s your preferred paintball tank tank gas and capacity p s open play is happening all weekend long open play hours gt https t co obc bpldim paintball openplay paintballislife https t co hac z dv',\n",
              " 'nigga at the gas station just asked me who i m listening to i ain t tell him it was me tho i just said new nigga named rubba band grant cause i know how niggas be',\n",
              " 'total s east african oil pipeline kilometer from uganda to tanzanian coast https t co ed qejqvog impacting square kilometers protected areas a quarter being habitat to eastern chimpanzee amp african savanna elephant gt human families displaced stopeacop',\n",
              " 'look out for these fake british gas emails there are no refunds the links lead to phishing websites designed to steal your personal and financial information if you spot a suspicious email forward it to report phishing gov uk phishyfridays https t co w kjppaqtl',\n",
              " 'holz all i did was put olive oil on it and season it with cavender s greek seasoning i could eat this everyday',\n",
              " 'komaladila pump gas with that thang on you people',\n",
              " 'suburban garden by percy horton oil on board https t co wqblxmu rt',\n",
              " 'we also spoke with plzarnetske the lead author on a recent pnas paper outlining the uncertainties about how geoengineering could affect ecosystems to the best of our knowledge the possible outcomes could be catastrophic for some species amp ecosystems https t co mgn xuw cc',\n",
              " 'you ve all been warned onpoli onleg yxucc yxu ldnont ldnont cdnpoli https t co lf qqjoh',\n",
              " 'we don t need oil and gas to succeed and survive because we have brain the greatest resources in this life is human resources mazinnamdikanu tbrv biafra',\n",
              " 'eugonzos atlantopoodles european parliament has approved the resolution on russia with calls for sanctions against the nord stream gas pipeline project https t co bmkduju mc',\n",
              " 'john kerry invested in oil companies prior to becoming biden s climate envoy financial disclosures show https t co ur lh wkes',\n",
              " 'the president s plan to put climate change first and at the forefront of his agenda will crush american jobs it already has the only answer is to put america first',\n",
              " 'oil market eiagov has revised down its february us oil production estimate lowering it to m b d based on monthly data down b d from m b d it had calculated earlier based on weekly data the texas freeze is behind it january output was m b d oott',\n",
              " 'nigga at the gas station just asked me who i m listening to i ain t tell him it was me tho i just said new nigga named rubba band grant cause i know how niggas be',\n",
              " 'i need those standing gas heaters',\n",
              " 'international maritime organization head of emissions standards on shipping and climatechange global cooperation needed in greenhouse gas emissions goal imohq johnkerry https t co gxu cyzsuh via todaynewsafrica',\n",
              " 'oil market eiagov has revised down its february us oil production estimate lowering it to m b d based on monthly data down b d from m b d it had calculated earlier based on weekly data the texas freeze is behind it january output was m b d oott',\n",
              " 'fufu is supposed to be served with perfume oil',\n",
              " 'summary of open carry hearing yesterday us children with bullet holes them we don t want to have to put a jacket on to walk into the gas station senators r hmmm well you both make some good points endgunviolence momsdemand scpol shanemassey',\n",
              " 'toure in other news climate change is a hoax because it snowed somewhere',\n",
              " 'following an oil spill in the ecuadoran amazon that contaminated the coca river last year local indigenous groups reliant on the river are still struggling to adapt to alternative livelihoods https t co yofpp ekst',\n",
              " 'john kerry invested in oil companies prior to becoming biden s climate envoy financial disclosures show https t co ur lh wkes',\n",
              " 'a big oil project in africa threatens fragile okavango region https t co h mjq zhoe yalee the regions of kavango east amp kavango west are home to people including the indigenous san making a living from farming fishing amp tourism savetheokavangodelta frackrot',\n",
              " 'married to maggie bk texas boys falling fast series ty vincent needs a wife to satisfy the board of directors of his family s oil business who insists he be married before they name him ceo https t co wimx fqo romance texas https t co e c rva oi',\n",
              " 'girlziplocked that just switching to a vegan diet will change the climate crisis',\n",
              " 'if we re going to avoid destruction whether through fascism climate change or economic collapse we have to start by understanding the right intentionally destroyed government and redistributed wealth while delaying necessary modernization that s simply the truth',\n",
              " 'reliant customers looking for a great and easy way to support bat conservation international while helping to reduce greenhouse gas emissions check out the reliant ecoshare program and sign up today https t co vi n talv',\n",
              " 'who is harry sargeant iii trump amp giuliani buddy rick perry donor oil magnate ukraine gas deal cia sex tape straw donors prostitutes in a golf cart war profiteering jordanian royal family and overseas bribery allegations fiona hill testimony for impeachment https t co apnjpeqtdp',\n",
              " 'customs duty on imports of inflammatory diagnostic marker kits namely il d dimer crp ldh ferritin pro calcitonin pct and blood gas reagents has been exempted till st october to supplement testing efforts https t co ifoswtmvu',\n",
              " 'if i hear gen z vs millennials one more time i will speed up climate change istg',\n",
              " 'acwa applauds senate president pro tem toni atkins leadership and strongly supports the senate s proposal for drought and covid water relief funding acwa executive director dave eggerton',\n",
              " 'watch crown prince mohammedbinsalman says saudivision reform program was launched because oil revenues barely covered the needs of the kingdom s growing population video al arabiya https t co nceobaxsjt https t co jhxbvhrt',\n",
              " 'we spoke to maggiechapman about the scottish greens plans to move away from oil and gas in the north east and the role of indyref https t co eb oy tnf',\n",
              " 'opec oil output has risen in april as higher supply from iran countered involuntary cuts and agreed reductions by other members under a pact with allies a reuters survey found oott https t co txxl hmc v',\n",
              " 'day records most new jobs of any admin in st days m in most nominees for confirmed jobs and most diverse m relief checks most judicial nominees also open hunger down ban on ghost guns action on climate change',\n",
              " 'for my oil change okayyyyyyyyyy',\n",
              " 'new article does cbd oil help arthritis pain https t co njfrvfexmy https t co qcppju vax',\n",
              " 'jamestate kooliegirl i know i have been checking in climate change and glaciers melting which alarming',\n",
              " 'oil is always a good ideaaaa ashton avenue https t co xrdz phrjl',\n",
              " 'itsjefftiedrich rudygiuliani this is a strange drum that he s beating who else did they spy on you no rudy just you the rest of us aren t russian assets with motor oil running down the side of our heads at a landscape company next to a porn shop',\n",
              " 'we dey pray make our gas no finish along the line',\n",
              " 'suspect fatally shot as he dragged illinois cops at gas station video shows https t co mh z n k c via nypost',\n",
              " 'to this day i don t drink yogi sip cause it brings back terrible childhood memories make wabuya nayo nje umah we knew that ngaksasa ekseni szophuza ucastor oil',\n",
              " 'gas delivery boys should have been considered as front line covid workers they are going door to door home to home during this entire pandemic narendramodi ji dpradhanbjp ji should consider them to vaccinate with priority amazed that no one told their story https t co wr zeaaqxh',\n",
              " 'domenico di pace beccafumi saint catherine of siena receiving the stigmata detail oil and gold leaf on panel ca italy catherine kneels in ecstasy as she miraculously receives christ s wounds https t co clymnrjjyk',\n",
              " 'the radical left is so awful they believe in fair amp free elections making voting amp getting healthcare easy for all equal rights for all amp trying to reverse climate change hmm sounds like the right is afraid of losing power if all americans make their voices heard https t co wsq iuvg q',\n",
              " 'energy is important pillar of reform and investment partnership good meeting with hon minister for energy matthew opoku prempeh focus on renewable energy and electrical grid enhancement in ghana project with siemens company https t co fwum u su',\n",
              " 'just a reminder that tear gas has been illegal to use as a chemical weapon in war since it should never have been remotely thinkable for our police to have the weaponry or impunity to tear gas citizens defundpolice',\n",
              " 'dmytro vasylovych firtash is a ukrainian vassal of putin s gas plan and the engine at the center of the rudy don lev victoria joe allegations its a story that has a timeline and a spider web of trumpeople who were greased to keep him out of u s courts https t co ftised uhj',\n",
              " 'in a filing with the missouri public service commission evergy says it will retire nearly all of its remaining coal generation by https t co htrwgvfqay via allie kite moleg mogov',\n",
              " 'the one two punch of biden and newsom will drive gas prices over a gallon this summer here in california two boneheads punishing poor people why do democrats get elected smh',\n",
              " 'feature friday upstream solutions inc usi is a leading nl based provider of specialized services and staffing to oil and gas mining hydro electric and other heavy industries learn more about the upstream advantage https t co j mq b hvd https t co baflkmutq',\n",
              " 'without a doubt ciscocollab the futureofwork will have a big say in the future of the planet togetherwedogreatthings techforgood',\n",
              " 'oxygen refill in delhi agarwal gas plot no khasra number pooth khurd bawana road delhi m personally verified by ashishsharma rt karo sab',\n",
              " 'so after over years of loyal service to british gas i was fired because i refused to sign their new contract that would have me working more hours for less pay i ve taken my future back and we have set up d amp l heating facebook d amp l heating https t co qg syfnu https t co qxbdqu tf',\n",
              " 'alexismadrigal egg tomato sesame oil rice',\n",
              " 'bruce almyty ayigbegirl maybe she s the gas',\n",
              " 'i wonder if all the oklahomans and texans with trashed cars and roofs this morning are aware that climate change makes more powerful storms and more powerful storms make bigger hailstones',\n",
              " 'oxygen refill in delhi agarwal gas plot no khasra number pooth khurd bawana road delhi m personally verified by ashishsharma rt karo sab',\n",
              " 'in terms of balancing the activities she s not quite sure she manages teaching is like a gas that fills the space it s put in she writes less when teaching and she wants to fix that teach less in the future matt mentions that it does also have rewards because he s the best',\n",
              " 'i ve shared this article for over a year and i ll do it again we ve known the whole time how to best protect lives and livelihoods and despite posting it on every podium he stands in front of jkenney s approach follows no best practices to do either https t co kbh s n e',\n",
              " 'franktmcveety canada is buying more and more oil from dictators instead of using its own thanks to trudope slowly strangling our energy independence billions of canadian dollars funding terrorism female abuse weapons of mass destruction islamofacism instead of creating jobs here https t co xova tnps',\n",
              " 'check out our article with thenation published in capitalandmain this article can also be found in our climate migration issue',\n",
              " 'shortypantsbar gt best cajun restaurant at the lakeoftheozarks voted gas dock for years running go to https t co frinvno pw today https t co ie xglmdp',\n",
              " 'fufu is supposed to be served with perfume oil',\n",
              " 'disappointing experience with the vw dealership i have been taking my cars to for years they said they hired somebody new but over the course of weeks this new person doesn t seem to know how to do an oil change without making something else broken',\n",
              " 'be relentless is an all natural super fruit facial oil that will leave your skin brighter smoother amp super hydrated without feeling greasy now with sezzle just make easy installments of w code hunternguyen https t co zj vwszman stay safe skincareroutine https t co kirid rv m',\n",
              " 'the zoo contraption called nigeria was given to the fulani janjaweeds terrorists by the british that s why they owned over percent of the oil wells percent in control of the power percent monopoly of importation https t co off by ss',\n",
              " 'biden has pledged to slash the us greenhouse gas emissions in half by even if congress rejects his call for funding see how he plans to push for zero net greenhouse gas pollution by mid century https t co w a w tgtr',\n",
              " 'oxygen refill in delhi agarwal gas plot no khasra number pooth khurd bawana road delhi m personally verified by ashishsharma rt karo sab',\n",
              " 'chris franktmcveety chris we need to keep educating canadians on the benefits of our own oil security',\n",
              " 'john kerry invested in oil companies prior to becoming biden s climate envoy financial disclosures show the environmentalist decides to invest in oil companies what a joke https t co hlswh d sb',\n",
              " 'i don t think it s acceptable to target environmentalists who are alerting us to the climate change catastrophe and put them on terrorist lists xrebellionuk',\n",
              " 'the radical left is so awful they believe in fair amp free elections making voting amp getting healthcare easy for all equal rights for all amp trying to reverse climate change hmm sounds like the right is afraid of losing power if all americans make their voices heard https t co wsq iuvg q',\n",
              " 'seanmohen in other words you wish the panel had more solutions experts rather than scientists it s a common misconception that scientists have to study diagnose predict and solve climate change but the reality is we can t do it all ask for a solutions q amp a next time',\n",
              " 'trent jenkins kirillklip fed ious with real neg rates make no sense vix blew a piston by q while oil trackers amp cpi fused bonds are non starter usual hip hop risk strategies for portfolios are melting and there s only one guaranteed way out gold https t co l rzoc xw',\n",
              " 'isnttony high correlation between denialisms covid climate change apollo moon landings evolution and fruitloopery chemtrails flat earth creationism homeopathy crystal healing anti vax not worth wasting time on them i just block them all',\n",
              " 'my latest https t co ovvwnjfd x',\n",
              " 'in the deluge of days please remember president biden rejoined the paris accord cancelled permits to build the keystone xl pipeline and stopped drilling in the arctic national wildlife refuge climate change is considered in foreign policy national security immigration',\n",
              " 'put indigenous people at the forefront they have a blood memory of this land if we put more indigenous people in higher positions of power we will see a change that is unprecedented sekwanahcahk on climate action priorities fprpolicychat',\n",
              " 'is your nose clogged up with dirt amp oil come see me and find out cleveland ohio clevelandesthetician clevelandfacial skin healthyskin glowingskin clearskinisin cleanface facialtreatment skincareroutine clearskin skingoals extractions blackheadremoval https t co dvgzci jrf',\n",
              " 'delivered to london uk thanks for your patronage my darling party earrings simple earrings and steel bracelet a free perfume oil https t co vqg q hrur',\n",
              " 'the main cause behind this crisis can be found in the regime s loss of control over the main oil fields located in north eastern syria https t co v o tcesq putintintin https t co nh t wm l',\n",
              " 'validators on the red platform are franchise owners with specific knowledge of renewable energy learn and grow with red be prepared for new opportunities https t co xum joav c businessopportunity blockchain co offset',\n",
              " 'our goal is to reduce our absolute greenhouse gas emissions by by which is why we re proud to announce that maverick creek a acre wind farm in texas is now powering many of our north america brands such as cottonelle vivatowels scottproducts and kleenex https t co ebm pcka',\n",
              " 'icymi we re excited to share this gorgeous cover for a short hopeful guide to climate change written amp illustrated by oisinmcgann we re proud to be publishing this in association with foeireland you can pre order now https t co vnsct y ip hopefulguide https t co rw uwyr t',\n",
              " 'niels pedersen mols ferry to ribe holme oil on canvas ribe kunstmuseum ribe denmark https t co trtngzuzf',\n",
              " 'the interaction of two doomed stars has created this spectacular ring adorned with bright clumps of gas a diamond necklace of cosmic proportions fittingly known as the necklace nebula this planetary nebula is located k light years away from earth nasahubble image https t co qhifmp z',\n",
              " 'kenya s constitution provides the basis for action on climate change guaranteeing citizens a clean and healthy environment which is a fundamental right under the bill of rights clean water for all coal kills plant more trees peoplesmarchtostatehouse for climateaction https t co pco xdn b',\n",
              " 'about percent of san francisco s greenhouse gas emissions comes from natural gas combustion in buildings in residential buildings the largest use of natural gas is for appliances like water heaters furnaces ovens and laundry dryers https t co vwdqmjvzb',\n",
              " 'https t co uqmmznnedt be relentless facial oil know thyself facial cream supernal exfoliating gel mask amp scrub amp now acceptance body cream will leave your skin silky soft super hydrated amp youthful looking skincareproducts https t co bnptp ej t',\n",
              " 'so after over years of loyal service to british gas i was fired because i refused to sign their new contract that would have me working more hours for less pay i ve taken my future back and we have set up d amp l heating facebook d amp l heating https t co qg syfnu https t co qxbdqu tf',\n",
              " 'a top senate democrat is urging u s anti pollution standards that would follow a deal brokered by california with five automakers and then set targets to end sales of new gasoline powered vehicles by https t co k oqxv xag',\n",
              " 'fraud alert delhipolice cpdelhi dcpeastdelhi celldelhi want to register a complain against a fraud who is scamming people by claiming to be an oxygen supplier contact number gpay number he claims to work for durga oxygen gas depot shahdra delhi',\n",
              " 'in the largest commercial agreement between israel and the uae since normalizing ties last summer an israeli energy company sold its stake in a mediterranean sea natural gas reserve to the emiratis https t co ymldapeqzq',\n",
              " 'salesforceamy it s miles to chicago we got a full tanka gas half packa cigarettes it s dark amd we re wearing sunglasses',\n",
              " 'cub executive dir david kolata we applaud chicagosmayor for tapping the innovation and creative talents of the vibrant clean energy community chicago has appropriately set ambitious climate change goals and it s vital that franchise agreements align with those efforts',\n",
              " 'interested in reading more about intelligence global security and climate change i d recommend the series by belfercenter fellow kristinwood ic in thecipherbrief the series was inspiration for our conference last week https t co bmzt or d',\n",
              " 'twosnoot clove oil',\n",
              " 'cooking with bob how some simple ingredients can create something magical boiled potatoes then fried in some pesto seriously try it a salad w dressing of olive oil white wine vinegar and mustard and top quality sausages cookingwithbob tailsofcatcastle https t co yh f h to',\n",
              " 'people in nova scotia will be paying less for regular self serve gas on friday while prices in p e i remain unchanged https t co o ifgqg r',\n",
              " 'zimbabwe has a huge and diverse renewable energy potential it s one of the african countries that hopes renewable energy technologies will help to address their energy problems https t co bgin w c',\n",
              " 'https t co uqmmznnedt be relentless facial oil know thyself facial cream supernal exfoliating gel mask amp scrub amp now acceptance body cream will leave your skin silky soft super hydrated amp youthful looking skincareproducts https t co net dx q',\n",
              " 'https t co uqmmznnedt be relentless facial oil know thyself facial cream supernal exfoliating gel mask amp scrub amp now acceptance body cream will leave your skin silky soft super hydrated amp youthful looking skincareproducts https t co net dx q',\n",
              " 'a true pre summer self care treat our rose remedy mask offers up replenishing hydration with soothing and antioxidant benefits a unique jelly blend of rose oil cica and turmeric will help tone soothe and refresh skin in no time pixibeauty skintreats https t co azwmvshqs',\n",
              " 'groups file third intervention defending pause on federal oil gas leasing https t co sg f be v',\n",
              " 'climate change is a threat multiplier that sometimes gives people no other choice but to migrate we need to keep fighting for a world where all people can be safe wherever they are https t co al yawsju',\n",
              " 'us oil rigs to baker hughes oott',\n",
              " 'so after over years of loyal service to british gas i was fired because i refused to sign their new contract that would have me working more hours for less pay i ve taken my future back and we have set up d amp l heating facebook d amp l heating https t co qg syfnu https t co qxbdqu tf',\n",
              " 'nicholas melosi a young coo at american patriot oil and gas discusses how he was able to get seasoned employees to adjust to new techniques while value each other s roles in the company check out the podcast here https t co u h vyqm https t co oyfflbirpy',\n",
              " 'so after over years of loyal service to british gas i was fired because i refused to sign their new contract that would have me working more hours for less pay i ve taken my future back and we have set up d amp l heating facebook d amp l heating https t co qg syfnu https t co qxbdqu tf',\n",
              " 'vivamjm ukfisheriesltd roblev emmahardymp lukepollard most of the cod and haddock for our chippies comes from icelandic and norwegian waters climate change meant they migrated northwards brexitreality conservatives uklabour localelections',\n",
              " 'monet spring fruit trees in bloom oil on canvas x cm the metropolitan museum of art new york https t co uxaanczzxy',\n",
              " 'spring sunrise tar by purcellniki oil painting art https t co ap lzrqn artfinder https t co wlqcwtsdri',\n",
              " 'https t co uqmmznnedt be relentless facial oil know thyself facial cream supernal exfoliating gel mask amp scrub amp now acceptance body cream will leave your skin silky soft super hydrated amp youthful looking skincareproducts https t co zp ulilrzp',\n",
              " 'oott us baker hughes rig count apr prev rotary oil rigs est prev rotary gas rigs prev',\n",
              " 'i rubbed some olive oil on it before hand so that the chicago steak seasoning would hold and that s garlic aioli mayo on the side',\n",
              " 'us oil rigs to baker hughes oott',\n",
              " 'renewables such as wind and solar are becoming cheaper than fossil fuels in most parts of the world but they need storage to be a viable stable source of energy read the full article about renewable energy storage by lombardodier here https t co op gdx jff',\n",
              " 'oil you say https t co xst os ord',\n",
              " 'did i see the love of my life or the devil none i was too busy tending to the oil lamps for my prayer corner',\n",
              " 'these courageous members of congress are publicly acknowledging how u s oil company chevron poisoned the amazon and became a fugitive from justice repmcgovern coribush rashidatlaib jamaalbowmanny aoc repraskin accountability is here https t co raz j nds',\n",
              " 'u s feb oil output fell to lowest since on freeze eia',\n",
              " 'indulgence box comes with premium hand made bar soaps a sugar scrub and a fragrant body oil price n https t co ue vnjkaip',\n",
              " 'texas added thousands of oil jobs in march https t co xcbadln rz via houstonchron',\n",
              " 'u s baker hughes oil rig count actual vs previous est u s baker hughes total rig count actual vs previous',\n",
              " 'so after over years of loyal service to british gas i was fired because i refused to sign their new contract that would have me working more hours for less pay i ve taken my future back and we have set up d amp l heating facebook d amp l heating https t co qg syfnu https t co qxbdqu tf',\n",
              " 'by corrupting global institutions promoting hysterical data publishing fraudulent science and deploying propaganda on an unprecedented scale beijing transformed the snake oil of lockdowns into science the greatest crime of the st century to date https t co rgbllnrz b',\n",
              " 'reef chain liquidity bridge allows porting of existing defi apps from ethereum to reef chain through its solidity support this collaboration would allow kwikswap users to trade assets at lightning fast speed with near zero gas fees using the reef chain',\n",
              " 'fufu is supposed to be served with perfume oil',\n",
              " 'an executive at shale gas explorer cnx criticized the long term pledges to reduce emissions that have slowly gained traction in the industry saying they lack detail and accountability https t co igogn pgju via business',\n",
              " 'bring back st lockdown gas prices bro',\n",
              " 'dmytro vasylovych firtash is a ukrainian vassal of putin s gas plan and the engine at the center of the rudy don lev victoria joe allegations its a story that has a timeline and a spider web of trumpeople who were greased to keep him out of u s courts https t co ftised uhj',\n",
              " 'i m grateful to share that pachamainc has raised a m series a from an incredible group of investors to continue on our mission of restoring nature to solve climate change read more about it from me here https t co lfaoaalccn thread',\n",
              " 'baby oil if you don t put a lot it ll make you feel ashy',\n",
              " 'scientists at the university of chicago ultra cooled down a gas of atoms synthesizing for the first time a superfluid of molecules https t co jcbaihowv',\n",
              " 'xxiquez t hi she can t help having gas poor thing',\n",
              " 'https t co uqmmznnedt be relentless facial oil know thyself facial cream supernal exfoliating gel mask amp scrub amp now acceptance body cream will leave your skin silky soft super hydrated amp youthful looking skincareproducts https t co sxxdlha aj',\n",
              " 'rip grizz grizz is worn out after hunting for so long and wants a rockstar he found the blog letter words that end in oil https t co co tjgjzta typoshurtyourwriting https t co e nbunv r',\n",
              " 'https t co uqmmznnedt be relentless facial oil know thyself facial cream supernal exfoliating gel mask amp scrub amp now acceptance body cream will leave your skin silky soft super hydrated amp youthful looking skincareproducts https t co sxxdlha aj',\n",
              " 'fufu is supposed to be served with perfume oil',\n",
              " 'matthewsievers ode to sharp after joseph henry sharp painting titled blackfoot girl oil on canvas image h x w framed h x w show opens tonight pm at blueraingallery https t co g fluobqgc',\n",
              " 'ukparliament nigeria was never meant to be one because of your greed for oil and money you created this mess year people are dying and corruption continues to spike and all you do is collect royalty uk let biafra go https t co zzahtt hg',\n",
              " 'unitedstates baker hughes total rig count at https t co xmiwvjeu x https t co wazgjnjwcq',\n",
              " 'picoftheday kathleen frank mokelumne summer snow x oil on canvas landscape painting art mokelumne kathleenfrank artist https t co d ui stp',\n",
              " 'https t co uqmmznnedt be relentless facial oil know thyself facial cream supernal exfoliating gel mask amp scrub amp now acceptance body cream will leave your skin silky soft super hydrated amp youthful looking skincareproducts https t co heov vcbrg',\n",
              " 'having over figures in bitcoin but also needing to double check i have in my bank account for a sandwich and coffee from the gas station is a place in life i m very content with',\n",
              " 'danheld oh and i drive a year old hybrid and have no intention of buying a new car anytime soon because my car is fine and gets great gas mileage i also and this is huge on carbon impact have children so come at me bro my eco impact is smaller than yours bitcoin sucks',\n",
              " 'unitedstates baker hughes oil rig count at https t co xmiwvjeu x https t co mcjrh hgu',\n",
              " 'but by that time he had used his snake oil salesman skills to pawn it off to worthington who ended up losing millions and having to write the whole thing off they re doing it again but this time they are trying to pawn off this stinker to you end',\n",
              " 'so you know how ab lish complained last night that their bilingual nhs letter causes climate change and was evidence to get rid of the sennedd and hand control over to wastemonster well here s a letter from nhs england https t co dri fllfus',\n",
              " 'our forests are one of our nation s greatest treasures and one of the most effective natural carbon captures that exist to help combat the effects of climate change https t co i ig ugx',\n",
              " 'did you know that what s in vegetable oil is an industrial oil product better for cleaning and lubricating machinery there s no vegetable benefit or nutrients to be had in that gleaming bottle of golden vegetable oil',\n",
              " 'power provider southern company signed an agreement to sell its wholesale gas business after the unit brought in million during the texas power crisis https t co edi brwpgx',\n",
              " 'dollabot you won t need gas on the other side ftm if you buy on sushi then bridge over ftm fee for bridge if you have a fren already on fantom have them send you ftm and you can send usdc without paying a fee to bridge',\n",
              " 'the disastrous green new deal led by the far left in washington takes direct aim at our energy industry it would not only mean higher electrical costs across the country but it would destroy coal oil amp gas jobs that families and communities in wyoming rely on',\n",
              " 'april eddy hamel was murdered in a gas chamber in auschwitz born in nyc in as a teenager he moved to amsterdam st jewish player in afcajax he scored goals in league games after arrest in oct he was deported to auschwitz with his wife amp kids https t co rs ljnfz',\n",
              " 'fufu is supposed to be served with perfume oil',\n",
              " 'imjustagirljm our gas is gal',\n",
              " 'so after over years of loyal service to british gas i was fired because i refused to sign their new contract that would have me working more hours for less pay i ve taken my future back and we have set up d amp l heating facebook d amp l heating https t co qg syfnu https t co qxbdqu tf',\n",
              " 'oil is always a good ideaaaa ashton avenue https t co xrdz phrjl',\n",
              " 'and the gas station s phone doesn t work so reaching out to them is a no go it s my birthday and i was hoping for good vibes but i m dealing with money related bs yeee eee',\n",
              " 'sub to my onlyfans frequent uploads lewds n nudes full length vids ranging from mins to mins averaging at mins dildo videos oil shows boob play nude non nude twerk exclusives in dms makes customs loves to chat more https t co n bbl j c',\n",
              " 'so after over years of loyal service to british gas i was fired because i refused to sign their new contract that would have me working more hours for less pay i ve taken my future back and we have set up d amp l heating facebook d amp l heating https t co qg syfnu https t co qxbdqu tf',\n",
              " 'how does me not smiling at a creepy gas station man have anything to do with not fucking murdering me',\n",
              " 'this why i pump my gas while i m inside the car and my doors are locked lmfaooooo',\n",
              " 'amzn crus isns mid day market update crude oil down cryolife shares jump following q results https t co gkg mvql o',\n",
              " 'https t co uqmmznnedt be relentless facial oil know thyself facial cream supernal exfoliating gel mask amp scrub amp now acceptance body cream will leave your skin silky soft super hydrated amp youthful looking skincareproducts https t co aaqzwq uhu',\n",
              " 'omoh you should really get my beard oil fr https t co jmj lnjqsh',\n",
              " 'the radical left is so awful they believe in fair amp free elections making voting amp getting healthcare easy for all equal rights for all amp trying to reverse climate change hmm sounds like the right is afraid of losing power if all americans make their voices heard https t co wsq iuvg q',\n",
              " 'baker hughes oil rig count comes in at versus last week https t co nuysszuzj',\n",
              " 'we re hiring a construction supervisor in qatar work visa available open to qualified africans minimum of years experience in relevant construction and installation experience of projects in oil amp gas industry apply here https t co c bmro k',\n",
              " 'i would love to own an electric car if i had somewhere to charge it https t co hbmbas xpa',\n",
              " 'so after over years of loyal service to british gas i was fired because i refused to sign their new contract that would have me working more hours for less pay i ve taken my future back and we have set up d amp l heating facebook d amp l heating https t co qg syfnu https t co qxbdqu tf',\n",
              " 'zoltanng energybants quakes standup nuclear nuclearny entergynuclear campaign gnd riverkeeper cuomo aoc et al where are you prez biden but but all your speeches on climate change and global warming',\n",
              " 'https t co uqmmznnedt be relentless facial oil know thyself facial cream supernal exfoliating gel mask amp scrub amp now acceptance body cream will leave your skin silky soft super hydrated amp youthful looking skincareproducts https t co cr m nu mo',\n",
              " 'https t co uqmmznnedt be relentless facial oil know thyself facial cream supernal exfoliating gel mask amp scrub amp now acceptance body cream will leave your skin silky soft super hydrated amp youthful looking skincareproducts https t co cr m nu mo',\n",
              " 'oxygen refill in delhi agarwal gas plot no khasra number pooth khurd bawana road delhi m personally verified by ashishsharma rt karo sab',\n",
              " 'cubnkira brhodes obamafoundation amp because of trump pompeo s failed maximum pressure sanctions iran has turned to china who is happy to help amp sign a year deal w them that will make our sanctions useless amp powerless good job',\n",
              " 'because of the long interval i used methods of colouring this time thick paint similar to plastic oil painting just draw without any special software skills gradation using black and white before colouring intrinsic colours overlapping layers',\n",
              " 'climate change and its impact on our weather https t co qqscbnyp climatechange biofriendlyplanet',\n",
              " 'nigeria must face the reality that its spending plans have outstripped what oil revenues can support given our domestic production capacity and the international oil market outlook https t co s krbq qg',\n",
              " 'for all those that believe what they are being told about cow farts contributing to climate change you are seriously dumber than a potato',\n",
              " 'a fascinating presentation on representing climate change from geocinema aka asia bazdyrieva and solveig suess if you missed it you can read our write up here https t co fpcjqjjycb',\n",
              " 'the gop platform obstruct gaslight project grift lie cheat incompetence ignorance selfishness stupidity cruelty whataboutism revisionism gerrymandering ayn rand pretend to follow jesus suppress voting rights worship money deny science hump guns shill for big oil bow to trump',\n",
              " 'update he s had no more pain or abdominal distention for about hours we think it was a gas bubble working it s way thru',\n",
              " 'using feats of climate change know by most as weather to push an agenda is nothing new https t co a ogo mj',\n",
              " 'where is bioenergy in the renewable energy conversation energy magazine https t co bbkefp b a',\n",
              " 'houston based centerpoint energy inc is selling another portion of its natural gas business in a billion deal https t co c fefukwum',\n",
              " 'this could lead to three large renewable energy installations rising from central texas farmland https t co s amacomc',\n",
              " 'the european parliament adopted a tough resolution targeting russia laying down harsh sanctions including disconnection from swift system visas and gas imports termination in case russian troops invade ukraine https t co jahmq aeme',\n",
              " 'dustinmulvaney michaelewebber these orders rebut the assertion by some today that pipeline certificate orders have never and may not account for the environmental impacts of combusting the transported gas',\n",
              " 'oil paintings https t co gziqqbttdc',\n",
              " 'available for sale from contemporary lea goldman wind oil on canvas in https t co lluhdi a q',\n",
              " 'iran again boosts opec oil output in april https t co xfisbnjkr',\n",
              " 'daily paintworks jimi muriel christensen oil on linen panel unframed x in https t co etggqdzqil https t co s w mfsyxy',\n",
              " 'art aura thanks for the art share here are a few of my oil paintings https t co mfmuhozofu',\n",
              " 'oil is always a good ideaaaa ashton avenue https t co xrdz phrjl',\n",
              " 'legislative alert important legislation to accelerate clean renewable energy generation in missouri let s get this done moleg https t co zncmnvuwsg https t co lbrmhp vip',\n",
              " 'i was just thinking does he have to pay for that gas',\n",
              " 'a candbp investigation recently revealed despite a law that increased the oil amp gas severance tax to fund plugging of wells year ohio may have as many as k uncapped wells according to oh s orphan wells program manager gene chini https t co nnhjghxtu',\n",
              " 'this guy has been a coach for yrs btw he s established in his career and still doubled his biz in days that s the power of our system it s like throwing gas on the fire but even if your new check this out this new coach made k in weeks starting w zero clients https t co mpp jnqukn',\n",
              " 'if we re serious about curbing emissions from livestock production we re going to need real investments in meat alternatives and low impact livestock production bti s danrejto amp alexjmssmith in techreview https t co desseu ryf',\n",
              " 'so after over years of loyal service to british gas i was fired because i refused to sign their new contract that would have me working more hours for less pay i ve taken my future back and we have set up d amp l heating facebook d amp l heating https t co qg syfnu https t co qxbdqu tf',\n",
              " 'corporate interest in cleanenergy continues to expand as many companies work toward their sustainability goals in facebook achieved its target of procuring enough renewable projects to power of its global operations https t co j luoxaukb',\n",
              " 'https t co uqmmznnedt be relentless facial oil know thyself facial cream supernal exfoliating gel mask amp scrub amp now acceptance body cream will leave your skin silky soft super hydrated amp youthful looking skincareproducts https t co d jwk k gt',\n",
              " 'once again extinction rebellion is centring an imagined western victim narrative over very real climate change issues happening in real time specifically in the global south',\n",
              " 'mollyjongfast we re having a drought already been warned to expect outages this summer you think a week of freeze will kill texans just wait for a summer without ac in a drought a friend had a plan in that would ve avoided these outages still can t get traction with lawmakers',\n",
              " 'kamaalrkhan ok than condemne those say it terrorist are a blot on isl m terrorist are not real m slim they will burn in hell they do not deserve fat ha and burial burn them with carocin oil',\n",
              " 'equador following an oil spill in the ecuadoran amazon that contaminated the coca river last year local indigenous groups reliant on the river are still struggling to adapt to alternative livelihoods via mongabay https t co br ipbjnb',\n",
              " 'young reporters take on climateaction from their classrooms meet some of the apprentice journalists to find out which issues concerned them the most and how they propose to change some of the planet s bad habits via genevasolutions https t co u cl i education',\n",
              " 'cabot oil amp gas increases dividend by to https t co cm qmhgqg via seekingalpha news seekingalpha',\n",
              " 'what today s ceos don t understand is that the reason they re allowed to make so many mistakes is that they re sitting on oil they don t need people more capital is always on the way',\n",
              " 'suburban gardens by victor pasmore oil on canvas british council collection https t co kni h zxi',\n",
              " 'mattchiney niakumi don t forget the insurance benefits and the free gas that a lot of senior bank members get on top of that transportation benefits alongside the car them get lol fully greeddd',\n",
              " 'current ethereum safe low gas price gwei chart d https t co oummntmuht chart h https t co bjqfkecemv',\n",
              " 'year old samaria was on her way to receive care at a tennessee children s hospital when someone stole a car while she was in the back seat https t co d qjd awel',\n",
              " 'pay for gas food',\n",
              " 'seven countries account for two thirds of global gas flaring https t co s an ac u',\n",
              " 'the editors of four newspapers that were among those recently bought by state oil firm orlen have been replaced the changes come despite orlen promising no layoffs or interference and have reinforced concerns about government influence over the media https t co lswuwud gl',\n",
              " 'raul ix made it more expensive to fill up my truck with gas',\n",
              " 'i don t think some of y all understand how hard of a car nevah was my bitch would be pushing on no gas and still make it to our destination',\n",
              " 'octo octoswap airdrop bsc paste to trust wallet dapp https t co qgab k nz click claim and pay small gas fee in bsc',\n",
              " 'bobgto i watch my temp gauge more than i watch the road temp and oil those original engines are priceless',\n",
              " 'oil paintings https t co gziqqbttdc',\n",
              " 'oxygen refill in delhi agarwal gas plot no khasra number pooth khurd bawana road delhi m personally verified by ashishsharma rt karo sab',\n",
              " 'oil paintings https t co gziqqbttdc',\n",
              " 'the state of planet earth climate change water availability science today the pandemic don t miss as driscience nevadamedal honoree and fmr nasa amp noaa astrokds speaks on this amp many other timely topics w jamesfallows tomorrow at p m on vegaspbs and pbsreno https t co dskel zvhc',\n",
              " 'rscottschroeder evisceratebot mschlapp gop regarding pollution americafirst af gops are more focused on pollution than climate change i ve seen the screaming headlines on left leaning media sources an open license to pollute cbs news trump finalizes plan to poison of nation s waterways vanity fair',\n",
              " 'ftxp on the move oilgas oil gas oilandgas crude crudeoil naturalgas lng energy cleantech https t co yxdsagtqhn',\n",
              " 'https t co uqmmznnedt be relentless facial oil know thyself facial cream supernal exfoliating gel mask amp scrub amp now acceptance body cream will leave your skin silky soft super hydrated amp youthful looking skincareproducts https t co pnq ijyzb',\n",
              " 'boris johnson has signed off new oil and gas in the year the uk hosts global climate talks but people all over the uk want green jobs instead sign the petition https t co ixcjezehc',\n",
              " 'omoh you should really get my beard oil fr https t co jmj lnjqsh',\n",
              " 'customer review we love to hear feedback from our customers thank you so much for your kind review steve click here to learn more about textrol wood oil https t co malxem xbw owatrol owatroluk https t co k u zeueup',\n",
              " 'did you know that what s in vegetable oil is an industrial oil product better for cleaning and lubricating machinery there s no vegetable benefit or nutrients to be had in that gleaming bottle of golden vegetable oil',\n",
              " 'april refinery workers walk out on strike on this day in labor history the year was that was the day oil refinery workers went on strike https t co yftoeuc is',\n",
              " 'there s one provision that will totally change the fate of the u s energy economy and how the rest of the world perceives the u s on climate change it s called the clean electricity standard coralmdavenport https t co wyr ivdix',\n",
              " 'former communists tend to be the worst foes of communism former renewable energy peddlers tend to be the worst foes of renewables i was solidly in the second category nevermore',\n",
              " 'using feats of climate change know by most as weather to push an agenda is nothing new https t co a ogo mj',\n",
              " 'a year after the start of covid alberta lags all provinces in job recovery there are still fewer employees oil price is higher than pre pandemic levels and covid restrictions have been less restrictive than elsehwere so there s something else going on https t co z us jbqxr',\n",
              " 'gb grid gas is generating gw out of gw',\n",
              " 'unitedstates baker hughes total rig count at https t co xmiwvjeu x https t co rt ri njw',\n",
              " 'always did love a late breaking friday night bombshell of a science report https t co osgvzqb zs',\n",
              " 'woye valuer real d wailers will not ask their govrns now what measures are they taking to solve d problem looming amp to account for d previous bailouts amp monthly allocations from pmb are they just collecting amp chopping without investing for raining season that is about to fall on them yawah go gas',\n",
              " 'the brand new batch of the flavors extracts rso g syringes rick simpson oil is said to have healing properties well worth looking in to powerfully potent pain relief it s effective in managing and treating certain types of cancer highly recommended https t co b cllf jxq',\n",
              " 'bosch have developed a new gas sensor that can be trained using ml techniques essentially an electronic nose https t co wbhrfi jgq the demo example shows it being able to distinguish espresso from filter coffee tinyml via adafruit',\n",
              " 'it s important that companies keep their foot on the gas in to make their organization more diverse equitable and inclusive https t co sfudzv dh',\n",
              " 'size does matter more size means more space for our amazing super strong org infused oil our cookies has mg while the competition is the same price or lil less than ours amp has a quarter or less of the greenery vybz we use go with the best go with fruitlandntrls https t co tz kbhpq',\n",
              " 'oxygen tanker has arrived at hindustan air gas address hindustan air product plot no sector faridabad haryana delhi harpal singh verified in evening april covidindiainfo covid indiahelp',\n",
              " 'lovely walk around canonteign woods this afternoon in the sunshine bluebells are out along with yellow archangel and my first violet oil beetle of the year https t co l ysn i y',\n",
              " 'as we prepare for the thdevcon that will be focusing on climate change through planting of million trees we are proud of our counties that have passed climate change acts amp set up funds to deal with the single most perilious challenge of our time we urge the rest to do so https t co ezpo kw zx',\n",
              " 'https t co uqmmznnedt be relentless facial oil know thyself facial cream supernal exfoliating gel mask amp scrub amp now acceptance body cream will leave your skin silky soft super hydrated amp youthful looking skincareproducts https t co vcgowkoy',\n",
              " 'join us on of may at pm bst for a premiere screening of filmscurious s and picture zero s new documentary the people vs climate change this will be followed by a q amp a session with the filmmakers get your free tickets at the link below https t co ascfkr hyu',\n",
              " 'nigga at the gas station just asked me who i m listening to i ain t tell him it was me tho i just said new nigga named rubba band grant cause i know how niggas be',\n",
              " 'in celebration of diadelosninos we would like to remind everyone our new kid s website kids can learn about renewable energy electrical safety and water it also includes games videos and other educational activities click here https t co rslo a bpub https t co ylsdletwkz',\n",
              " 'we cannot eat coal and we cannot drink oil https t co dezzretsm stopeacop riseupmovement https t co rdueubee',\n",
              " 'luis adaime co founder and ceo of https t co fu fpwbjrh today at wallstreetgreensummit https t co nddti xje',\n",
              " 'https t co uqmmznnedt be relentless facial oil know thyself facial cream supernal exfoliating gel mask amp scrub amp now acceptance body cream will leave your skin silky soft super hydrated amp youthful looking skincareproducts https t co aaqzwq uhu',\n",
              " 'for this week s pow dispatch we re breaking down how the biden admin is pushing to modernize the us power grid details on why the reinstatement of methane regulations is such a big deal where a majority of americans stand on climate change amp much more https t co bexmlzirr',\n",
              " 'paul gauguin zemun sa dor olske strane oil on canvas albright knox art gallery https t co nn ryz s u',\n",
              " 'lol why do republicans want schools open so badly they re communist indoctrination camps shut em all down ur son timmy will do just fine not learning about police brutally and climate change ok',\n",
              " 'summary of open carry hearing yesterday us children with bullet holes them we don t want to have to put a jacket on to walk into the gas station senators r hmmm well you both make some good points endgunviolence momsdemand scpol shanemassey',\n",
              " 'oil paintings https t co gziqqbttdc',\n",
              " 'we re hiring a senior technical hse engineer in qatar work visa available open to qualified africans years post graduate experience with a least years in the oil gas industry knowledge of international shell dep s standards apply here https t co uxnzasrvs',\n",
              " 'so after over years of loyal service to british gas i was fired because i refused to sign their new contract that would have me working more hours for less pay i ve taken my future back and we have set up d amp l heating facebook d amp l heating https t co qg syfnu https t co qxbdqu tf',\n",
              " 'jacksontharris eajrva rexchapman or don t bother me when i m pumping gas and kindly leave me alone',\n",
              " 'notlordbyron we once used oil that separated from the peanut butter for lube we ran out of actual lube it all went south as in bad to this day if i even get a whiff a peanut butter smell i will gag',\n",
              " 'austin texas gas prices thank you socialists https t co g u g ft',\n",
              " 'the federal science workforce has been shaped by decades of underfunding political interference and race and gender bias the biden administration is seeking to fix that as it turns its attention towards combatting climate change https t co s oo jh p',\n",
              " 'oxygen refill in delhi agarwal gas plot no khasra number pooth khurd bawana road delhi m personally verified by ashishsharma rt karo sab',\n",
              " 'the glare of the sun today revealed an interesting pattern might just be a varnish layer though there s a seemingly even layer throughout also trying to figure out whether the painting is oil or tempera or both https t co yhcvkritdj',\n",
              " 'wish you could add nfts to a cart amp purchase multiple through gas transaction id be buying a bunch more nfts today if that was the case',\n",
              " 'climate change is a threat multiplier that sometimes gives people no other choice but to migrate we need to keep fighting for a world where all people can be safe wherever they are https t co al yawsju',\n",
              " 'diversified gas amp oil acquiring cotton valley assets from indigo minerals for mm x multiple of ebitda and pf pv at strip prices mboepd mcfepd prod from wells new focus area for co apart from appalachia https t co hq ckgfvbi',\n",
              " 'so after over years of loyal service to british gas i was fired because i refused to sign their new contract that would have me working more hours for less pay i ve taken my future back and we have set up d amp l heating facebook d amp l heating https t co qg syfnu https t co qxbdqu tf',\n",
              " 'horse shit just fcuck off older people will have to make sacrifices in the fight against climate change or today s children will face a future of fighting wars for water and food the eu s deputy chief has warned https t co iqitxha yq',\n",
              " 'us baker hughes oil rig count actual forecast previous',\n",
              " 'many food crops originate in africa including species of wheat barley millet and sorghum teff coffee rooibos tea cowpea and oil palm ipbes regionalassessment on biodiversity for africa https t co et l nif o https t co mbpyxk bs',\n",
              " 'foot worship dildo gag video up now you re welcome for the opportunity to watch me oil these up for you https t co iuhnli z s',\n",
              " 'so after over years of loyal service to british gas i was fired because i refused to sign their new contract that would have me working more hours for less pay i ve taken my future back and we have set up d amp l heating facebook d amp l heating https t co qg syfnu https t co qxbdqu tf',\n",
              " 'gotta say i love the fuck these sheets i have baby oil mentality',\n",
              " 'very dear nri s and oci we just cannot produce oxygen out of thin air and push it into a gas cylinder or import oxygen concentrator overnight you left because you knew what it is',\n",
              " 'camphor oil ml sesame oil castor oil ml safi neem oil ml grape seed ml',\n",
              " 'we re hiring a senior materials amp corrosion engineer in qatar work visa available open to qualified africans minimum years of relevant post graduate experience of which years in oil and gas industry apply here https t co dlfzuqvro',\n",
              " 'new leadership role majorityact just announced the director of campaigns role join the fight for racial justice climate change and worker safety gt gt apply now https t co vez zslsmp',\n",
              " 'these machines fight climate change laurie says he likes cycling because he can go to places nearby to make cycling better he would like no cars and cycle paths everywhere thismachinefightsclimatechange thetimeisnow pedalonparliament https t co swocg hyyf',\n",
              " 'stevefeather rexchapman ever filled a gas can literally no seal',\n",
              " 'us baker hughes oil rig count actual forecast previous oott',\n",
              " 'the renewableenergy credit program will begin may and allows sanmarcos residents to purchase energy that has been metered and verified from renewable sources including wind and solar power https t co rq coyvji',\n",
              " 'u s baker hughes oil rig count actual vs previous est u s baker hughes total rig count actual vs previous',\n",
              " 'summary of open carry hearing yesterday us children with bullet holes them we don t want to have to put a jacket on to walk into the gas station senators r hmmm well you both make some good points endgunviolence momsdemand scpol shanemassey',\n",
              " 'jojofromjerz rudygiuliani yottabytes of data he still thinks bytes are tangible consumables so that s why he was in charge that s why they ve been wrongly metering bandwidth like a gas pump what they ve been doing is shuttling and lagging out the net as to fake the need and cause more gentrification',\n",
              " 'airboy the ordinary hyaluronic for moisture the ordinary niacinamie the ordinary moisturizer drops of the ordinary rose oil',\n",
              " 'ikirtitiwari good morning it s made by west to reduce world population and achieve global climate change',\n",
              " 'fufu is supposed to be served with perfume oil',\n",
              " 'climate change is affecting people s health in unexpected ways dr cheryl l holder talks about when she realized how strong that link was https t co yam sbjlmf',\n",
              " 'day in day out x cm oil on brass save https t co kfjeb xjap',\n",
              " 'there s one provision that will totally change the fate of the u s energy economy and how the rest of the world perceives the u s on climate change it s called the clean electricity standard coralmdavenport https t co wyr ivdix',\n",
              " 'new article does cbd oil help arthritis pain https t co wnpjd lkt https t co dfyz kxlbv',\n",
              " 'began negotiations to re enter the iran nuclear deal infringed on our a rights re entered the disastrous paris climate agreement proposed to lock up land from farmers amp ranchers called for out of control spending amp massive tax hikes banned new oil and gas leases',\n",
              " 'summary of open carry hearing yesterday us children with bullet holes them we don t want to have to put a jacket on to walk into the gas station senators r hmmm well you both make some good points endgunviolence momsdemand scpol shanemassey',\n",
              " 'began negotiations to re enter the iran nuclear deal infringed on our a rights re entered the disastrous paris climate agreement proposed to lock up land from farmers amp ranchers called for out of control spending amp massive tax hikes banned new oil and gas leases',\n",
              " 'fufu is supposed to be served with perfume oil',\n",
              " 'as secdebhaaland puts it our public lands belong to every single american they don t belong to one industry we couldn t agree more our parks are for everyone and they can be a part of the climate change solution to protect our planet https t co zvwede',\n",
              " 'so after over years of loyal service to british gas i was fired because i refused to sign their new contract that would have me working more hours for less pay i ve taken my future back and we have set up d amp l heating facebook d amp l heating https t co qg syfnu https t co qxbdqu tf',\n",
              " 'canada s remote oil sands region in northern alberta has become a covid hotspot disrupting essential annual maintenance work at its massive oil sands plants https t co oqkboxbhjj',\n",
              " 'mallinckrodt presents data evaluating inomax nitric oxide gas for inhalation in a phase observational registry in neonates with pulmonary hypertension at the pediatric academic societies pas virtual meeting https t co davo fjusg stockmarket',\n",
              " 'biotech corporations admit that their c vaccines do not provide long term immunization nor do they prevent transmissions getting jabbed with their snake oil is like wearing fishnet condoms vaxxscams https t co zp wbcpgmv',\n",
              " 'abrupt climate change will produce permanent catastrophic consequences in the tropics by the s and in the rest of the world by the s according to the peer reviewed study which was the first to integrate all prior scientific research thread https t co s g k t',\n",
              " 'my latest how to start tackling your home s water and climate footprint https t co iulq eng',\n",
              " 'after giving evs a go percent of electric vehicle owners go back to gas powered cars on the next purchase citing lack of home charging access as well as a few surprising reasons https t co njsp cc lz',\n",
              " 'energy update oil wti undated oil brent undated natural gas heating oil gasoline london gas oil oil brent wti oott',\n",
              " 'let me start some shit with this nigga because why did i just pump and pay for my own gas',\n",
              " 'https t co uqmmznnedt acceptance face amp body cream and be relentless facial oil w incredible anti aging properties super hydrating amp never greasy who likes wrinkles right not me skincareproducts https t co ehc gpouvj',\n",
              " 'for those of us that like to put fruits in our salad like apples and grapes i just tried this salad dressing with mango puree mango puree honey lemon juice olive oil lil salt black pepper mix together and dress your salad with it',\n",
              " 'fufu is supposed to be served with perfume oil',\n",
              " 'that is why i m proud to tell you about an organizing and legal campaign i am leading to speed up repairs at fulton houses in chelsea where tenants in an entire building have not had gas since february th to push back against the privatization of nycha more broadly',\n",
              " 'eugonzos atlantopoodles european parliament has approved the resolution on russia with calls for sanctions against the nord stream gas pipeline project https t co bmkduju mc',\n",
              " 'new wifi boiler can run on gas and hydrogen the new boiler could help homeowners lower their energy bills and reduce their carbon emissions viessmannuk https t co ednmnxlecg heatpumps hydrogenheating',\n",
              " 'a year old girl abducted from a gas station in tennessee was in the area to receive help from st jude children s hospital https t co mlhdazdewa https t co vvozj fjo',\n",
              " 'iic has hosted groups over the years on renewable energy amp sustainability agricultural trade amp food safety agricultural policies and rural development agribusiness development and expanding agricultural markets we love the opportunity to host international visitors https t co e g we k',\n",
              " 'exxon tops earnings estimates as oil prices chemicals drive rebound https t co zbszuemaui https t co ri qjqm xh',\n",
              " 'the massive oil discoveries since may with offshore deposits currently estimated at billion barrels have raised the stakes for guyana which is now on the way to becoming one of the world s largest crude oil producers https t co gyigog jdi',\n",
              " 'a year old girl abducted from a gas station in tennessee was in the area to receive help from st jude children s hospital https t co oxalq yh',\n",
              " 'maverick creek provides more than k megawatt hours of renewable energy annually and reduces kimberly clark s greenhouse gas emissions by more than k mtco e that s equivalent to emissions from more than k passenger vehicles driven for one year https t co etxzfsete',\n",
              " 'tina lieberman volunteer chair of the city of albany sustainability advisory committee talks with alexx weihrich about her session for the sustainable futures conference happening april https t co b d exiwal',\n",
              " 'itsthereal bizz michuemenalo this is just dumb things are so hard in ur country that when someone spills gasoline somewhere to save his own life u worry about the cost of the gas may poverty elude me in jesus name',\n",
              " 'the next generation of architects their priorties a survey of the uk s top emerging practices reveals plenty of style and wit alongside a desire to prioritize diversity climate change and housing shortages read https t co ptpx iljnp architecture youngarchitects',\n",
              " 'good samaritan proposal to plug orphan oil amp gas well in allegheny county https t co iuil rr x https t co urvkw ec',\n",
              " 'oil price update brent crude oilprice source https t co p tiqjn kc',\n",
              " 'new polling reveals voters don t want to pay more taxes to address climate change the findings highlight a blind spot for biden as he proposes raising trillions of dollars in new tax revenue to fund spending programs greennewdeal gnd nonewtaxes https t co ohwbqf v t',\n",
              " 'the april economic report takes a special in depth look at the global and domestic energy markets to provide a medium term outlook on oil and petroleum at home and abroad get the stears data april economic report here https t co gkjwrzi hl',\n",
              " 'have you noticed higher prices at the lumber yard or gas station lumber prices quadrupled in some areas while fuel prices have nearly doubled dgrant fw explains how sticker shock also remains a key issue for those eating at home and dining out https t co zc x dhd https t co qorynlyug',\n",
              " 'https t co uqmmznnedt be relentless facial oil know thyself facial cream supernal exfoliating gel mask amp scrub amp now acceptance body cream will leave your skin silky soft super hydrated amp youthful looking skincareproducts https t co bnptp ej t',\n",
              " 'cofounder of greenpeace on climate change a front for a radical political social and economic transformation of our entire civilization in other words climate change is a global wealth redistribution scam clearly yellen is in on it along with john kerry et al',\n",
              " 'nahjisu hot oil splashes are a real danger',\n",
              " 'what is algorand a speedy scalable platform for dapps sentiment positive the native utility token for the algorand ecosystem is known as algo it s the gas token used to pay for transactions and brief https t co zju kccsr https t co gnfuuumbpw',\n",
              " 'i ve known secretary vilsack for years and there s no doubt the usda is in good hands with him at the helm once again i look forward to working with him to support america s farmers tackle hunger and climate change and rebuild our rural economies',\n",
              " 'buy a anker roav jump starter pro a mah v portable car jump starter gas engines up to l diesel up to l battery and phone charger with usb ports sos led and jumper cables from plentygadgets lt https t co stk kjemeb',\n",
              " 'climate change is a threat multiplier that sometimes gives people no other choice but to migrate we need to keep fighting for a world where all people can be safe wherever they are https t co al yawsju',\n",
              " 'cbd oil wonder drug or widespread scam https t co qq kwhku c',\n",
              " 'bring back st lockdown gas prices bro',\n",
              " 'https t co uqmmznnedt be relentless facial oil know thyself facial cream supernal exfoliating gel mask amp scrub amp now acceptance body cream will leave your skin silky soft super hydrated amp youthful looking skincareproducts https t co d jwk k gt',\n",
              " 'israhirsi is one of the youngest muslim climate activists out there she said in an interview that climate change is the fight of my generation and it needs to be addressed urgently read all about our muslim women to watch honoree https t co sjppagiei',\n",
              " 'austin texas gas prices thank you socialists https t co g u g ft',\n",
              " 'new economist yougov poll has the threat of climate change been exaggerated or not exaggerated not exaggerated not sure of dems of reps of independents say threat of climate change has been exaggerated',\n",
              " 'systems change and individual behavior change are not conflicting frameworks for how to mitigate climate change they are two sides of the same coin from climateworks linafedirko with reference to climateoutreach s work on this critical topic https t co sphpos yaa',\n",
              " 'local gas station sequential biofuels has set out to bridge the widening gap between sustainability and gasoline they have committed to locally outsourcing food and using renewable resources such as biodiesel to make gasoline via emerson brady https t co bjk c cx',\n",
              " 'i have two cats one is a shy angel with separation anxiety and the other one spilt a whole bottle of scented oil earlier today and rolled in dirt right after so',\n",
              " 'wapa plans to offset to percent of generation through renewable energy resources within the next three to five years resulting in compliance with a law that mandates at least percent of conventional generation be offset by renewables by https t co vxv mguorr',\n",
              " 'don t forget to register for next week s online event on the economics of climatechange hear from ipcc scientists how understanding climate change can help us plan amp how response options can also bring opportunities thursday may am et https t co l rnoejng https t co q feltcho',\n",
              " 'in all the countries we operate they have net zero targets and we think it s prudent for us to adopt it opinion https t co qbfhnssfup',\n",
              " 'don t forget to register for next week s online event on the economics of climatechange hear from ipcc scientists how understanding climate change can help us plan amp how response options can also bring opportunities thursday may am et https t co l rnoejng https t co q feltcho',\n",
              " 'delivered to london uk thanks for your patronage my darling party earrings simple earrings and steel bracelet a free perfume oil https t co vqg q hrur',\n",
              " 'don t forget to register for next week s online event on the economics of climatechange hear from ipcc scientists how understanding climate change can help us plan amp how response options can also bring opportunities thursday may am et https t co l rnoejng https t co q feltcho',\n",
              " 'each tree is planted with community inclusion being at the heart of our work to meet their goals improving water quality remediating polluted land mitigating flooding combating climate change and more learn more about delta s overall impact at https t co mtyk lqlc',\n",
              " 'united states oil fund option alert may puts sweep near the ask vs oi ref uso',\n",
              " 'if its all gray screens it might be that your browser doesnt like the scene in black dog when he mashes the gas line',\n",
              " 'https t co uqmmznnedt be relentless facial oil know thyself facial cream supernal exfoliating gel mask amp scrub amp now acceptance body cream will leave your skin silky soft super hydrated amp youthful looking skincareproducts https t co zp ulilrzp',\n",
              " 'vanessa vash i quite agree with you we don t need new oil pipelines no destroying of the environment for fossil fuels my infinite support solidarity and sympathy for you vanessa and your amazing fellow campaigners stay strong and keep fighting https t co mfhvlxnksa',\n",
              " 'cybernation and automation https t co sdcbl shb renewable energy sources https t co o salbat machines do the repetitious boring jobs https t co pkbjmf cs citysystem cybernated system efficiency infrastructure innovation planet over profit resourcebasedeconomy https t co caxg hssqi',\n",
              " 'it hasn t happened yet in hrva but triple a says standby for gas shortages this summer the reason may surprise you my story tonight at wavy news https t co wfgzkmj d',\n",
              " 'about percent of san francisco s greenhouse gas emissions comes from natural gas combustion in buildings in residential buildings the largest use of natural gas is for appliances like water heaters furnaces ovens and laundry dryers https t co vwdqmjvzb',\n",
              " 'to get the facts across and effectively clarify misinformation climategeek of ucsusa recommends several strategies to fellow climate change communicators who want to best connect with their audience https t co twxbzwf hp scicomm sciencetwitter scienceupfirst',\n",
              " 'having over figures in bitcoin but also needing to double check i have dollars in my bank account for a candy bar and soda from the gas station is a place in life i m very content with',\n",
              " 'delivered to london uk thanks for your patronage my darling party earrings simple earrings and steel bracelet a free perfume oil https t co vqg q hrur',\n",
              " 'https t co uqmmznnedt be relentless facial oil know thyself facial cream supernal exfoliating gel mask amp scrub amp now acceptance body cream will leave your skin silky soft super hydrated amp youthful looking skincareproducts https t co xcje u oj',\n",
              " 'oott us baker hughes rig count apr prev rotary oil rigs est prev rotary gas rigs prev',\n",
              " 'today s gofishingweek theme is climate change the below video discusses the many different elements that have had an impact on sea trout populations in connemara one of these being climate change climatechange angling https t co yiuyuw jib',\n",
              " 'oxygen refill in delhi agarwal gas plot no khasra number pooth khurd bawana road delhi m personally verified by ashishsharma rt karo sab',\n",
              " 'https t co uqmmznnedt be relentless facial oil know thyself facial cream supernal exfoliating gel mask amp scrub amp now acceptance body cream will leave your skin silky soft super hydrated amp youthful looking skincareproducts https t co xcje u oj',\n",
              " 'u s baker hughes oil rig count actual vs previous est u s baker hughes total rig count actual vs previous',\n",
              " 'oott us baker hughes rig count apr prev rotary oil rigs est prev rotary gas rigs prev',\n",
              " 'did you know that what s in vegetable oil is an industrial oil product better for cleaning and lubricating machinery there s no vegetable benefit or nutrients to be had in that gleaming bottle of golden vegetable oil',\n",
              " 'the united states needs to remove president nicol s maduro legitimately and constitutionally elected by the people from the government in order to appropriate their oil the kidnapping of venezuelan ambassador un cape verdean clearly reflects this freedom for a exsaab now https t co n s n zgfd',\n",
              " 'new polling reveals voters don t want to pay more taxes to address climate change the findings highlight a blind spot for biden as he proposes raising trillions of dollars in new tax revenue to fund spending programs greennewdeal gnd nonewtaxes https t co ohwbqf v t',\n",
              " 'vincent van gogh long grass with butterflies oil on canvas x cm https t co nk np dm',\n",
              " 'https t co uqmmznnedt be relentless facial oil know thyself facial cream supernal exfoliating gel mask amp scrub amp now acceptance body cream will leave your skin silky soft super hydrated amp youthful looking skincareproducts https t co pnq ijyzb',\n",
              " 'the disastrous green new deal led by the far left in washington takes direct aim at our energy industry it would not only mean higher electrical costs across the country but it would destroy coal oil amp gas jobs that families and communities in wyoming rely on',\n",
              " 'pick up a free king card at any gas king location and begin earning points immediately earn per litre amp spend your points on anything gas king sells jointheroyalfamily https t co mrxvinuadq',\n",
              " 'fufu is supposed to be served with perfume oil',\n",
              " 'if you want to spend your free time scoping out greenhouse gas fluxes go check out our display materials on light dark measurements of co in iceland for eurogeosciences q amp a encouraged egu ghg biogeosciences fluxlife egu biogeo https t co qfonmo x https t co ddbt qz l',\n",
              " 'goldman oil to hit on largest ever demand jump https t co sdvuij lhs oilprice',\n",
              " 'a new report suggests illinois producers could be faced with mitigation efforts to lessen the impact of climate change but the authors suggest the findings are also applicable across the midwest https t co toa drwao',\n",
              " 'so after over years of loyal service to british gas i was fired because i refused to sign their new contract that would have me working more hours for less pay i ve taken my future back and we have set up d amp l heating facebook d amp l heating https t co qg syfnu https t co qxbdqu tf',\n",
              " 'findartfriday the guitar player painting by jules zermati period th century materials oil on canvas measurements x send tips to https t co ci yddayq https t co lrx nocdwj',\n",
              " 'my latest for bitcoinmagazine a long read on the mysterious creation shocking costs and inevitable decline of the petrodollar what if the world reserve currency didn t rely on oil rising inequality wars abroad and pacts with dictators https t co w kqvmbqk',\n",
              " 'i ve just paid r million for gas',\n",
              " 'there s one provision that will totally change the fate of the u s energy economy and how the rest of the world perceives the u s on climate change it s called the clean electricity standard coralmdavenport https t co wyr ivdix',\n",
              " 'us oil rigs w w changes in key shale basins permian to eagle ford to williston unchanged at cana woodford unchanged at dj niobrara unchanged at baker hughes oott',\n",
              " 'having over figures in bitcoin but also needing to double check i have dollars in my bank account for a candy bar and soda from the gas station is a place in life i m very content with',\n",
              " 'this is not the first time the brain trust behind nikola has done this in trevor was in deep financial trouble so he rushed to production with an untested natural gas fueling system inevitably it was full of design flaws and ended up failing miserably x',\n",
              " 'luis adaime co founder and ceo of https t co fu fpwbjrh today at wallstreetgreensummit',\n",
              " 'mathabajorge oil is more expensive at those well known shops such as shoprite p n p',\n",
              " 'this is a cool project i invested in hashflownetwork is a dex with great liquidity read more below',\n",
              " 'https t co uqmmznnedt be relentless facial oil know thyself facial cream supernal exfoliating gel mask amp scrub amp now acceptance body cream will leave your skin silky soft super hydrated amp youthful looking skincareproducts https t co heov vcbrg',\n",
              " 'tonepersson we need a system change not climate change my infinite support solidarity and sympathy for you tone stay strong and keep on your great fight for a better future https t co nhcneik ak',\n",
              " 'power provider southern company signed an agreement to sell its wholesale gas business after the unit brought in million during the texas power crisis https t co edi brwpgx',\n",
              " 'hwy will cost ontarians up to billion in damages from airpollution and pave over green space and farmland that we need to fight climatechange if ford cares about ontarians he would cancel and stopthe now onpoli https t co ja sdxv wx',\n",
              " 'usd u s baker hughes oil rig count actual afternewsevent forex fx futures oil naturalgas sp us y open in bettertrader app https t co ucrb s wz https t co a nnkgc kd',\n",
              " 'hotlinejosh jonathanchait only dems deal with climate change elderly care child care workforce training jobs income inequality all without acquiescing to the whims of a brutal thug amp former kgb spy like putin aside from all that sure akin shyeah',\n",
              " 'a year after the start of covid alberta lags all provinces in job recovery there are still fewer employees oil price is higher than pre pandemic levels and covid restrictions have been less restrictive than elsehwere so there s something else going on https t co z us jbqxr',\n",
              " 'demongassy best part about it being a public bathroom is more people can come in and join the fun the winner shall be the last one still conscious with all that gas knocking around',\n",
              " 'fufu is supposed to be served with perfume oil',\n",
              " 'jamesrossrjames yes and if we don t take major climate action much of the us coast and miles inland will not be habitable and if we do not get democrats in control of presidency house and senate rest assured all will get worse climateaction wtpblue onev https t co due s m',\n",
              " 'baker hughes oil rig count comes in at versus last week https t co nuysszuzj',\n",
              " 'don t forget to register for next week s online event on the economics of climatechange hear from ipcc scientists how understanding climate change can help us plan amp how response options can also bring opportunities thursday may am et https t co l rnoejng https t co q feltcho',\n",
              " 'an executive at shale gas explorer cnx criticized the long term pledges to reduce emissions that have slowly gained traction in the industry saying they lack detail and accountability https t co igogn pgju via business',\n",
              " 'us oil directed rig count declined by to oil shale opec oott https t co t mujicmj',\n",
              " 'john kerry invested in oil companies prior to becoming biden s climate envoy financial disclosures show https t co qto eg eiu',\n",
              " 'https t co uqmmznnedt be relentless facial oil know thyself facial cream supernal exfoliating gel mask amp scrub amp now acceptance body cream will leave your skin silky soft super hydrated amp youthful looking skincareproducts https t co vcgowkoy',\n",
              " 'oil market eiagov has revised down its february us oil production estimate lowering it to m b d based on monthly data down b d from m b d it had calculated earlier based on weekly data the texas freeze is behind it january output was m b d oott',\n",
              " 'fufu is supposed to be served with perfume oil',\n",
              " 'in his first speech before congress biden argued it was time to turn the pandemic into a historic opportunity to expand government for the benefit of a wider range of americans urging investments in jobs climate change infrastructure and more https t co texyljorqg',\n",
              " 'gas used in currently pending transactions seconds gt gt gt gt gwei minute gt gt gt gt gt gwei minutes gt gt gt gt gt gwei gt minutes gt gt gt gwei ethereum eth gasprice',\n",
              " 'liny eddie speedkicks atlabstract it s on mlk in the city by a shell gas station',\n",
              " 'dragonking toot oh i m sorry from time to time i get a little gas',\n",
              " 'us oil directed rig count declined by to oil shale opec oott https t co t mujicmj',\n",
              " 'avalancheavax simplicity have auto lp token creators that balance out the tokens evenly taking into account the gas too a phone app that lets you navigate defi as you can on your laptop alerts maybe that let you know you re not getting the best yield on liq pools many things',\n",
              " 'we re hiring a wellhead maintenance supervisor in qatar work visa available open to qualified africans years supervisory experience preferably in production operations offshore having attended courses in supervisory amp manpower management apply https t co nso tkzjcg',\n",
              " 'john kerry is a hypocrite of the highest order on this amp other matters he is the embodiment of all that is evil amp corrupt in our nation s political establishment let s pray that truth will lead to equal justice for people like him to show that nobody is above the law https t co b kvsrliop',\n",
              " 'this one hits a little too close to home regionrat cc michaelwd',\n",
              " 'we re hiring an operations engineer in qatar work visa available open to qualified africans years experience in rig less related activities of which at least years in a similar position with an international operating company apply here https t co wvzyfkosmf',\n",
              " 'systems change and individual behavior change are not conflicting frameworks for how to mitigate climate change they are two sides of the same coin from climateworks linafedirko with reference to climateoutreach s work on this critical topic https t co sphpos yaa',\n",
              " 'this week pilipinas created light paintings to remind world leaders at the leadersclimatesummit that we have a short time to do what science demands limit global warming to c keep fossil fuels in the ground and quickly transition to renewable energy https t co dpd a otqk',\n",
              " 'very dear nri s and oci we just cannot produce oxygen out of thin air and push it into a gas cylinder or import oxygen concentrator overnight you left because you knew what it is',\n",
              " 'we re hiring a technical records analyst goescience in qatar work visa available open to qualified africans years post degree relevant working experience in practicing petrophysical data management apply here https t co fcj oo jbl',\n",
              " 'bring back st lockdown gas prices bro',\n",
              " 'and how will this affect climate change not one bit just more people pushed into fuel poverty that s all https t co oro wwztax',\n",
              " 'we re hiring a civil structural engineer in qatar work visa available open to qualified africans minimum years of relevant post graduate experience of which years in oil and gas industry apply here https t co ofiujxiumr',\n",
              " 'reza zarrab is expected to testify in a u s court for his role in helping iran evade sanctions in the s but we reveal that zarrab was just a cog in a larger scheme that involved transactions with some of the world s largest banks whobankedforiran https t co nf s qf ve',\n",
              " 'april eddy hamel was murdered in a gas chamber in auschwitz born in nyc in as a teenager he moved to amsterdam st jewish player in afcajax he scored goals in league games after arrest in oct he was deported to auschwitz with his wife amp kids https t co rs ljnfz',\n",
              " 'the vote against funds for the inland oil spill program rick was joined by repschrader who was challenged last year by mark gamba proposed on june th petroleum marketers association gives on july rd schrader votes against the amendment on july th https t co xhr yeiapq',\n",
              " 'msmariablack boston grandpa badboyboogie nullnotvoid avestige selfimposedxile bostonstrongb caramba ellenc actionp gramv missgfycuffy tbiadvice maxiemama nastypantsuit cptnwtrpnts acjjustice brat pacoluismonta a goddessofautumn supermom eronel sparkies bdonikian bigotedvsbigots bkgut shashatheitch luisafontana fdell wicked groove intel ladyred iamkarenbobaran iamisiander goofmcfloof mikerjohnson nicole bertrand scoootchover xlawyer wyldeheartedson bluecollarbret bjcreigh alice u ronda karlieincali steph is salty state deep garynordstrom kanoe franks ndlife but then we didn t have a car a phone cable for a yr we didn t have any tv or oil for months of a month winter spitting on the kerosene heater we slept around in the living room to watch it sizzle became the height of entertainment',\n",
              " 'ever days diced skin on with green amp red peppers onions jalape os fresh rosemary crushed red pepper seasoning and old bay saut ed with oil and served piping hot',\n",
              " 'oxygen refill in delhi agarwal gas plot no khasra number pooth khurd bawana road delhi m personally verified by ashishsharma rt karo sab',\n",
              " 'th repair they replaced the alternator the water pump the oil filter housing put the fan belt improbably it broke all after i brought it in for an oil change now they scratched my wheel and cracked the arm rest i m to small to use the arm rest https t co uo i jnvmt',\n",
              " 'altcoingaijin matic was nice enough to seed wallets with some gas too according to multichain explorer people are still sending assets fine https t co vmfgvpxxy https t co sknntzkmiv',\n",
              " 'the once mighty shale explorer is seeking to sell oil producing assets in south texas https t co bl diiomt shale oilandgas energy',\n",
              " 'toyota snaps up lyft amp apos s self driving cars unit for million toyota is hitting the gas to achieve its self driving goals by buying lyft amp s autonomous vehicle business for over half a billion dollars https t co j e vmwjo https t co blii cegql',\n",
              " 'nathealth thanks the goi for the much needed step to secure the supply chain amp availability of inflammatory biomarkers for covidtesting we appreciate icmrdelhi cdsco india inf mohfw india finminindia for accepting our recommendations to strengthen the diagnostics sector',\n",
              " 'be relentless is an all natural super fruit facial oil that will leave your skin brighter smoother amp super hydrated without feeling greasy now with sezzle just make easy installments of w my code brendalove https t co zj vwszman stay safe skincareroutine https t co bsvqn ln',\n",
              " 'winter oils mustard oil ml for inquiries https t co mvmsfocxfi fllw cosmeticszw list of other skin amp hair oil in the comment section treat acne cure cold amp cough anti inflammatory anti fungal anti bacterial tan amp dark spots removal natural sunscreen lightens the skin https t co p aohvxprm',\n",
              " 'be relentless is an all natural super fruit facial oil that will leave your skin brighter smoother amp super hydrated without feeling greasy now with sezzle just make easy installments of w my code brendalove https t co zj vwszman stay safe skincareroutine https t co bsvqn ln',\n",
              " 'scientists at the university of chicago ultra cooled down a gas of atoms synthetizing for the first time a superfluid of molecules https t co jcbaihowv',\n",
              " 'telling y all to pray and prepare stock up on can soups and frozen bread if thats all you can afford and good grief don t tell your neighbors',\n",
              " 'rt thevenusproject cybernation and automation https t co vtz ubs yg renewable energy sources https t co sguatcjbwv machines do the repetitious boring jobs https t co xunz muv citysystem cybernated system efficiency infrastructure innova https t co chavm sk q',\n",
              " 'eia monthly crude oil and natural gas production release for feb release date april lots of weather noise in report impossible to judge shale oil oott oilandgas texas https t co c vbuubinx',\n",
              " 'festlegen nyinla kennedyb rexchapman they ll the smell of that gas out of that vehicle either lol',\n",
              " 'drfranklipman olive oil all the way',\n",
              " 'rexchapman someone should get the movie rights epic scene possible titles lethal gas nozzle attack the gas station laughing gas out of gas gas light',\n",
              " 'the gop platform obstruct gaslight project grift lie cheat incompetence ignorance selfishness stupidity cruelty whataboutism revisionism gerrymandering ayn rand pretend to follow jesus suppress voting rights worship money deny science hump guns shill for big oil bow to trump',\n",
              " 'new research shows the worldbank directed more than billion towards fossil fuel projects in undermining efforts to address climate change tell the worldbank to stopfundingfossils today https t co fulndbtkf',\n",
              " 'gas money for a year old as compensation for sex admitting it in a signed confession to roger stone priceless',\n",
              " 'nickeardleybbc maggiechapman project which will have a lifespan of years if scotland does not grasp the issue right now it will fall behind and struggle oil is the past green renewables are the future it makes sense on so many levels snp greens in the north east',\n",
              " 'the state of planet earth climate change water availability science today the pandemic don t miss as driscience nevadamedal honoree and fmr nasa amp noaa astrokds speaks on this amp many other timely topics w jamesfallows tomorrow at p m on vegaspbs and pbsreno https t co dskel zvhc',\n",
              " 'a year after the start of covid alberta lags all provinces in job recovery there are still fewer employees oil price is higher than pre pandemic levels and covid restrictions have been less restrictive than elsehwere so there s something else going on https t co z us jbqxr',\n",
              " 'rexchapman someone should get the movie rights epic scene possible titles lethal gas nozzle attack the gas station laughing gas out of gas gas light',\n",
              " 'rtdna report one in five television news directors reported attacks on employees and of news directors purchased bulletproof vests and gas masks and sent security teams with reporters more often protestors and police attacked journos https t co jmtombhrak',\n",
              " 'tired of experience crunch curls the palmersworks coconut oil formula moisture boost curl defining cream in the aprilbox perfectly defines curls for a crunch free natural look have you tried this product let us know what you think https t co vs sblm kr',\n",
              " 'duke acknowledges it only applies an artificial limit on capacity additions to solar not on new gas plants duke assumed only mwac yr of solar can be added across their entire combined carolinas territory which has mw of operating capacity dukeirphearing',\n",
              " 'the way we produce food has accelerated climate change now scientists are looking into sustainable production methods which could reverse it https t co n rwvzav',\n",
              " 'so after over years of loyal service to british gas i was fired because i refused to sign their new contract that would have me working more hours for less pay i ve taken my future back and we have set up d amp l heating facebook d amp l heating https t co qg syfnu https t co qxbdqu tf',\n",
              " 'spring dream oil painting https t co xobjuv ua',\n",
              " 'we call on the adb to issue a new energy policy that ends its financing not only of coal but all fossil fuels we cannot address the climateemergency with gas as transition fuel asiandevbank stopfunding fossilfuels',\n",
              " 'davidlaz mikeokuda second only to doing the same to climate change',\n",
              " 'glaciers are melting faster than ever because of human caused climate change dumping about billion tons of melted ice into the oceans each year https t co s evqtllcz usatoday',\n",
              " 'tech news from china china spent more on importing semiconductors than oil last year illustrating the size of the gap china hopes to close by encouraging domestic production https t co a qinimkgg',\n",
              " 'if i go to a gas station and they ask for my driver license i instantly get pissed and leave',\n",
              " 'online retailer sells poisonous snake oil as cancer cures owner makes billions treats workers like disposable cogs in a machine',\n",
              " 'realrilwanbello tife fabunmi unclemohamz dehkunle ogbame justus kayzywizzzy alan yournextbf saadatbibire theakorede divineze butterbibi well i sell tallness oil pls patronize my business https t co l idoyybzp',\n",
              " 'replizcheney you re kidding right we will gain so many new jobs amp career paths the future is green amp renewables it is not oil stop with this nonsense coal isn t coming back',\n",
              " 'oil market eiagov has revised down its february us oil production estimate lowering it to m b d based on monthly data down b d from m b d it had calculated earlier based on weekly data the texas freeze is behind it january output was m b d oott',\n",
              " 'landerking king i thought all of these skeptical positions had been put to bed years ago perhaps it s time newscientist updated its climate change faq https t co rpg yzxq x',\n",
              " 'we call on the adb to issue a new energy policy that ends its financing not only of coal but all fossil fuels we cannot address the climateemergency with gas as transition fuel asiandevbank stopfunding fossilfuels',\n",
              " 'noreent murdo fraser why so they can drain away all of our gas and oil get off your knees scotland indyref https t co xb o syhcg',\n",
              " 'how do you call a grifter in the machine learning community',\n",
              " 'at supreme cbd it s not all about the cbd oil our muscle amp joint cream has been a massive help to me link in my profile thankyou afowler for your ongoing support we are teamsupreme neuropathy nerve damage https t co lkreqdt',\n",
              " 'okay all off for an exciting day put gas in my truck pick up prescriptions amp return exchange something at walmart before it gets too hot later',\n",
              " 'amsmitrs just a driver looks like olive oil garlic bay leaves possibly lemon just a driver',\n",
              " 'the pandemic is still raging pdx just let the maga feds off the hook on million in fees pdx just let the business assoc off the hook for k in violations newly substantiated links between cop gas attacks amp altered menstruation',\n",
              " 'fufu is supposed to be served with perfume oil',\n",
              " 'delivered to london uk thanks for your patronage my darling party earrings simple earrings and steel bracelet a free perfume oil https t co vqg q hrur',\n",
              " 'it would be cool if u guys gas this https t co u czrbgtjm https t co u czrbgtjm https t co u czrbgtjm',\n",
              " 'energy is important pillar of reform and investment partnership good meeting with hon minister for energy matthew opoku prempeh focus on renewable energy and electrical grid enhancement in ghana project with siemens company https t co fwum u su',\n",
              " 'very dear nri s and oci we just cannot produce oxygen out of thin air and push it into a gas cylinder or import oxygen concentrator overnight you left because you knew what it is',\n",
              " 'wisdom of the elves fine art print from my original oil painting size x inches price dollars free shipping to u s a https t co vjvpuccqz via etsy',\n",
              " 'this needs saying more often older people will have to make sacrifices in the fight against climate change or today s children will face a future of fighting wars for water and food the eu s deputy chief has warned https t co jrf arzvtx',\n",
              " 'hoursvantae when you stop posting the plastic oil man',\n",
              " 'gas delivery boys should have been considered as front line covid workers they are going door to door home to home during this entire pandemic narendramodi ji dpradhanbjp ji should consider them to vaccinate with priority amazed that no one told their story https t co wr zeaaqxh',\n",
              " 'oxygen refill in delhi agarwal gas plot no khasra number pooth khurd bawana road delhi m personally verified by ashishsharma rt karo sab',\n",
              " 'gas is cheap but no one is putting my txns into a block',\n",
              " 'esg etfs gain ground ironically with support of big oil esgu https t co pnnkcl wqu',\n",
              " 'leadermcconnell tell us mitch do you consider cleaning up abandoned polluting orphaned oil wells infrastructure spending https t co jv qgztkcz',\n",
              " 'catching up on this one folks get rightly nervous any time ransomware and critical infrastructure are in the same sentence and given the pandemic related experiences of last year with grocery supply chains perhaps more so there over say natural gas https t co mvrnpdjb',\n",
              " 'smoked beetroot amp brown rum pur e scotch bonnet oil confit asparagus with sunny side up quail egg amp bacon crust venison with lemon thyme stewj from my koppertcressuk subscription book with micro parsley also from my subscription box food chefjasonhoward chef like https t co nvdnnmxiv',\n",
              " 'louisiana is home to of the u s oil refineries emitting high levels of this carcinogen https t co trf sltw n via nolanews',\n",
              " 'as the fossil fuel industry era comes to an end it is necessary to take urgent action to ensure the cleanup costs fall on polluters not communities our report explores how the polluter pays principle can and should be applied to orphaned wells https t co tzjounz u',\n",
              " 'delivered to london uk thanks for your patronage my darling party earrings simple earrings and steel bracelet a free perfume oil https t co vqg q hrur',\n",
              " 'tt kgopa yaka ke ya gas ebile ke na le electric blanket but i m not even there yet i m still using sheet le duvet and motho yena ke sharp ka yena stru',\n",
              " 'how can beard oil help your beard check out some of the benefits here to discover why you should start using one immediately https t co dbndleokr via thesardarco menslifestyle beardgrowth',\n",
              " 'the high gdp growth under obj wasn t by luck despite low oil prices lower than today they had a vision and worked towards it imagine if buhari came in https t co n uxvap ov',\n",
              " 'joshmikkel was my savior when i ran out of gas',\n",
              " 'emerging hawk art x original expressionist wildlife oil painting by award winning artist kendall kessler https t co qmjeey uuf via etsy',\n",
              " 'from the shire to the sea fine art print from my original oil painting size x ins price dollars free shipping to u s a https t co khqy p pna via etsy',\n",
              " 'our forests are one of our nation s greatest treasures and one of the most effective natural carbon captures that exist to help combat the effects of climate change https t co i ig ugx',\n",
              " 'politicspollss humans are responsible for all sorts of thing it doesn t mean the climate change lot have got the solutions right',\n",
              " 'fufu is supposed to be served with perfume oil',\n",
              " 'arm amp gas vs nicolafasano universe raffaellapapa orchestral version out now in partnership with republicrecords islanddefjam france umg austria labelmca and virginrecordsit https t co jufs waez armandgas nicolafasano egomusic ego https t co p c ftbot',\n",
              " 'rivendell fine art print from my original oil painting size x price dollars free shipping to u s a https t co flamsnu r via etsy',\n",
              " 'anyone know what that rig looking yoke is out in the irishsea se of dublin out past the cargo ships test drilling for oil gas wind turbines dredging sand',\n",
              " 'april eddy hamel was murdered in a gas chamber in auschwitz born in nyc in as a teenager he moved to amsterdam st jewish player in afcajax he scored goals in league games after arrest in oct he was deported to auschwitz with his wife amp kids https t co rs ljnfz',\n",
              " 'new video found about construction men who had been working on the oil refinery took pity on the starving biafran children abandoned in port harcourt hospital during biafra amp nigeria war it s ridiculous to allow those who committed this world crime to go free freebiafra https t co j qhns ohs',\n",
              " 'all the haters go silent when eth gas is cheap',\n",
              " 'havenlust ja n land of olive oil in beautiful spain https t co jawzmibrdy',\n",
              " 'who could use some good environmental news https t co iycsrtmzh',\n",
              " 'i believe in science too i always have even before people started using it to talk about vaccinations science also speaks to climate change and how we ve been disrespecting the earth it s time to make a change https t co xw k ugxk',\n",
              " 'once again extinction rebellion is centring an imagined western victim narrative over very real climate change issues happening in real time specifically in the global south',\n",
              " 'milestone alert on saturday renewables met of the energy demand in california one of the world s largest economies our clean energy future is within reach renewablesrising https t co egtqdvi h',\n",
              " 'y all better buckle up it only gets worse from here gas will be bucks groceries will skyrocket goods and services will go through the roof we are getting price increases almost weekly for parts and materials in my industry',\n",
              " 'so after over years of loyal service to british gas i was fired because i refused to sign their new contract that would have me working more hours for less pay i ve taken my future back and we have set up d amp l heating facebook d amp l heating https t co qg syfnu https t co qxbdqu tf',\n",
              " 'john kerry invested in oil companies prior to becoming biden s climate envoy financial disclosures show https t co ur lh wkes',\n",
              " 'lmigaki we split utilities by account internet and water are similar costs so we each take one same with electricity and gas no bills are ever due the same day so i d go nuts trying to track them in a spreadsheet',\n",
              " 'foot worship dildo gag video up now you re welcome for the opportunity to watch me oil these up for you https t co iuhnli z s',\n",
              " 'not available when needed texas freeze amp the california august outages are examples of why there should be less solar and wind capacity added to the grid not more because the more renewable capacity there is the higher the risk of blackouts https t co sn phyh',\n",
              " 'oil is always a good ideaaaa ashton avenue https t co xrdz phrjl',\n",
              " 'so after over years of loyal service to british gas i was fired because i refused to sign their new contract that would have me working more hours for less pay i ve taken my future back and we have set up d amp l heating facebook d amp l heating https t co qg syfnu https t co qxbdqu tf',\n",
              " 'people in northern mali have political grievances but their socioeconomic situation is affected by water shortages amp desertification due to climate change amp other environmental factors mali thus needs more climate solutions not troops https t co ccutbysrdv via ajenglish',\n",
              " 'bill clinton massacred innocent iraqi babies via genocidal u s sanctions joe biden championed the iraq war since knowing saddam had no wmds which killed million iraqis directly for oil what has donald trump done that was equally wicked https t co q jhzm zqe',\n",
              " 'south coast after rain x cm oil on board landscape painting artgallery southcoast https t co wjampfeebd',\n",
              " 'gopleader the radical socialist communist administration is going to raise taxes on all americans n this country amp gas prices also they dont care if u voted biden or not all will suffer amp it s happening today its just the beginning taxes up to gas to or more u get what u vote',\n",
              " 'maybe news unlocks map biden on the board of the largest natural gas company in ukraine getting paid a month times as much as a board member of exxonmobil thank you ted he also made a fortune from china and others but zero before his father became v p https t co q dz m gb',\n",
              " 'israeli occupiers are illegally using remote controlled weaponised drones to spray injurious tear gas directly on palestinian civilians aboutpalestine https t co gjt l fln',\n",
              " 'breaking federal judge grants injunction preventing columbus pd from using tear gas wooden bullets https t co yfip ipunf via dispatchalerts https t co zfuv s ip',\n",
              " 'falklandsx talia christine not true you re forgetting all of the energy and pollution it takes to pump oil refine oil into gasoline and distribute it to gas stations then you have the emissions energy and pollution that goes into electricity depends on the power grid that s getting cleaner every day',\n",
              " 'the food security implications of climate change are startling research from david lobell davidblobell of center on food security and the environment foodsecurity su https t co wjrxjgr d',\n",
              " 'so after over years of loyal service to british gas i was fired because i refused to sign their new contract that would have me working more hours for less pay i ve taken my future back and we have set up d amp l heating facebook d amp l heating https t co qg syfnu https t co qxbdqu tf',\n",
              " 'a zero gap gas diffusion electrode based electrolyzer with improved stability natureenergyjnl https t co coar qadwp',\n",
              " 'buckgraver pvtjokerus and no gas to fill up the car after the crunch electric vehicles have no future you can t store electricity in a gallon can',\n",
              " 'jsdart in an airplane with her camera plus bayouterrier and me quoted in the same article about abandoned wells non existent oilandgas regulaton and methane more takeaways follow https t co tcqbpgob n',\n",
              " 'trevorbrindlejs ok i need some outdoor space without wind and some coleman white gas',\n",
              " 'bill clinton massacred innocent iraqi babies via genocidal u s sanctions joe biden championed the iraq war since knowing saddam had no wmds which killed million iraqis directly for oil what has donald trump done that was equally wicked https t co q jhzm zqe',\n",
              " 'keith mojoleecious catvaxlax adamger davidsmithwick bottomleyfiona well you run along and continue to be gullible listening to people peddling snake oil whilst real scientists get on with actual research',\n",
              " 'this shit is going to kill us harrison ford calls out leaders who deny climatechange ford a storied environmental activist condemned world leaders who attempted to make climate change a divisive issue to protect their own economic interests https t co fkctdz ln',\n",
              " 'imo in the news shipping and climate change global cooperation needed https t co gmw yv azg climatechange todaynewsafrica roelhoenders https t co nmlzau br',\n",
              " 'anyone know what that rig looking yoke is out in the irishsea se of dublin out past the cargo ships test drilling for oil gas wind turbines dredging sand',\n",
              " 'oil painting contemporary home decor abstract impressionism modern blue canvas title one stormy night https t co ucdudrcni tweeted via https t co iljm avikv https t co wxzwgircqh',\n",
              " 'pain loves our team so much fun working with djgregstreet today pain free gas giveaway kpattorney amp linda copeland pain freegas pain call after caraccident slipandfall call pain atlanta gasstation https t co vqe wqtvml',\n",
              " 'watching a coral reef die as climate change devastates one of the most pristine tropical island areas on earth by sam purkis https t co x ot u ogm',\n",
              " 'mr bacon by jo beer oil painting art https t co kx halb k artfinder https t co iqy uglpq',\n",
              " 'crazyscotsrabit not this much gas',\n",
              " 'the material realities will hit them hard and it s hitting already however the most important thing is to demolish that image it s all gas take care sa https t co hqpu h dz',\n",
              " 'sanfilti that s every man at every gas station ever she nailed it',\n",
              " 'idavemac wishingwontwork richarddawkins i m afraid without utilizing these sources we will just turn abuse of native american lands by oil and gas companies into abuse by lithium and raw ore mining companies notice even under biden those leases are not going away',\n",
              " 'lemuriantime m amp p or the psa ar are the consensus budget offerings but i d go w psa personally bc they ll actually sell you spare parts and they tend to have free float rails and adjustable gas for near same price as m amp p',\n",
              " 'pr sident biden has tied us economic growth and his political fortunes to a jobs programne linked to reducing us carbon emissions this is good for climate change but to make a real difference china and india must adopt similar policies see https t co g rzcdk mm',\n",
              " 'fireworks in the shire fine art print from my original oil painting size x ins price https t co pyxqyppdgr shipping to u s a https t co ddyrvsjeys via etsy',\n",
              " 's amp p dow nasdaq russell crude oil potus chaos https t co kjwyasbmck',\n",
              " 'flashbackfriday opening closing dj sets for iambeckyg such an amazing moment to witness a fantastic performance i miss playing for shoes newcitygas thisisprodukt tychemusic new city gas https t co ucktk egz',\n",
              " 'it wasn t until i took my foot off the gas that i realized how bad it had gotten https t co mjfoutkgvk',\n",
              " 'how does this defi gem make your cryptocurrency work smarter for fewer gas fees feat xfai official https t co ikwoyoirr https t co ikwoyoirr',\n",
              " 'hot hot hot we re announcing million to unlock the full potential of geothermal power to create good paying jobs for oil and gas workers power millions of homes and help tackle the climate crisis https t co es clcj uq https t co y yena g h',\n",
              " 'how alarmist should we be about climate change on this episode of coursecorrection host nelufar explores multiple solutions to climate change and how the scientific community could improve its messaging listen now https t co mxj ok aos https t co h xio v q',\n",
              " 'women will drive a car miles past the oil change sticker number',\n",
              " 'mzjacobson business howarth cornell markruffalo nygovcuomo joshfoxfilm heidihutner aoc that toxic radioactive pollution mostly occurs in native american areas and has done so since the s while nuke s current carbon footprint is somewhat lower than gas amp oil if the storage of the radioactive waste for hundreds of thousands of years is considered it s not',\n",
              " 'we call on the adb to issue a new energy policy that ends its financing not only of coal but all fossil fuels we cannot address the climateemergency with gas as transition fuel asiandevbank stopfunding fossilfuels',\n",
              " 'the fellowship breaking camp fine art print from my original oil painting size x price dollars free shipping to usa https t co zxgzhah v via etsy',\n",
              " 'april a hungarian jew arnold lowy was born in he was deported to auschwitz and murdered in a gas chamber https t co kfzxnednij',\n",
              " 'so after over years of loyal service to british gas i was fired because i refused to sign their new contract that would have me working more hours for less pay i ve taken my future back and we have set up d amp l heating facebook d amp l heating https t co qg syfnu https t co qxbdqu tf',\n",
              " 'bp exec pouring oil directly into a dolphin s blowhole it s actually your dog s fault',\n",
              " 'people in northern mali have political grievances but their socioeconomic situation is affected by water shortages amp desertification due to climate change amp other environmental factors mali thus needs more climate solutions not troops https t co ccutbysrdv via ajenglish',\n",
              " 'the health benefits of cinnamon oil https t co v olhqbecd',\n",
              " 'lilhomieromie hyperinflation on the way and i heard a voice from among the four living beings say a loaf of wheat bread or three loaves of barley will cost a day s pay and don t waste the olive oil and wine rev nlt',\n",
              " 'kieragenea i saw somewhere warm water and some oil but i ve never tried it',\n",
              " 'the ugly truth about renewable power zerohedge onpoli cdnpoli onleg yxu yxucc ldnont ldnont olp pcpo https t co zewgkfxkev',\n",
              " 'so after over years of loyal service to british gas i was fired because i refused to sign their new contract that would have me working more hours for less pay i ve taken my future back and we have set up d amp l heating facebook d amp l heating https t co qg syfnu https t co qxbdqu tf',\n",
              " 'winter oils mustard oil ml for inquiries https t co mvmsfocxfi fllw cosmeticszw list of other skin amp hair oil in the comment section treat acne cure cold amp cough anti inflammatory anti fungal anti bacterial tan amp dark spots removal natural sunscreen lightens the skin https t co p aohvxprm',\n",
              " 'txsleuthusa roseserao guys maybe jacking a car at the gas station is not the best plan',\n",
              " 'toryboypierce why because monies talk u perfidious obfuscatinng snake oil hawker u',\n",
              " 'thatgurlxo niggas at gas stations you got a light',\n",
              " 'i just struggled at the gas pump for mins trying to quickly insert and remove my card with these damn nails',\n",
              " 'imo in the news shipping and climate change global cooperation needed https t co gmw yv azg climatechange todaynewsafrica roelhoenders https t co nmlzau br',\n",
              " 'johnkerry how is that not a conflict of your interests',\n",
              " 'today is the last day of earthmonth but our activism doesn t stop here economicjustice is climatejustice because women are more likely to live in poverty than men climate change brings income loss and an increase in food and energy prices protect women and our environment https t co decn squt',\n",
              " 'boris johnson has signed off new oil and gas in the year the uk hosts global climate talks but people all over the uk want green jobs instead sign the petition https t co xmpgawc xj',\n",
              " 'fufu is supposed to be served with perfume oil',\n",
              " 'the real systemic issue is government greed',\n",
              " 'the pandemic is still raging pdx just let the maga feds off the hook on million in fees pdx just let the business assoc off the hook for k in violations newly substantiated links between cop gas attacks amp altered menstruation https t co cghrmxvu i',\n",
              " 'pixelsantas giveaway person on the nice list will receive pixelsanta free to enter follow santa retweet tag nft friends check out the other santas while gas is low ends https t co kupt jompn nftcommunity nfts nftartist nftdrop nftshare',\n",
              " 'i ain t gone lie i hate going to the gas station',\n",
              " 'palm oil and animal rights interesting read https t co y w dejgi',\n",
              " 'so after over years of loyal service to british gas i was fired because i refused to sign their new contract that would have me working more hours for less pay i ve taken my future back and we have set up d amp l heating facebook d amp l heating https t co qg syfnu https t co qxbdqu tf',\n",
              " 'so you know how ab lish complained last night that their bilingual nhs letter causes climate change and was evidence to get rid of the sennedd and hand control over to wastemonster well here s a letter from nhs england https t co dri fllfus',\n",
              " 'the leaving of rivendell fine art print from my original oil painting size x ins price dollars free shipping to usa https t co gbbzwejtui via etsy',\n",
              " 'lisakeel michelescott just a thought cannot hurt try organic coconut oil every day tbs daily to see if cognitive function improves',\n",
              " 'the high gdp growth under obj wasn t by luck despite low oil prices lower than today they had a vision and worked towards it imagine if buhari came in https t co n uxvap ov',\n",
              " 'repjeffries so you ll stop subsidizing oil and insurance companies',\n",
              " 'canada s economy largely revolves around making shelter unaffordable for young people and sticking them with the effects of climate change',\n",
              " 'so important big oil is in terminal decline will gov ts allow it to dump its clean up obligations onto the public on the way out the door or make them pay big new report from ciel tweets https t co cl vd m',\n",
              " 'is there any biscuit brand that doesn t have maida amp palm oil hydrogenated vegetable oil would want to get it been atleast yrs since i stopped eating biscuits home baked cookies given by cousins yes but it s so pathetic entire shop is loaded with biscuits all crap',\n",
              " 'oil paintings https t co gziqqbttdc',\n",
              " 'tom bombadil fine art print from my original oil painting size x free shipping to u s a https t co fubygvyeq via etsy',\n",
              " 'all manner of diversion and dalliance await those who cross the threshold with oil in hand oil my ass slave minute slave humiliation clip https t co hiziaswhy https t co wbwr m igo',\n",
              " 'the effects and consequences of climate change are being felt in communities nationwide what can be done our new page explores how you can support climate and environmental justice efforts and address climate change and environmental justice efforts https t co ywkwsqll d',\n",
              " 'had a whole class of very talented s s working hard today to turn last weeks fish drawings into some amazingly colourful oil pastel monoprints thank you louiseclazey for the idea and how to video what a fantastic idea https t co bcrgujanjn',\n",
              " 'dcherring he s jumpin jack flash it s a gas gas gas',\n",
              " 'jakiitaj mann i m in subway at the gas station and this lady by herself moving fast he gon say damn baby you move i see i m like wtf',\n",
              " 'p is live paraswap is now cheaper than uniswap new cutting edge gas token redux new state of the art algo hopper beating all dexs amp aggregators multi language support check it now at https t co wiwn dbqvm https t co heyyvivuv',\n",
              " 'something that has been haunting me all week is the perfume oil i bought for n on monday wish i could go back and return it cos i don t even like it',\n",
              " 'oil portrait demo of cat https t co s fhxl iq',\n",
              " 'john kerry invested in oil companies prior to becoming biden s climate envoy financial disclosures show kerry s total investments were valued between m and m fox news well looky looky',\n",
              " 'for all those that believe what they are being told about cow farts contributing to climate change you are seriously dumber than a potato',\n",
              " 'gas delivery boys should have been considered as front line covid workers they are going door to door home to home during this entire pandemic narendramodi ji dpradhanbjp ji should consider them to vaccinate with priority amazed that no one told their story https t co wr zeaaqxh',\n",
              " 'fufu is supposed to be served with perfume oil',\n",
              " 'john kerry invested in oil companies prior to becoming biden s climate envoy financial disclosures show https t co hktv ly qw',\n",
              " 'oxygen tanker has arrived at hindustan air gas address hindustan air product plot no sector faridabad haryana delhi harpal singh verified in evening april covidindiainfo covid indiahelp',\n",
              " 'why is moroccan oil an israeli company',\n",
              " 'olive trees thrive in israel and my olive tree sponsors are fulfilling prophecy making the desert bloom these trees are given the stability and water they need to grow producing olive oil products that help boost israel s economy learn more https t co dguv jmekq https t co dlxnwgfudr',\n",
              " 'tree beard fine art print from my original oil painting size x price dollars free shipping to usa https t co yhymmlixfk via etsy',\n",
              " 'kevinnbass rapeseed oil',\n",
              " 'rig count watch oil down to vs a year ago a year ago rig counts were in freefall natgas up to vs hz up to vs permian down to vs year ago oott',\n",
              " 'sittination mounthive ykb just didn t wanna gas him up to much look at brewster he had lots of hype aswell',\n",
              " 'edmthotiana you should have gone with gas tank',\n",
              " 'weightloss massage oil gives relaxation from obesity and body pain amp burn your fat naturally https t co i o st k j',\n",
              " 'temafudge sends all the gas',\n",
              " 'eyesohatetwtrr penskemedia sxsw yahoo cheap land in west texas is where they re discovering some of the richest oil fields ever found https t co zp peeuvpr',\n",
              " 'i don t know who you guys are to bash on people who own gas stations if you make an honest living and don t do others dirty there is nothing wrong with it',\n",
              " 'fufu is supposed to be served with perfume oil',\n",
              " 'dejease this was my rd attempt and i finally got them right but it s definitely healthy and since i m so scared of frying and hot oil splattering this air fryer has changed everything for me',\n",
              " 'south coast after rain x cm oil on board landscape painting artgallery southcoast https t co wjampfeebd',\n",
              " 'oil portrait demo of cat https t co s fhxl iq',\n",
              " 'power provider southern company signed an agreement to sell its wholesale gas business after the unit brought in million during the texas power crisis https t co edi brwpgx',\n",
              " 'jessrocks love gourda melts a treat without leaking tons of oil enjoy it hun will join you in a bevvie later myself',\n",
              " 'a year after the start of covid alberta lags all provinces in job recovery there are still fewer employees oil price is higher than pre pandemic levels and covid restrictions have been less restrictive than elsehwere so there s something else going on https t co z us jbqxr',\n",
              " 'ciiryaamo wadaniasal ogadenonline hassa galaalxoor cornbreadz ofaysal somaliweynta radiodaljir salim said sagal riovice sdm orc oladmohamed in the hypothetic case the gas is piped the number of direct job creation won t exceed positions mostly electro mechanical technicians but if the case the gas is used as feedstock for fertilizer to transform dallol potassium into npk the project will more than jobs',\n",
              " 'this needs saying more often older people will have to make sacrifices in the fight against climate change or today s children will face a future of fighting wars for water and food the eu s deputy chief has warned https t co jrf arzvtx',\n",
              " 'so after over years of loyal service to british gas i was fired because i refused to sign their new contract that would have me working more hours for less pay i ve taken my future back and we have set up d amp l heating facebook d amp l heating https t co qg syfnu https t co qxbdqu tf',\n",
              " 'so after over years of loyal service to british gas i was fired because i refused to sign their new contract that would have me working more hours for less pay i ve taken my future back and we have set up d amp l heating facebook d amp l heating https t co qg syfnu https t co qxbdqu tf',\n",
              " 'i feel nothing but pity for the conned and hatred for the snake oil salesmen and women that peddled the tory ponzi scheme that is the conservatives redwall',\n",
              " 'why do girls apply vaseline to their necks amp faces before they get into a fight the same reason we apply chrism oil to disciples of jesus at confirmation to make it difficult for our enemy to grab us during the battle in our walk toward eternity',\n",
              " 'i m really excited to share this curaffairs piece on abandoned oil and gas wells and the untold risks they impose on communities from coast to coast some key take aways https t co wbudjkphxs',\n",
              " 'just as the renewable energy sector benefited from renewable energy credits and tradeable credits and innovative fintech strategies the ag sector could benefit from the same approach https t co eaxtsolnmg sustainability',\n",
              " 'find your inner zen no matter where life takes you this peaceful essential oil blend mixes gentle lavender and marjoram with warm lush ho wood and vanilla roll it over your temples wrists or neck https t co om h lbo',\n",
              " 'a year old girl abducted from a gas station in tennessee was in the area to receive help from st jude children s hospital https t co mlhdazdewa https t co vvozj fjo',\n",
              " 'elliottcbi geraldkutney from who exactly brainwashed thats what you are to control you and to make billionaires even more money the new religion climate change and you have fallen in to the trap',\n",
              " 'so why the f k oil is rising russian roulette on peak mode everywhere commoditymarket',\n",
              " 'so after over years of loyal service to british gas i was fired because i refused to sign their new contract that would have me working more hours for less pay i ve taken my future back and we have set up d amp l heating facebook d amp l heating https t co qg syfnu https t co qxbdqu tf',\n",
              " 'photoshoot sun oil sexy beauty booty milf check out the set on https t co focvmmjomx hawker promo haywired allkindsofwomen natuky s nningbabes hottest babesrt bigtitbabes cmp u bedbunnyx amwalker bigboobiesworld tayfro ty https t co ejbr nqxdu',\n",
              " 'a bit of play house in the woods oil on linen painting from imagination https t co astgtdwzcz',\n",
              " 'us oil directed rig count declined by to oil shale opec oott https t co t mujicmj',\n",
              " 'also why tf go to burger king for a diet coke go to the gas station like a normal person',\n",
              " 'mzjacobson business howarth cornell markruffalo nygovcuomo joshfoxfilm heidihutner aoc that toxic radioactive pollution mostly occurs in native american areas and has done so since the s while nuke s current carbon footprint is somewhat lower than gas amp oil if the storage of the radioactive waste for hundreds of thousands of years is considered it s not',\n",
              " 'stand with traditional owners against fracking frackfreetweets getup with morrison poised to bail out the dirty gas industry we need your help to amplify the resistance of traditional owners fighting forced fracking on their land can you chip in https t co hxaac qif',\n",
              " 'cruz gets more from the oil and gas legal and real estate interests than from pacs the conservative columnist went on to say that cruz is not alone in ginning up faux outrage at corporations in an effort to look like a man of the people',\n",
              " 'life is abundant even as the climate is changing yes magazine https t co reyznngpg',\n",
              " 'rexchapman not sure about the strength of the gas stream but no matter what this was awesome lol',\n",
              " 'not available when needed texas freeze amp the california august outages are examples of why there should be less solar and wind capacity added to the grid not more because the more renewable capacity there is the higher the risk of blackouts https t co sn phyh',\n",
              " 'the mill hobbiton fine art print from my original oil painting size x ins https t co pyxqyppdgr shipping to u s a https t co j ryfrjqnp via etsy',\n",
              " 'the city of houston now internationally notorious for it s climate change induced flooding year after year is about to get hit yet again we cannot hold back mother nature for much longer we must stop emitting fossil fuels',\n",
              " 'also doing the right thing is a privilege the sacrifices are ridiculously minor in the big picture and those who can change the most amp have biggest impact are well educated and affluent and they may occasionally sponsor populists for tax reasons but are not themselves',\n",
              " 'simple and effective ways to deal with oil stains learn more https t co qalajxxj eaglerockexcavating eaglerocktucson keeplocaldoorsopen oilstains https t co bmjyiij v',\n",
              " 'theoriginalite well i think i ve found a way around that if you re wearing an apple watch right now look at it you ll see that there is a gas between your hand and the crown that s because of the area that protrudes out from under the watch to house the sensors',\n",
              " 'mi gop is moving a budget that would siphon off m in covid relief funds for dte and other private utilities the companies have already reaped tens of millions in excess profits during the pandemic https t co spnjwpwfa',\n",
              " 'apartment for rent bedroom bath this nice bed bath place in the area is available for included features are gas heat https t co oqhipdmhzq offcampusapartments offcampusrentals https t co icmbbrgmfl',\n",
              " 'deeper into fangorn fine art print from my original oil painting size x price https t co pyxqyppdgr shipping to u s a https t co pwov tdvd via etsy',\n",
              " 'here s the latest edition of my energy climate newsletter about cool things happening in denmark every time someone subscribes an angel gets its wings https t co xclvpuzqn',\n",
              " 'wait there are people who are actually bashing gas station owners the ignorance and arrogance required to shame someone trying to make an honest hustle is astronomical y all are clearly not built right and it shows',\n",
              " 'your way to health amp wealth cbd oil cbd oil cbd oil cbd oil new test on which cbd oil is best for your health cfx cbda cannabidiol cannabinoid dogs cats arthrosis cannabis cbd naturavitalis pets ctfo https t co ux m znma',\n",
              " 'mariusknulst yep all orchestrated by snake oil peddlers aka big pharma',\n",
              " 'important germany s constitutional court rules that a climate protection law which sets out emissions cuts over next decade amp beyond is partly unconstitutional because it shifted the climate burden of making painful reductions to future generations https t co moxblwyum',\n",
              " 'also doing the right thing is a privilege the sacrifices are ridiculously minor in the big picture and those who can change the most amp have biggest impact are well educated and affluent and they may occasionally sponsor populists for tax reasons but are not themselves https t co xrefysbrpw',\n",
              " 'bring back st lockdown gas prices bro',\n",
              " 'equador following an oil spill in the ecuadoran amazon that contaminated the coca river last year local indigenous groups reliant on the river are still struggling to adapt to alternative livelihoods via mongabay https t co br ipbjnb',\n",
              " 'bostonian elite garden variety dentist sometime surgeon interstate relief colleague private practice mostly congenial addict laughing gas amp garrote wire toplay triggers https t co fjuz qtnsj',\n",
              " 'a year after the start of covid alberta lags all provinces in job recovery there are still fewer employees oil price is higher than pre pandemic levels and covid restrictions have been less restrictive than elsehwere so there s something else going on https t co z us jbqxr',\n",
              " 'seems legit otoh the feds have also just told us all that stuff they used to write off as swamp gas really was ufos so trust a fed at your own peril',\n",
              " 'mrstoggit starbuckssue mindthinkr andy thecatscastle indycatbear baggaleyliz wackelkasper theminilion therealpokiloki kerrylalameow i think it has something to do with a gas tank or a vacuum cleaner bag',\n",
              " 'thinking abt how right after i met pixie i got harassed at a gas station',\n",
              " 'so after over years of loyal service to british gas i was fired because i refused to sign their new contract that would have me working more hours for less pay i ve taken my future back and we have set up d amp l heating facebook d amp l heating https t co qg syfnu https t co qxbdqu tf',\n",
              " 'so after over years of loyal service to british gas i was fired because i refused to sign their new contract that would have me working more hours for less pay i ve taken my future back and we have set up d amp l heating facebook d amp l heating https t co qg syfnu https t co qxbdqu tf',\n",
              " 'such an arbitrary limit tva tried the same but we got them to raise it to at least mw and did another run with no limit at all magically the model used all its allocation if one was given tva has since integrated more than mw in a year',\n",
              " 'we re currently experiencing several crises including climate change economic inequality institutional racism and covid disparities learn more about boston air erin genia s work to identify and address cultural emergencies https t co dv xjpe ir culturalemergency https t co qxmkuni f',\n",
              " 'foot worship dildo gag video up now you re welcome for the opportunity to watch me oil these up for you https t co iuhnli z s',\n",
              " 'us crude oil output fell in february to lowest since https t co ecmq of xa',\n",
              " 'remasculate he ll drive the price of gas up so high driving won t be an option hunter will own all the trains',\n",
              " 'this cbd cream is just fabulous on your skin superb for problem skin with its cbd qualities but also contains vitamin a c amp e plus collagen to combat aging skin',\n",
              " 'bverfg constitutional complaints against the federal climate change act partially successful https t co fxbddcvfdw',\n",
              " 'ukparliament nigeria was never meant to be one because of your greed for oil and money you created this mess year people are dying and corruption continues to spike and all you do is collect royalty uk let biafra go https t co zzahtt hg',\n",
              " 'i am not proud to say this but those gas station margaritas hit the spot last night',\n",
              " 'namibian villagers fight against canadian oil company reconafrica https t co vdnftjc cv skynews report rt ed via folcelli actonclimate ecologicalbreakdown savetheokavangodelta bleedingextractives frackrot support frackfree nb fff whk',\n",
              " 'it s arbor day and we know that our forests play a key role in combating climate change minnesota has room to improve in this area send a message to govtimwalz encouraging him to get his climate grades up https t co v qa or tf walzclimategrades https t co drwuxhzryk',\n",
              " 'senmarkey tells lawrence that president joe biden is right on message tying jobs to climate change the kind of climate bill that joe biden is proposing is going to be the greatest blue collar job creation engine in our country in two generations https t co mdrzowuyhd https t co p pk cbcy',\n",
              " 'we re hiring a data analyst for field operations in qatar work visa available open to qualified africans years oil gas in a large organisation years in performance management apply here https t co fblahfz bs',\n",
              " 'yashar better be an electric car otherwise gas is being guzzled for an animal who should be with it s parent off topic ps do vegans drive gas guzzlers',\n",
              " 'us baker hughes rig count apr prev rotary oil rigs est prev rotary gas rigs prev',\n",
              " 'the integrated gas masks and body armour are so so cool i ve got the d print versions with the arms as part of the body too but these resin parts with the option to swap arm choices is pretty tempting',\n",
              " 'so after over years of loyal service to british gas i was fired because i refused to sign their new contract that would have me working more hours for less pay i ve taken my future back and we have set up d amp l heating facebook d amp l heating https t co qg syfnu https t co qxbdqu tf',\n",
              " 'horse shit just fcuck off older people will have to make sacrifices in the fight against climate change or today s children will face a future of fighting wars for water and food the eu s deputy chief has warned https t co iqitxha yq',\n",
              " 'the sierra snow survey canceled due to not enough snow on the ground california s water supply is also at risk climate change has made those extremes even more prevalent orrock said https t co z loz ie',\n",
              " 'the evidence is clear climatechange and biodiversity loss are essentially interconnected in an op ed pespinosac of unfccc calls for leadership courage and determination to address these crises and shape a better future for humankind fornature https t co ikdrttqx k',\n",
              " 'winter oils mustard oil ml for inquiries https t co mvmsfocxfi fllw cosmeticszw list of other skin amp hair oil in the comment section treat acne cure cold amp cough anti inflammatory anti fungal anti bacterial tan amp dark spots removal natural sunscreen lightens the skin https t co p aohvxprm',\n",
              " 'the zoo contraption called nigeria was given to the fulani janjaweeds terrorists by the british that s why they owned over percent of the oil wells percent in control of the power percent monopoly of importation https t co off by ss',\n",
              " 'nickeardleybbc maggiechapman what maggie is saying is do obvious if you want to prepare for growing a new industry you need to plan and invest now while there is still some oil revenue coming in and independence gives the budgetary control necessary to study and make ready the infrastructure for that',\n",
              " ...]"
            ]
          },
          "metadata": {
            "tags": []
          },
          "execution_count": 64
        }
      ]
    },
    {
      "cell_type": "markdown",
      "metadata": {
        "id": "sctGU5av79fs"
      },
      "source": [
        "**Lemmatization**"
      ]
    },
    {
      "cell_type": "code",
      "metadata": {
        "colab": {
          "base_uri": "https://localhost:8080/"
        },
        "id": "jXR3VU8c77eP",
        "outputId": "12452120-cd9f-4e86-a9e1-c6cb5911d2b8"
      },
      "source": [
        "w_tokenizer = nltk.tokenize.WhitespaceTokenizer()\n",
        "lemmatizer = nltk.stem.WordNetLemmatizer()\n",
        "def lemmatize_text(text):\n",
        "  return [lemmatizer.lemmatize(w) for w in w_tokenizer.tokenize(text)]\n",
        "imp_tweets[\"text_lemmatized\"] = imp_tweets.tweets.apply(lemmatize_text)\n",
        "\n",
        "print(imp_tweets[\"text_lemmatized\"])"
      ],
      "execution_count": null,
      "outputs": [
        {
          "output_type": "stream",
          "text": [
            "0       [@yhaa_sark’s, Nkuto, For, Stronger,moisturize...\n",
            "1       [@us_ignorance, Look,, Russia, is, fighting, i...\n",
            "2                                  [Congratulations, DA💕]\n",
            "3       [Dear, @joelockhart:, Just, because, the, @GOP...\n",
            "4       [@unplasticday, @SDG2030, @ConEdison, @ConEdCE...\n",
            "                              ...                        \n",
            "2014    [Then,, you, still, the, brain-dead, climate, ...\n",
            "2015    [@KingNeverlies, The, others, work., But, that...\n",
            "2016    [A, reminder, that, @amnesty's, microsite, \"Te...\n",
            "2017    [Ocean, action, is, #ClimateAction!, A, new, U...\n",
            "2018    [A, year, after, the, start, of, COVID,, Alber...\n",
            "Name: text_lemmatized, Length: 2019, dtype: object\n"
          ],
          "name": "stdout"
        }
      ]
    },
    {
      "cell_type": "markdown",
      "metadata": {
        "id": "XJMZChvlp7X4"
      },
      "source": [
        "**Removing Stop words**"
      ]
    },
    {
      "cell_type": "code",
      "metadata": {
        "id": "d2YOL9_Yp8Ik"
      },
      "source": [
        "# As defined in the scikit-learn package\n",
        "custom_stop_words = ['gziqqbttdc','syfnu', 'qxbdqu', 'fufu', 'yriohq', 'uqmmznnedt', 'https', 'oott', 'khasra', 'tf','khurd']\n",
        "my_stop_words = text.ENGLISH_STOP_WORDS.union(custom_stop_words)"
      ],
      "execution_count": null,
      "outputs": []
    },
    {
      "cell_type": "markdown",
      "metadata": {
        "id": "6KkXoKFYrybS"
      },
      "source": [
        "**TF-IDF**"
      ]
    },
    {
      "cell_type": "code",
      "metadata": {
        "colab": {
          "base_uri": "https://localhost:8080/"
        },
        "id": "o_koHEHkry6E",
        "outputId": "af1c67db-8bd4-44a9-f73b-f8b0147b7bf2"
      },
      "source": [
        "vectorizer = TfidfVectorizer(min_df = 1, ngram_range = (1,1), \n",
        "                             stop_words = my_stop_words)\n",
        "\n",
        "tfidf = vectorizer.fit_transform(preprocessed)\n",
        "print(\"Created document-term matrix of size %d x %d\" % (tfidf.shape[0],tfidf.shape[1]))"
      ],
      "execution_count": null,
      "outputs": [
        {
          "output_type": "stream",
          "text": [
            "Created document-term matrix of size 2019 x 9628\n"
          ],
          "name": "stdout"
        }
      ]
    },
    {
      "cell_type": "markdown",
      "metadata": {
        "id": "cwRsnsqk9SCK"
      },
      "source": [
        "Non-Negative matrix factorization\n",
        "\n"
      ]
    },
    {
      "cell_type": "code",
      "metadata": {
        "colab": {
          "base_uri": "https://localhost:8080/"
        },
        "id": "C8crR0du9Sgm",
        "outputId": "85abeaf2-2c1e-423c-f492-d2d5f576c0ec"
      },
      "source": [
        "nmf = decomposition.NMF(init = 'nndsvd', n_components = 5, max_iter = 200)\n",
        "W = nmf.fit_transform(tfidf)\n",
        "H = nmf.components_\n",
        "print(\"Generated W(document-topic)) matrix of size %s and H (topic-word) matrix of size %s\" % ( str(W.shape), str(H.shape)))\n",
        "\n",
        "feature_names = vectorizer.get_feature_names()\n",
        "n_top_words = 10\n",
        "\n",
        "# Print top words in each topic\n",
        "for topic_idx, topic in enumerate(H):\n",
        "    print(\"Topic #%d:\" % topic_idx)\n",
        "    print(\" \".join([feature_names[i]\n",
        "                    for i in topic.argsort()[:-n_top_words - 1:-1]]))\n",
        "    print()"
      ],
      "execution_count": null,
      "outputs": [
        {
          "output_type": "stream",
          "text": [
            "Generated W(document-topic)) matrix of size (2019, 5) and H (topic-word) matrix of size (5, 9628)\n",
            "Topic #0:\n",
            "heating amp refused loyal contract taken facebook fired hours qg\n",
            "\n",
            "Topic #1:\n",
            "supposed served perfume oil paintings earrings painting cbd rig count\n",
            "\n",
            "Topic #2:\n",
            "kerry invested companies biden papers spirals joining czar admin climate\n",
            "\n",
            "Topic #3:\n",
            "amp facial cream super skin relentless skincareproducts acceptance hydrated leave\n",
            "\n",
            "Topic #4:\n",
            "delhi gas people oxygen verified oil uk let ukparliament biafra\n",
            "\n"
          ],
          "name": "stdout"
        }
      ]
    },
    {
      "cell_type": "markdown",
      "metadata": {
        "id": "Xbka_t6eI2PR"
      },
      "source": [
        "**Report and analyse the top words from TF-IDF matrix**"
      ]
    },
    {
      "cell_type": "markdown",
      "metadata": {
        "id": "QbxynHWkI-1R"
      },
      "source": [
        "The TF-IDF gives us the frequecy of each word in a document, a numnber thats proportional to its frequency in the document and inversely proportional to number of documents in which it appears. Based on our top words, there is no obvious pattern here, beyond the fact that oil, climate, gas and heating seem to characterize the majority of articles. What might be more interesting, is to separately consider groups of documents falling into a particular category."
      ]
    },
    {
      "cell_type": "markdown",
      "metadata": {
        "id": "Myo_pGmKSkML"
      },
      "source": [
        "## Q7 ii)\n",
        "At a high level, we believe that the TFIDF matrix is an effective indicator of the important topic. However, more data cleaning and noise reduction would be necessary to ensure that we're only picking up the important words; as it stands now, some of the outputs from the TFIDF matrix are not accurate indicators for our important topic.\n",
        "\n",
        "It would be worthwhile to explore changing our search terms within the topic, to see if this is an effective mechanism to eliminate some noise. Moreover, our team only scraped several thousand tweets; it would be more accurate to scrape hundreds of thousands of tweets to more accurately gauge the topic.\n",
        "\n",
        "Moreover, it may be necessary to conduct sentiment analysis to isolate perception towards this important topic. Otherwise, we'll pick up lots of keywords for which it is difficult to make specific inferences."
      ]
    },
    {
      "cell_type": "markdown",
      "metadata": {
        "id": "RChSCDLhT7-S"
      },
      "source": [
        "## **8.Twitter Sentiment Analytics**"
      ]
    },
    {
      "cell_type": "markdown",
      "metadata": {
        "id": "24f05nnbAMmA"
      },
      "source": [
        "# Vaccination Tweets"
      ]
    },
    {
      "cell_type": "code",
      "metadata": {
        "colab": {
          "base_uri": "https://localhost:8080/",
          "height": 195
        },
        "id": "IyezI8zGAOp7",
        "outputId": "943c6201-ae1a-479c-cd6d-33ecf981a8fe"
      },
      "source": [
        "vacc_tweets = pd.DataFrame(gather_data(vaccination_tweets))\n",
        "vacc_tweets.columns = ['tweets']\n",
        "vacc_tweets.head()"
      ],
      "execution_count": null,
      "outputs": [
        {
          "output_type": "execute_result",
          "data": {
            "text/html": [
              "<div>\n",
              "<style scoped>\n",
              "    .dataframe tbody tr th:only-of-type {\n",
              "        vertical-align: middle;\n",
              "    }\n",
              "\n",
              "    .dataframe tbody tr th {\n",
              "        vertical-align: top;\n",
              "    }\n",
              "\n",
              "    .dataframe thead th {\n",
              "        text-align: right;\n",
              "    }\n",
              "</style>\n",
              "<table border=\"1\" class=\"dataframe\">\n",
              "  <thead>\n",
              "    <tr style=\"text-align: right;\">\n",
              "      <th></th>\n",
              "      <th>tweets</th>\n",
              "    </tr>\n",
              "  </thead>\n",
              "  <tbody>\n",
              "    <tr>\n",
              "      <th>0</th>\n",
              "      <td>#ApolloHospitals will begin #vaccination for t...</td>\n",
              "    </tr>\n",
              "    <tr>\n",
              "      <th>1</th>\n",
              "      <td>Fantastic reporting by @ArunDev1 on people who...</td>\n",
              "    </tr>\n",
              "    <tr>\n",
              "      <th>2</th>\n",
              "      <td>@TrumpFrederick @secupp Im not talking about t...</td>\n",
              "    </tr>\n",
              "    <tr>\n",
              "      <th>3</th>\n",
              "      <td>India’s surge is as a result of the vaccine !!...</td>\n",
              "    </tr>\n",
              "    <tr>\n",
              "      <th>4</th>\n",
              "      <td>People are having vaccination parties to celeb...</td>\n",
              "    </tr>\n",
              "  </tbody>\n",
              "</table>\n",
              "</div>"
            ],
            "text/plain": [
              "                                              tweets\n",
              "0  #ApolloHospitals will begin #vaccination for t...\n",
              "1  Fantastic reporting by @ArunDev1 on people who...\n",
              "2  @TrumpFrederick @secupp Im not talking about t...\n",
              "3  India’s surge is as a result of the vaccine !!...\n",
              "4  People are having vaccination parties to celeb..."
            ]
          },
          "metadata": {
            "tags": []
          },
          "execution_count": 69
        }
      ]
    },
    {
      "cell_type": "code",
      "metadata": {
        "colab": {
          "base_uri": "https://localhost:8080/",
          "height": 195
        },
        "id": "uXYXTwocAQnq",
        "outputId": "3faebe3e-da47-42db-f7ed-d1fd8f79fd7c"
      },
      "source": [
        "def clean_text(string_in):\n",
        "    string_in = re.sub(\"[^a-zA-Z]\", \" \", str(string_in))  # Replace all non-letters with spaces\n",
        "    string_in = string_in.lower()                         # Tranform to lower case    \n",
        "    \n",
        "    return string_in.strip()\n",
        "\n",
        "vacc_tweets[\"tweets_cleaned\"] = vacc_tweets.tweets.apply(clean_text)\n",
        "vacc_tweets.head()"
      ],
      "execution_count": null,
      "outputs": [
        {
          "output_type": "execute_result",
          "data": {
            "text/html": [
              "<div>\n",
              "<style scoped>\n",
              "    .dataframe tbody tr th:only-of-type {\n",
              "        vertical-align: middle;\n",
              "    }\n",
              "\n",
              "    .dataframe tbody tr th {\n",
              "        vertical-align: top;\n",
              "    }\n",
              "\n",
              "    .dataframe thead th {\n",
              "        text-align: right;\n",
              "    }\n",
              "</style>\n",
              "<table border=\"1\" class=\"dataframe\">\n",
              "  <thead>\n",
              "    <tr style=\"text-align: right;\">\n",
              "      <th></th>\n",
              "      <th>tweets</th>\n",
              "      <th>tweets_cleaned</th>\n",
              "    </tr>\n",
              "  </thead>\n",
              "  <tbody>\n",
              "    <tr>\n",
              "      <th>0</th>\n",
              "      <td>#ApolloHospitals will begin #vaccination for t...</td>\n",
              "      <td>apollohospitals will begin  vaccination for th...</td>\n",
              "    </tr>\n",
              "    <tr>\n",
              "      <th>1</th>\n",
              "      <td>Fantastic reporting by @ArunDev1 on people who...</td>\n",
              "      <td>fantastic reporting by  arundev  on people who...</td>\n",
              "    </tr>\n",
              "    <tr>\n",
              "      <th>2</th>\n",
              "      <td>@TrumpFrederick @secupp Im not talking about t...</td>\n",
              "      <td>trumpfrederick  secupp im not talking about th...</td>\n",
              "    </tr>\n",
              "    <tr>\n",
              "      <th>3</th>\n",
              "      <td>India’s surge is as a result of the vaccine !!...</td>\n",
              "      <td>india s surge is as a result of the vaccine   ...</td>\n",
              "    </tr>\n",
              "    <tr>\n",
              "      <th>4</th>\n",
              "      <td>People are having vaccination parties to celeb...</td>\n",
              "      <td>people are having vaccination parties to celeb...</td>\n",
              "    </tr>\n",
              "  </tbody>\n",
              "</table>\n",
              "</div>"
            ],
            "text/plain": [
              "                                              tweets                                     tweets_cleaned\n",
              "0  #ApolloHospitals will begin #vaccination for t...  apollohospitals will begin  vaccination for th...\n",
              "1  Fantastic reporting by @ArunDev1 on people who...  fantastic reporting by  arundev  on people who...\n",
              "2  @TrumpFrederick @secupp Im not talking about t...  trumpfrederick  secupp im not talking about th...\n",
              "3  India’s surge is as a result of the vaccine !!...  india s surge is as a result of the vaccine   ...\n",
              "4  People are having vaccination parties to celeb...  people are having vaccination parties to celeb..."
            ]
          },
          "metadata": {
            "tags": []
          },
          "execution_count": 70
        }
      ]
    },
    {
      "cell_type": "code",
      "metadata": {
        "id": "e5UxrEZzAiC5"
      },
      "source": [
        "preprocessed = [\" \".join(RegexpTokenizer(r'\\w+').tokenize(vacc_tweets.tweets_cleaned[idx])) for idx in vacc_tweets.index]"
      ],
      "execution_count": null,
      "outputs": []
    },
    {
      "cell_type": "code",
      "metadata": {
        "colab": {
          "base_uri": "https://localhost:8080/"
        },
        "id": "7aVMiQZZHA1b",
        "outputId": "ac839732-29d3-494e-e0a7-326015178b21"
      },
      "source": [
        "w_tokenizer = nltk.tokenize.WhitespaceTokenizer()\n",
        "lemmatizer = nltk.stem.WordNetLemmatizer()\n",
        "def lemmatize_text(text):\n",
        "  return [lemmatizer.lemmatize(w) for w in w_tokenizer.tokenize(text)]\n",
        "vacc_tweets[\"text_lemmatized\"] = vacc_tweets.tweets.apply(lemmatize_text)\n",
        "\n",
        "print(vacc_tweets[\"text_lemmatized\"])"
      ],
      "execution_count": null,
      "outputs": [
        {
          "output_type": "stream",
          "text": [
            "0      [#ApolloHospitals, will, begin, #vaccination, ...\n",
            "1      [Fantastic, reporting, by, @ArunDev1, on, peop...\n",
            "2      [@TrumpFrederick, @secupp, Im, not, talking, a...\n",
            "3      [India’s, surge, is, a, a, result, of, the, va...\n",
            "4      [People, are, having, vaccination, party, to, ...\n",
            "                             ...                        \n",
            "899    [Vaccination, passport, will, be, the, ditch, ...\n",
            "900    [⚠️, A, Very, Serious, Concern,, Folks, ⚠️, 💉,...\n",
            "901    [Live, music, at, Las, Vegas, vaccination, sit...\n",
            "902    [🏴󠁧󠁢󠁳󠁣󠁴󠁿, As, Scotland, completes, coronavirus...\n",
            "903    [My, friend, Mum, in, Hyderabad, need, medicin...\n",
            "Name: text_lemmatized, Length: 904, dtype: object\n"
          ],
          "name": "stdout"
        }
      ]
    },
    {
      "cell_type": "code",
      "metadata": {
        "id": "Z_xBf9YTA_UW"
      },
      "source": [
        "# As defined in the scikit-learn package\n",
        "custom_stop_words = ['gziqqbttdc','syfnu', 'qxbdqu', 'fufu', 'yriohq', 'uqmmznnedt', 'https', 'oott', 'khasra', 'tf','khurd']\n",
        "my_stop_words = text.ENGLISH_STOP_WORDS.union(custom_stop_words)"
      ],
      "execution_count": null,
      "outputs": []
    },
    {
      "cell_type": "code",
      "metadata": {
        "colab": {
          "base_uri": "https://localhost:8080/"
        },
        "id": "KI7mEFcqBLN8",
        "outputId": "14485946-2981-479b-88ff-8a8175b8a765"
      },
      "source": [
        "vectorizer = TfidfVectorizer(min_df = 1, ngram_range = (1,1), \n",
        "                             stop_words = my_stop_words)\n",
        "\n",
        "tfidf = vectorizer.fit_transform(preprocessed)\n",
        "print(\"Created document-term matrix of size %d x %d\" % (tfidf.shape[0],tfidf.shape[1]))"
      ],
      "execution_count": null,
      "outputs": [
        {
          "output_type": "stream",
          "text": [
            "Created document-term matrix of size 904 x 4380\n"
          ],
          "name": "stdout"
        }
      ]
    },
    {
      "cell_type": "code",
      "metadata": {
        "colab": {
          "base_uri": "https://localhost:8080/"
        },
        "id": "ZrEeGSUNBROy",
        "outputId": "14872192-f113-46bf-e498-6d383a73ca4e"
      },
      "source": [
        "nmf = decomposition.NMF(init = 'nndsvd', n_components = 5, max_iter = 200)\n",
        "W = nmf.fit_transform(tfidf)\n",
        "H = nmf.components_\n",
        "print(\"Generated W(document-topic)) matrix of size %s and H (topic-word) matrix of size %s\" % ( str(W.shape), str(H.shape)))\n",
        "\n",
        "feature_names = vectorizer.get_feature_names()\n",
        "n_top_words = 10\n",
        "\n",
        "# Print top words in each topic\n",
        "for topic_idx, topic in enumerate(H):\n",
        "    print(\"Topic #%d:\" % topic_idx)\n",
        "    print(\" \".join([feature_names[i]\n",
        "                    for i in topic.argsort()[:-n_top_words - 1:-1]]))\n",
        "    print()"
      ],
      "execution_count": null,
      "outputs": [
        {
          "output_type": "stream",
          "text": [
            "Generated W(document-topic)) matrix of size (904, 5) and H (topic-word) matrix of size (5, 4380)\n",
            "Topic #0:\n",
            "hyderabad thymosin mg covidhelphyderabad urgently alpha appreciated medicines friend medicine\n",
            "\n",
            "Topic #1:\n",
            "zwcqaxc yo watching usa vaccinate country age getting people covid\n",
            "\n",
            "Topic #2:\n",
            "selenagomez borisjohnson potus vp uk vaxlive onecampaign znoatd commit thanks\n",
            "\n",
            "Topic #3:\n",
            "fake people cards reflect frown immigrants documents undocumented families buying\n",
            "\n",
            "Topic #4:\n",
            "vaccine covid doctor kenyan dies anti dnuowtud bre biihuo karanja\n",
            "\n"
          ],
          "name": "stdout"
        }
      ]
    },
    {
      "cell_type": "markdown",
      "metadata": {
        "id": "8ZLdloStCDxx"
      },
      "source": [
        "# Covid Tweets"
      ]
    },
    {
      "cell_type": "code",
      "metadata": {
        "colab": {
          "base_uri": "https://localhost:8080/",
          "height": 195
        },
        "id": "79XDd1MjCFBJ",
        "outputId": "499d1ce2-1ba0-4c25-d8a2-f2d7caddd245"
      },
      "source": [
        "cov_tweets = pd.DataFrame(gather_data(covid_tweets))\n",
        "cov_tweets.columns = ['tweets']\n",
        "\n",
        "cov_tweets[\"tweets_cleaned\"] = cov_tweets.tweets.apply(clean_text)\n",
        "cov_tweets.head()"
      ],
      "execution_count": null,
      "outputs": [
        {
          "output_type": "execute_result",
          "data": {
            "text/html": [
              "<div>\n",
              "<style scoped>\n",
              "    .dataframe tbody tr th:only-of-type {\n",
              "        vertical-align: middle;\n",
              "    }\n",
              "\n",
              "    .dataframe tbody tr th {\n",
              "        vertical-align: top;\n",
              "    }\n",
              "\n",
              "    .dataframe thead th {\n",
              "        text-align: right;\n",
              "    }\n",
              "</style>\n",
              "<table border=\"1\" class=\"dataframe\">\n",
              "  <thead>\n",
              "    <tr style=\"text-align: right;\">\n",
              "      <th></th>\n",
              "      <th>tweets</th>\n",
              "      <th>tweets_cleaned</th>\n",
              "    </tr>\n",
              "  </thead>\n",
              "  <tbody>\n",
              "    <tr>\n",
              "      <th>0</th>\n",
              "      <td>The @NatGeo documentary \"Mission Possible-The ...</td>\n",
              "      <td>the  natgeo documentary  mission possible the ...</td>\n",
              "    </tr>\n",
              "    <tr>\n",
              "      <th>1</th>\n",
              "      <td>After refusing to budge on PCR cycle threshold...</td>\n",
              "      <td>after refusing to budge on pcr cycle threshold...</td>\n",
              "    </tr>\n",
              "    <tr>\n",
              "      <th>2</th>\n",
              "      <td>free /friː/\\nadjective, adverb\\n\\ncosting noth...</td>\n",
              "      <td>free  fri   adjective  adverb  costing nothing...</td>\n",
              "    </tr>\n",
              "    <tr>\n",
              "      <th>3</th>\n",
              "      <td>@MobilePunch This headline should read Pfizer-...</td>\n",
              "      <td>mobilepunch this headline should read pfizer b...</td>\n",
              "    </tr>\n",
              "    <tr>\n",
              "      <th>4</th>\n",
              "      <td>@bhrenton Given the date of campus departure, ...</td>\n",
              "      <td>bhrenton given the date of campus departure  s...</td>\n",
              "    </tr>\n",
              "  </tbody>\n",
              "</table>\n",
              "</div>"
            ],
            "text/plain": [
              "                                              tweets                                     tweets_cleaned\n",
              "0  The @NatGeo documentary \"Mission Possible-The ...  the  natgeo documentary  mission possible the ...\n",
              "1  After refusing to budge on PCR cycle threshold...  after refusing to budge on pcr cycle threshold...\n",
              "2  free /friː/\\nadjective, adverb\\n\\ncosting noth...  free  fri   adjective  adverb  costing nothing...\n",
              "3  @MobilePunch This headline should read Pfizer-...  mobilepunch this headline should read pfizer b...\n",
              "4  @bhrenton Given the date of campus departure, ...  bhrenton given the date of campus departure  s..."
            ]
          },
          "metadata": {
            "tags": []
          },
          "execution_count": 76
        }
      ]
    },
    {
      "cell_type": "code",
      "metadata": {
        "id": "HtdU1z0fCQ1_"
      },
      "source": [
        "preprocessed = [\" \".join(RegexpTokenizer(r'\\w+').tokenize(cov_tweets.tweets_cleaned[idx])) for idx in cov_tweets.index]"
      ],
      "execution_count": null,
      "outputs": []
    },
    {
      "cell_type": "code",
      "metadata": {
        "colab": {
          "base_uri": "https://localhost:8080/"
        },
        "id": "CofRCcsOHNbc",
        "outputId": "71b23db3-15e8-4181-ab48-a9c12f6f303a"
      },
      "source": [
        "w_tokenizer = nltk.tokenize.WhitespaceTokenizer()\n",
        "lemmatizer = nltk.stem.WordNetLemmatizer()\n",
        "def lemmatize_text(text):\n",
        "  return [lemmatizer.lemmatize(w) for w in w_tokenizer.tokenize(text)]\n",
        "cov_tweets[\"text_lemmatized\"] = cov_tweets.tweets.apply(lemmatize_text)\n",
        "\n",
        "print(cov_tweets[\"text_lemmatized\"])"
      ],
      "execution_count": null,
      "outputs": [
        {
          "output_type": "stream",
          "text": [
            "0       [The, @NatGeo, documentary, \"Mission, Possible...\n",
            "1       [After, refusing, to, budge, on, PCR, cycle, t...\n",
            "2       [free, /friː/, adjective,, adverb, costing, no...\n",
            "3       [@MobilePunch, This, headline, should, read, P...\n",
            "4       [@bhrenton, Given, the, date, of, campus, depa...\n",
            "                              ...                        \n",
            "1325    [Second, Moderna, Shot!, In, two, week, I’ll, ...\n",
            "1326    [Speaker, Jason, Wentworth, is, concerned, abo...\n",
            "1327    [.@IBMSecurity, said, that,, in, 2020,, phishi...\n",
            "1328    [Biden, won't, rule, out, requiring, U.S., ser...\n",
            "1329    [If, you’re, 30-39, y/o, (non-priority),, you,...\n",
            "Name: text_lemmatized, Length: 1330, dtype: object\n"
          ],
          "name": "stdout"
        }
      ]
    },
    {
      "cell_type": "code",
      "metadata": {
        "colab": {
          "base_uri": "https://localhost:8080/"
        },
        "id": "MTKBl4aGCVLM",
        "outputId": "1a436e63-6596-4a2a-df49-6762ceac7a6d"
      },
      "source": [
        "vectorizer = TfidfVectorizer(min_df = 1, ngram_range = (1,1), \n",
        "                             stop_words = my_stop_words)\n",
        "\n",
        "tfidf = vectorizer.fit_transform(preprocessed)\n",
        "print(\"Created document-term matrix of size %d x %d\" % (tfidf.shape[0],tfidf.shape[1]))"
      ],
      "execution_count": null,
      "outputs": [
        {
          "output_type": "stream",
          "text": [
            "Created document-term matrix of size 1330 x 4998\n"
          ],
          "name": "stdout"
        }
      ]
    },
    {
      "cell_type": "code",
      "metadata": {
        "id": "4jlomKBxCzwm"
      },
      "source": [
        "# As defined in the scikit-learn package\n",
        "custom_stop_words = ['gziqqbttdc','syfnu', 'qxbdqu', 'fufu', 'yriohq', 'uqmmznnedt', 'https', 'oott', 'khasra', 'tf','khurd','zwcqaxc ','vxpgkup','vaers']\n",
        "my_stop_words = text.ENGLISH_STOP_WORDS.union(custom_stop_words)"
      ],
      "execution_count": null,
      "outputs": []
    },
    {
      "cell_type": "code",
      "metadata": {
        "colab": {
          "base_uri": "https://localhost:8080/"
        },
        "id": "ULziSemsCWAy",
        "outputId": "3caf3e58-f54b-4e88-ac91-27f7bc0b6f06"
      },
      "source": [
        "nmf = decomposition.NMF(init = 'nndsvd', n_components = 5, max_iter = 200)\n",
        "W = nmf.fit_transform(tfidf)\n",
        "H = nmf.components_\n",
        "print(\"Generated W(document-topic)) matrix of size %s and H (topic-word) matrix of size %s\" % ( str(W.shape), str(H.shape)))\n",
        "\n",
        "feature_names = vectorizer.get_feature_names()\n",
        "n_top_words = 10\n",
        "\n",
        "# Print top words in each topic\n",
        "for topic_idx, topic in enumerate(H):\n",
        "    print(\"Topic #%d:\" % topic_idx)\n",
        "    print(\" \".join([feature_names[i]\n",
        "                    for i in topic.argsort()[:-n_top_words - 1:-1]]))\n",
        "    print()"
      ],
      "execution_count": null,
      "outputs": [
        {
          "output_type": "stream",
          "text": [
            "Generated W(document-topic)) matrix of size (1330, 5) and H (topic-word) matrix of size (5, 4998)\n",
            "Topic #0:\n",
            "zwcqaxc watching yo usa vaccinate age country getting people covid\n",
            "\n",
            "Topic #1:\n",
            "vaers reports week backlog database moly rise holy federal updated\n",
            "\n",
            "Topic #2:\n",
            "people warning remain cautious nv vxpgkup admitted figures suggested researchers\n",
            "\n",
            "Topic #3:\n",
            "view drive continue centers open need vaccine covid produce cares\n",
            "\n",
            "Topic #4:\n",
            "vaccine covid pfizer dose moderna amp doses india vaccines nd\n",
            "\n"
          ],
          "name": "stdout"
        }
      ]
    },
    {
      "cell_type": "markdown",
      "metadata": {
        "id": "Y61rT4BMRdhK"
      },
      "source": [
        "**Sentiment Analysis for COVID-19 Vaccination tweets**"
      ]
    },
    {
      "cell_type": "code",
      "metadata": {
        "colab": {
          "base_uri": "https://localhost:8080/"
        },
        "id": "1kOiN6kTQWaQ",
        "outputId": "12ea754d-52de-4a3b-b1e0-d17a803d7f04"
      },
      "source": [
        "from nltk.sentiment.vader import SentimentIntensityAnalyzer\n",
        "nltk.downloader.download('vader_lexicon')\n",
        "total_score=0\n",
        "\n",
        "tweets = cov_tweets[\"tweets_cleaned\"]\n",
        "sentiment = SentimentIntensityAnalyzer()\n",
        "for sentence in tweets:\t\t\t\t\t\t\n",
        "  ss = sentiment.polarity_scores(sentence)\t\t\t\t\t\t\n",
        "  total_score -= ss[\"neg\"]\t\t\t\t\t\t\n",
        "  total_score += ss[\"pos\"]\t\t\t\t\t\t\t\t\t\t\n",
        "  total_score = round(total_score,3)\t\t\t\t\t\t\t\t\t\t\n",
        "\n",
        "total_score"
      ],
      "execution_count": null,
      "outputs": [
        {
          "output_type": "stream",
          "text": [
            "[nltk_data] Downloading package vader_lexicon to /root/nltk_data...\n"
          ],
          "name": "stdout"
        },
        {
          "output_type": "execute_result",
          "data": {
            "text/plain": [
              "33.533"
            ]
          },
          "metadata": {
            "tags": []
          },
          "execution_count": 84
        }
      ]
    },
    {
      "cell_type": "markdown",
      "metadata": {
        "id": "tu4e0L1MRpOM"
      },
      "source": [
        "**Sentiment Analysis for Vaccination Tweets**"
      ]
    },
    {
      "cell_type": "code",
      "metadata": {
        "colab": {
          "base_uri": "https://localhost:8080/"
        },
        "id": "sQrFijZDRpON",
        "outputId": "d3d9aa2d-4fce-465c-df92-7b43a2a0964f"
      },
      "source": [
        "total_score=0\n",
        "\n",
        "tweets = vacc_tweets[\"tweets_cleaned\"]\n",
        "sentiment = SentimentIntensityAnalyzer()\n",
        "for sentence in tweets:\t\t\t\t\t\t\n",
        "  ss = sentiment.polarity_scores(sentence)\t\t\t\t\t\t\n",
        "  total_score -= ss[\"neg\"]\t\t\t\t\t\t\n",
        "  total_score += ss[\"pos\"]\t\t\t\t\t\t\t\t\t\t\n",
        "  total_score = round(total_score,3)\t\t\t\t\t\t\t\t\t\t\n",
        "\n",
        "total_score"
      ],
      "execution_count": null,
      "outputs": [
        {
          "output_type": "execute_result",
          "data": {
            "text/plain": [
              "20.835"
            ]
          },
          "metadata": {
            "tags": []
          },
          "execution_count": 85
        }
      ]
    },
    {
      "cell_type": "markdown",
      "metadata": {
        "id": "MV-i3Z6EStwl"
      },
      "source": [
        "**Analyze the difference between the sentiment of the public towards the\n",
        "vaccination as a whole versus the COVID-19 vaccination**"
      ]
    },
    {
      "cell_type": "markdown",
      "metadata": {
        "id": "Tj29BG-dUIXP"
      },
      "source": [
        "While both Vaccination and COVID-19 Vaccination have positive overall sentiments, COVID-19 Vaccination tweets have a higher positive sentiment as opposed to Vaccination tweets. The two corpuses have overlapping topics, and in many cases, it was hard to differentiate sentiment towards vaccinations (most of which are COVID-related right now) and COVID-19 in general."
      ]
    }
  ]
}